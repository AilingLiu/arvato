{
 "cells": [
  {
   "cell_type": "markdown",
   "metadata": {},
   "source": [
    "## Part 1: Customer Segmentation Report"
   ]
  },
  {
   "cell_type": "code",
   "execution_count": 1,
   "metadata": {},
   "outputs": [],
   "source": [
    "import numpy as np\n",
    "import pandas as pd\n",
    "import sys\n",
    "import pickle\n",
    "import matplotlib\n",
    "import matplotlib.pyplot as plt\n",
    "import seaborn as sns\n",
    "\n",
    "from sklearn.pipeline import Pipeline\n",
    "from sklearn.preprocessing import StandardScaler\n",
    "from sklearn.impute import SimpleImputer\n",
    "from sklearn.decomposition import PCA\n",
    "from sklearn.cluster import KMeans\n",
    "from sklearn.externals import joblib\n",
    "\n",
    "from fit_clustering import build_model\n",
    "\n",
    "%matplotlib inline"
   ]
  },
  {
   "cell_type": "code",
   "execution_count": 2,
   "metadata": {},
   "outputs": [],
   "source": [
    "def print_cluster_props():\n",
    "    '''Compare the proportion of data in each cluster for the customer data to the\n",
    "    proportion of data in each cluster for the general population.'''\n",
    "\n",
    "    pop = pd.Series(population_labels)\n",
    "    cust = pd.Series(customer_labels)\n",
    "\n",
    "    plt.subplot(2, 1, 1)\n",
    "    ax1 = plt.bar(pop.value_counts().index, pop.value_counts() / pop.value_counts().sum())\n",
    "    plt.ylabel('Population %')\n",
    "\n",
    "    plt.subplot(2, 1, 2)\n",
    "    ax2 = plt.bar(cust.value_counts().index, cust.value_counts() / cust.value_counts().sum())\n",
    "    plt.ylabel('Customer %')\n",
    "\n",
    "    plt.show()"
   ]
  },
  {
   "cell_type": "code",
   "execution_count": 3,
   "metadata": {},
   "outputs": [],
   "source": [
    "def print_interesting_features(features, components, i):\n",
    "    '''Map weights for the principal component to corresponding feature names\n",
    "    and then print the linked values, sorted by weight'''\n",
    "    \n",
    "    feature_weights = dict(zip(features, components[i]))\n",
    "    feature_weights_sorted = sorted(feature_weights.items(), key=lambda kv: kv[1])\n",
    "    print('Lowest:')\n",
    "    for feature, weight in feature_weights_sorted[:3]:\n",
    "        print('\\t{:20} {:.3f}'.format(feature, weight))\n",
    "        \n",
    "    print('Highest:')\n",
    "    for feature, weight in feature_weights_sorted[-3:]:\n",
    "        print('\\t{:20} {:.3f}'.format(feature, weight))"
   ]
  },
  {
   "cell_type": "code",
   "execution_count": 4,
   "metadata": {},
   "outputs": [],
   "source": [
    "# load the cleaned data\n",
    "azdias_clean = pd.read_csv('data/Udacity_AZDIAS_052018_clean.csv', sep=';')"
   ]
  },
  {
   "cell_type": "code",
   "execution_count": 5,
   "metadata": {},
   "outputs": [],
   "source": [
    "# Load cleaned customer data\n",
    "customers_clean = pd.read_csv('data/Udacity_CUSTOMERS_052018_clean.csv', sep=';')"
   ]
  },
  {
   "cell_type": "code",
   "execution_count": 23,
   "metadata": {},
   "outputs": [
    {
     "name": "stdout",
     "output_type": "stream",
     "text": [
      "Fitting model...\n",
      "Saving model...\n"
     ]
    }
   ],
   "source": [
    "# Build model\n",
    "pca_n = 76\n",
    "n_clusters = 5\n",
    "clust_model = build_model(pca_n, n_clusters)\n",
    "\n",
    "print('Fitting model...')\n",
    "clust_model.fit(azdias_clean)\n",
    "\n",
    "print('Saving model...')\n",
    "f = open('clust_model' + str(n_clusters) + '.pkl', 'wb')\n",
    "pickle.dump(clust_model, f)"
   ]
  },
  {
   "cell_type": "code",
   "execution_count": 6,
   "metadata": {},
   "outputs": [],
   "source": [
    "# or load model if already fitted\n",
    "clust_model = joblib.load('clust_model5.pkl')"
   ]
  },
  {
   "cell_type": "code",
   "execution_count": 7,
   "metadata": {},
   "outputs": [
    {
     "data": {
      "text/plain": [
       "array([2, 2, 0, 3, 2, 2, 2, 0, 3, 4])"
      ]
     },
     "execution_count": 7,
     "metadata": {},
     "output_type": "execute_result"
    }
   ],
   "source": [
    "population_labels = clust_model.predict(azdias_clean)\n",
    "population_labels[:10]"
   ]
  },
  {
   "cell_type": "code",
   "execution_count": 8,
   "metadata": {},
   "outputs": [
    {
     "data": {
      "text/plain": [
       "array([0, 4, 0, 3, 0, 0, 0, 4, 3, 3])"
      ]
     },
     "execution_count": 8,
     "metadata": {},
     "output_type": "execute_result"
    }
   ],
   "source": [
    "customer_labels = clust_model.predict(customers_clean)\n",
    "customer_labels[:10]"
   ]
  },
  {
   "cell_type": "code",
   "execution_count": 9,
   "metadata": {},
   "outputs": [
    {
     "data": {
      "image/png": "[encoded data removed]",
      "text/plain": [
       "<Figure size 432x288 with 2 Axes>"
      ]
     },
     "metadata": {
      "needs_background": "light"
     },
     "output_type": "display_data"
    }
   ],
   "source": [
    "# Five clusters\n",
    "print_cluster_props()"
   ]
  },
  {
   "cell_type": "code",
   "execution_count": 10,
   "metadata": {},
   "outputs": [
    {
     "name": "stdout",
     "output_type": "stream",
     "text": [
      "PCA 0\n",
      "Lowest:\n",
      "\tHH_EINKOMMEN_SCORE   -0.151\n",
      "\tCAMEO_DEUG_2015      -0.144\n",
      "\twealth               -0.142\n",
      "Highest:\n",
      "\tD19_VERSAND_ANZ_24   0.159\n",
      "\tONLINE_AFFINITAET    0.167\n",
      "\tD19_GESAMT_ANZ_24    0.173\n",
      "\n",
      "PCA 1\n",
      "Lowest:\n",
      "\tALTERSKATEGORIE_GROB -0.231\n",
      "\tFINANZ_VORSORGER     -0.215\n",
      "\tFINANZ_MINIMALIST    -0.185\n",
      "Highest:\n",
      "\tSEMIO_REL            0.208\n",
      "\tdecade               0.229\n",
      "\tFINANZ_SPARER        0.240\n",
      "\n",
      "PCA 2\n",
      "Lowest:\n",
      "\tSEMIO_KULT           -0.171\n",
      "\tSEMIO_REL            -0.166\n",
      "\tPLZ8_ANTG1           -0.165\n",
      "Highest:\n",
      "\tEWDICHTE             0.169\n",
      "\tPLZ8_ANTG3           0.170\n",
      "\tORTSGR_KLS9          0.172\n",
      "\n"
     ]
    }
   ],
   "source": [
    "# PCA\n",
    "for i in range(3):\n",
    "    print('PCA', i)\n",
    "    print_interesting_features(azdias_clean.columns.values, clust_model.named_steps['pca'].components_, i)\n",
    "    print()"
   ]
  },
  {
   "cell_type": "markdown",
   "metadata": {},
   "source": [
    "- PCA0 is an indicator of purchasing activity and wealth\n",
    "- PCA1 is a indicator of lack of religiousness, youth, free spending\n",
    "- PCA2 is an indicator of population density and urbaness"
   ]
  },
  {
   "cell_type": "code",
   "execution_count": 16,
   "metadata": {},
   "outputs": [
    {
     "data": {
      "text/plain": [
       "0    0.514465\n",
       "1    0.022406\n",
       "2    0.014949\n",
       "3    0.279154\n",
       "4    0.169026\n",
       "dtype: float64"
      ]
     },
     "execution_count": 16,
     "metadata": {},
     "output_type": "execute_result"
    }
   ],
   "source": [
    "# What kinds of people are part of a cluster that is overrepresented in the\n",
    "# customer data compared to the general population?\n",
    "\n",
    "cust = pd.Series(customer_labels)\n",
    "cust_p = cust.value_counts() / cust.value_counts().sum()\n",
    "cust_p.sort_index()"
   ]
  },
  {
   "cell_type": "code",
   "execution_count": 17,
   "metadata": {},
   "outputs": [
    {
     "data": {
      "text/html": [
       "<div>\n",
       "<style scoped>\n",
       "    .dataframe tbody tr th:only-of-type {\n",
       "        vertical-align: middle;\n",
       "    }\n",
       "\n",
       "    .dataframe tbody tr th {\n",
       "        vertical-align: top;\n",
       "    }\n",
       "\n",
       "    .dataframe thead th {\n",
       "        text-align: right;\n",
       "    }\n",
       "</style>\n",
       "<table border=\"1\" class=\"dataframe\">\n",
       "  <thead>\n",
       "    <tr style=\"text-align: right;\">\n",
       "      <th></th>\n",
       "      <th>0</th>\n",
       "      <th>1</th>\n",
       "      <th>2</th>\n",
       "    </tr>\n",
       "    <tr>\n",
       "      <th>cluster</th>\n",
       "      <th></th>\n",
       "      <th></th>\n",
       "      <th></th>\n",
       "    </tr>\n",
       "  </thead>\n",
       "  <tbody>\n",
       "    <tr>\n",
       "      <th>4</th>\n",
       "      <td>-3.473253</td>\n",
       "      <td>-1.652005</td>\n",
       "      <td>1.981922</td>\n",
       "    </tr>\n",
       "    <tr>\n",
       "      <th>3</th>\n",
       "      <td>5.751756</td>\n",
       "      <td>1.626052</td>\n",
       "      <td>0.977445</td>\n",
       "    </tr>\n",
       "    <tr>\n",
       "      <th>2</th>\n",
       "      <td>-0.863057</td>\n",
       "      <td>1.093658</td>\n",
       "      <td>-3.318340</td>\n",
       "    </tr>\n",
       "    <tr>\n",
       "      <th>1</th>\n",
       "      <td>-3.007760</td>\n",
       "      <td>4.105748</td>\n",
       "      <td>0.601783</td>\n",
       "    </tr>\n",
       "    <tr>\n",
       "      <th>0</th>\n",
       "      <td>1.449292</td>\n",
       "      <td>-3.490430</td>\n",
       "      <td>-0.754020</td>\n",
       "    </tr>\n",
       "  </tbody>\n",
       "</table>\n",
       "</div>"
      ],
      "text/plain": [
       "                0         1         2\n",
       "cluster                              \n",
       "4       -3.473253 -1.652005  1.981922\n",
       "3        5.751756  1.626052  0.977445\n",
       "2       -0.863057  1.093658 -3.318340\n",
       "1       -3.007760  4.105748  0.601783\n",
       "0        1.449292 -3.490430 -0.754020"
      ]
     },
     "execution_count": 17,
     "metadata": {},
     "output_type": "execute_result"
    }
   ],
   "source": [
    "# First three PCA values for Cluster Centroids\n",
    "clusters_df=pd.DataFrame(clust_model.named_steps['kmeans'].cluster_centers_[:,:3])\n",
    "clusters_df.index.name = 'cluster'\n",
    "clusters_df.sort_index(ascending=False)"
   ]
  },
  {
   "cell_type": "code",
   "execution_count": 28,
   "metadata": {},
   "outputs": [
    {
     "data": {
      "image/png": "[encoded data removed]",
      "text/plain": [
       "<Figure size 432x288 with 2 Axes>"
      ]
     },
     "metadata": {
      "needs_background": "light"
     },
     "output_type": "display_data"
    }
   ],
   "source": [
    "color_map = matplotlib.cm.get_cmap('bwr')\n",
    "\n",
    "plt.pcolor(clusters_df, cmap=color_map, vmin=-4.5, vmax=4.5);\n",
    "plt.title('First three PCA values for Clusters')\n",
    "plt.ylabel('cluster')\n",
    "plt.xlabel('PCA')\n",
    "\n",
    "plt.yticks(np.arange(0.5, len(clusters_df.index)), clusters_df.index)\n",
    "plt.xticks(np.arange(0.5, 3), clusters_df.index)\n",
    "\n",
    "plt.colorbar()\n",
    "\n",
    "plt.show()"
   ]
  },
  {
   "cell_type": "markdown",
   "metadata": {},
   "source": [
    "A heatmap of the clusters and their PCA values shows that at five clusters the clusters are easily distinguishable from one another using the first three PCA components."
   ]
  },
  {
   "cell_type": "markdown",
   "metadata": {},
   "source": [
    "### Cluster 0: very over-represented"
   ]
  },
  {
   "cell_type": "code",
   "execution_count": 54,
   "metadata": {},
   "outputs": [
    {
     "data": {
      "text/plain": [
       "array([ 1.449292  , -3.49042956, -0.75401977])"
      ]
     },
     "execution_count": 54,
     "metadata": {},
     "output_type": "execute_result"
    }
   ],
   "source": [
    "clust_model.named_steps['kmeans'].cluster_centers_[0][:3]"
   ]
  },
  {
   "cell_type": "markdown",
   "metadata": {},
   "source": [
    "The most distinguishing feature of Cluster 0 is the very low value for pca1. This indicates this cluster is more religious, older and savers. It also as a positive value for pca0 which is an indicator of purchasing activity and wealth."
   ]
  },
  {
   "cell_type": "markdown",
   "metadata": {},
   "source": [
    "### Cluster 1: under-represented"
   ]
  },
  {
   "cell_type": "code",
   "execution_count": 23,
   "metadata": {},
   "outputs": [
    {
     "data": {
      "text/plain": [
       "array([-3.00776022,  4.10574762,  0.6017835 ])"
      ]
     },
     "execution_count": 23,
     "metadata": {},
     "output_type": "execute_result"
    }
   ],
   "source": [
    "clust_model.named_steps['kmeans'].cluster_centers_[1][:3]"
   ]
  },
  {
   "cell_type": "markdown",
   "metadata": {},
   "source": [
    "Cluster 1 has a very low value for pca0 and a very high value for pca1. This cluster has low purchasing activity and wealth. They are also not very religious but are young and free spending."
   ]
  },
  {
   "cell_type": "markdown",
   "metadata": {},
   "source": [
    "### Cluster 2: also under-represented"
   ]
  },
  {
   "cell_type": "code",
   "execution_count": 24,
   "metadata": {},
   "outputs": [
    {
     "data": {
      "text/plain": [
       "array([-0.86305695,  1.09365766, -3.31833991])"
      ]
     },
     "execution_count": 24,
     "metadata": {},
     "output_type": "execute_result"
    }
   ],
   "source": [
    "clust_model.named_steps['kmeans'].cluster_centers_[2][:3]"
   ]
  },
  {
   "cell_type": "markdown",
   "metadata": {},
   "source": [
    "For cluster 2, the most distinguishing feature is the very low pca2 value. This cluster has low population density and cultural minded/religiousness."
   ]
  },
  {
   "cell_type": "code",
   "execution_count": 31,
   "metadata": {},
   "outputs": [
    {
     "data": {
      "text/plain": [
       "{'impute': SimpleImputer(copy=True, fill_value=None, missing_values=nan,\n",
       "        strategy='median', verbose=0),\n",
       " 'scale': StandardScaler(copy=True, with_mean=True, with_std=True),\n",
       " 'pca': PCA(copy=True, iterated_power='auto', n_components=76, random_state=None,\n",
       "   svd_solver='auto', tol=0.0, whiten=False),\n",
       " 'kmeans': KMeans(algorithm='auto', copy_x=True, init='k-means++', max_iter=300,\n",
       "     n_clusters=5, n_init=10, n_jobs=None, precompute_distances='auto',\n",
       "     random_state=None, tol=0.0001, verbose=0)}"
      ]
     },
     "execution_count": 31,
     "metadata": {},
     "output_type": "execute_result"
    }
   ],
   "source": [
    "clust_model.named_steps"
   ]
  },
  {
   "cell_type": "markdown",
   "metadata": {},
   "source": [
    "### Check original values"
   ]
  },
  {
   "cell_type": "code",
   "execution_count": 32,
   "metadata": {},
   "outputs": [
    {
     "data": {
      "text/plain": [
       "2.2883735567706887"
      ]
     },
     "execution_count": 32,
     "metadata": {},
     "output_type": "execute_result"
    }
   ],
   "source": [
    "# Use inverse PCA and scaling to center values as original variables\n",
    "centers = clust_model.named_steps['scale'].inverse_transform(clust_model.named_steps['pca'].inverse_transform(clust_model.named_steps['kmeans'].cluster_centers_))\n",
    "centers_df = pd.DataFrame(centers, columns=azdias_clean.columns)\n",
    "\n",
    "centers_df.loc[0].wealth"
   ]
  },
  {
   "cell_type": "code",
   "execution_count": 33,
   "metadata": {},
   "outputs": [
    {
     "data": {
      "text/plain": [
       "count    785386.000000\n",
       "mean          3.266288\n",
       "std           1.464996\n",
       "min           1.000000\n",
       "25%           2.000000\n",
       "50%           4.000000\n",
       "75%           5.000000\n",
       "max           5.000000\n",
       "Name: wealth, dtype: float64"
      ]
     },
     "execution_count": 33,
     "metadata": {},
     "output_type": "execute_result"
    }
   ],
   "source": [
    "azdias_clean.wealth.describe()"
   ]
  }
 ],
 "metadata": {
  "kernelspec": {
   "display_name": "Python 3",
   "language": "python",
   "name": "python3"
  },
  "language_info": {
   "codemirror_mode": {
    "name": "ipython",
    "version": 3
   },
   "file_extension": ".py",
   "mimetype": "text/x-python",
   "name": "python",
   "nbconvert_exporter": "python",
   "pygments_lexer": "ipython3",
   "version": "3.6.8"
  }
 },
 "nbformat": 4,
 "nbformat_minor": 2
}
