{
 "cells": [
  {
   "cell_type": "markdown",
   "metadata": {},
   "source": [
    "# Supervised Learning Using Keras"
   ]
  },
  {
   "cell_type": "code",
   "execution_count": 1,
   "metadata": {},
   "outputs": [
    {
     "name": "stderr",
     "output_type": "stream",
     "text": [
      "Using TensorFlow backend.\n"
     ]
    }
   ],
   "source": [
    "import numpy as np\n",
    "import pandas as pd\n",
    "import matplotlib.pyplot as plt\n",
    "import seaborn as sns\n",
    "import time\n",
    "import pickle\n",
    "\n",
    "from sklearn.model_selection import train_test_split\n",
    "from sklearn.metrics import roc_auc_score\n",
    "from sklearn.compose import ColumnTransformer\n",
    "from sklearn.pipeline import make_pipeline\n",
    "from sklearn.preprocessing import StandardScaler\n",
    "from sklearn.preprocessing import FunctionTransformer\n",
    "from sklearn.impute import SimpleImputer\n",
    "from sklearn.model_selection import GridSearchCV\n",
    "\n",
    "import keras\n",
    "from keras.models import Sequential\n",
    "from keras.layers import Activation, Dense, Dropout, BatchNormalization\n",
    "from keras.wrappers.scikit_learn import KerasClassifier\n",
    "from keras.optimizers import Adam\n",
    "\n",
    "from imblearn.keras import BalancedBatchGenerator\n"
   ]
  },
  {
   "cell_type": "markdown",
   "metadata": {},
   "source": [
    "## Part 2: Supervised Learning Model"
   ]
  },
  {
   "cell_type": "code",
   "execution_count": 2,
   "metadata": {},
   "outputs": [
    {
     "name": "stderr",
     "output_type": "stream",
     "text": [
      "C:\\Users\\Mei\\Anaconda3\\envs\\tensorflow-gpu\\lib\\site-packages\\IPython\\core\\interactiveshell.py:3020: DtypeWarning: Columns (18,19) have mixed types. Specify dtype option on import or set low_memory=False.\n",
      "  interactivity=interactivity, compiler=compiler, result=result)\n"
     ]
    }
   ],
   "source": [
    "mailout_train = pd.read_csv('data/Udacity_MAILOUT_052018_TRAIN.csv', sep=';')"
   ]
  },
  {
   "cell_type": "code",
   "execution_count": 3,
   "metadata": {},
   "outputs": [
    {
     "data": {
      "text/plain": [
       "(42962, 367)"
      ]
     },
     "execution_count": 3,
     "metadata": {},
     "output_type": "execute_result"
    }
   ],
   "source": [
    "mailout_train.shape"
   ]
  },
  {
   "cell_type": "code",
   "execution_count": 4,
   "metadata": {},
   "outputs": [],
   "source": [
    "y = mailout_train.RESPONSE\n",
    "X = mailout_train.drop('RESPONSE', axis=1)"
   ]
  },
  {
   "cell_type": "code",
   "execution_count": 5,
   "metadata": {},
   "outputs": [
    {
     "data": {
      "text/plain": [
       "0    42430\n",
       "1      532\n",
       "Name: RESPONSE, dtype: int64"
      ]
     },
     "execution_count": 5,
     "metadata": {},
     "output_type": "execute_result"
    }
   ],
   "source": [
    "y.value_counts()"
   ]
  },
  {
   "cell_type": "code",
   "execution_count": 6,
   "metadata": {},
   "outputs": [],
   "source": [
    "# Load feature info\n",
    "feat_info = pd.read_csv('features.csv')\n",
    "feat_info.set_index('attribute', inplace=True)\n",
    "\n",
    "# Parse missing_or_known string into a list\n",
    "def parse_missing(s):\n",
    "    a = s[1:-1].split(',')\n",
    "    return a\n",
    "\n",
    "feat_info['missing_or_unknown'] = feat_info['missing_or_unknown'].apply(parse_missing)"
   ]
  },
  {
   "cell_type": "markdown",
   "metadata": {},
   "source": [
    "### Get to know the data"
   ]
  },
  {
   "cell_type": "code",
   "execution_count": 7,
   "metadata": {},
   "outputs": [],
   "source": [
    "X_clean = X\n",
    "\n",
    "# Drop columns not in data dictionary\n",
    "#missing_from_feat_info = set(X_clean.columns.values).difference(feat_info.index.values)\n",
    "#X_clean.drop(list(missing_from_feat_info), axis='columns', inplace=True)\n",
    "\n",
    "# Convert missing values to Nans\n",
    "missing_values = pd.Series(feat_info['missing_or_unknown'].values, index=feat_info.index).to_dict()\n",
    "X_clean[X_clean.isin(missing_values)] = np.nan"
   ]
  },
  {
   "cell_type": "code",
   "execution_count": 8,
   "metadata": {},
   "outputs": [
    {
     "data": {
      "text/plain": [
       "(42962, 366)"
      ]
     },
     "execution_count": 8,
     "metadata": {},
     "output_type": "execute_result"
    }
   ],
   "source": [
    "X_clean.shape"
   ]
  },
  {
   "cell_type": "code",
   "execution_count": 9,
   "metadata": {},
   "outputs": [
    {
     "data": {
      "text/plain": [
       "ALTER_KIND4       0.999046\n",
       "ALTER_KIND3       0.995950\n",
       "TITEL_KZ          0.995042\n",
       "ALTER_KIND2       0.982403\n",
       "ALTER_KIND1       0.953727\n",
       "KK_KUNDENTYP      0.589265\n",
       "KBA05_BAUMAX      0.534891\n",
       "AGER_TYP          0.439691\n",
       "GEBURTSJAHR       0.406755\n",
       "EXTSEL992         0.371212\n",
       "ALTER_HH          0.306713\n",
       "W_KEIT_KIND_HH    0.242470\n",
       "KKK               0.231134\n",
       "REGIOTYP          0.231134\n",
       "HH_DELTA_FLAG     0.225269\n",
       "KBA05_MOD3        0.210209\n",
       "KBA05_MOD2        0.210209\n",
       "KBA05_MOD1        0.210209\n",
       "KBA05_MAXSEG      0.210209\n",
       "KBA05_MAXVORB     0.210209\n",
       "dtype: float64"
      ]
     },
     "execution_count": 9,
     "metadata": {},
     "output_type": "execute_result"
    }
   ],
   "source": [
    "# Missing values by column\n",
    "p_missing = (X_clean.isnull().sum() / X_clean.shape[0])\n",
    "p_missing.sort_values(ascending=False).head(20)"
   ]
  },
  {
   "cell_type": "code",
   "execution_count": 10,
   "metadata": {},
   "outputs": [
    {
     "data": {
      "image/png": "[encoded data removed]",
      "text/plain": [
       "<Figure size 432x288 with 1 Axes>"
      ]
     },
     "metadata": {
      "needs_background": "light"
     },
     "output_type": "display_data"
    }
   ],
   "source": [
    "p_missing.hist();"
   ]
  },
  {
   "cell_type": "code",
   "execution_count": 11,
   "metadata": {},
   "outputs": [
    {
     "data": {
      "text/plain": [
       "Index(['AGER_TYP', 'ALTER_HH', 'ALTER_KIND1', 'ALTER_KIND2', 'ALTER_KIND3',\n",
       "       'ALTER_KIND4', 'EXTSEL992', 'GEBURTSJAHR', 'HH_DELTA_FLAG',\n",
       "       'KBA05_BAUMAX', 'KK_KUNDENTYP', 'KKK', 'REGIOTYP', 'TITEL_KZ',\n",
       "       'W_KEIT_KIND_HH'],\n",
       "      dtype='object')"
      ]
     },
     "execution_count": 11,
     "metadata": {},
     "output_type": "execute_result"
    }
   ],
   "source": [
    "col_threshold = .22\n",
    "to_drop = p_missing[p_missing >= col_threshold]\n",
    "to_drop.index"
   ]
  },
  {
   "cell_type": "code",
   "execution_count": 12,
   "metadata": {},
   "outputs": [
    {
     "data": {
      "text/plain": [
       "(42962, 351)"
      ]
     },
     "execution_count": 12,
     "metadata": {},
     "output_type": "execute_result"
    }
   ],
   "source": [
    "X_clean = X_clean.drop(to_drop.index, axis=1)\n",
    "X_clean.shape"
   ]
  },
  {
   "cell_type": "code",
   "execution_count": 13,
   "metadata": {},
   "outputs": [
    {
     "data": {
      "image/png": "[encoded data removed]",
      "text/plain": [
       "<Figure size 432x288 with 1 Axes>"
      ]
     },
     "metadata": {
      "needs_background": "light"
     },
     "output_type": "display_data"
    }
   ],
   "source": [
    "# Missing values by row\n",
    "n_missing = X_clean.isnull().sum(axis=1)\n",
    "n_missing.hist();"
   ]
  },
  {
   "cell_type": "code",
   "execution_count": 14,
   "metadata": {},
   "outputs": [],
   "source": [
    "X_clean['RESPONSE'] = y"
   ]
  },
  {
   "cell_type": "code",
   "execution_count": 15,
   "metadata": {},
   "outputs": [
    {
     "data": {
      "text/plain": [
       "(96, 352)"
      ]
     },
     "execution_count": 15,
     "metadata": {},
     "output_type": "execute_result"
    }
   ],
   "source": [
    "above_yes = X_clean[(n_missing > 150) & (X_clean.RESPONSE == 1)]\n",
    "above_yes.shape"
   ]
  },
  {
   "cell_type": "markdown",
   "metadata": {},
   "source": [
    "Keep all rows because we would lose too many positive responses."
   ]
  },
  {
   "cell_type": "markdown",
   "metadata": {},
   "source": [
    "### Clean Data "
   ]
  },
  {
   "cell_type": "code",
   "execution_count": 7,
   "metadata": {},
   "outputs": [],
   "source": [
    "def clean_data(df, feat_info, row_threshold):\n",
    "    clean_df = df.copy()\n",
    "    \n",
    "    # Drop unwanted columns    \n",
    "#    missing_from_feat_info = set(clean_df.columns.values).difference(feat_info.index.values)\n",
    "#    clean_df.drop(list(missing_from_feat_info), axis='columns', inplace=True)\n",
    "    \n",
    "    # Convert missing values to Nans\n",
    "    missing_values = pd.Series(feat_info['missing_or_unknown'].values, index=feat_info.index).to_dict()\n",
    "    clean_df[clean_df.isin(missing_values)] = np.nan\n",
    "    \n",
    "    # Drop columns with missing values\n",
    "#    to_drop = ['AGER_TYP','ALTER_HH','GEBURTSJAHR','HH_DELTA_FLAG','KBA05_BAUMAX','KK_KUNDENTYP','KKK','REGIOTYP','TITEL_KZ','W_KEIT_KIND_HH']\n",
    "    \n",
    "    to_drop = ['AGER_TYP', 'ALTER_HH', 'ALTER_KIND1', 'ALTER_KIND2', 'ALTER_KIND3',\n",
    "       'ALTER_KIND4', 'EXTSEL992', 'GEBURTSJAHR', 'HH_DELTA_FLAG',\n",
    "       'KBA05_BAUMAX', 'KK_KUNDENTYP', 'KKK', 'REGIOTYP', 'TITEL_KZ',\n",
    "       'W_KEIT_KIND_HH']\n",
    "    \n",
    "    clean_df = clean_df.drop(to_drop, axis='columns')\n",
    "\n",
    "    # Don't drop KBA columns\n",
    "    \n",
    "    # Drop rows with missing values\n",
    "    missing_by_row = clean_df.isnull().sum(axis=1)\n",
    "\n",
    "    dropped_df = clean_df[missing_by_row > row_threshold]\n",
    "    clean_df = clean_df[missing_by_row <= row_threshold]\n",
    "    \n",
    "    # Feature Re-encoding and Engineering\n",
    "    # Recode 10's to 0 for D19 columns that need it\n",
    "    recode = ['D19_BANKEN_DATUM', 'D19_BANKEN_OFFLINE_DATUM',\n",
    "       'D19_BANKEN_ONLINE_DATUM', 'D19_GESAMT_DATUM',\n",
    "       'D19_GESAMT_OFFLINE_DATUM', 'D19_GESAMT_ONLINE_DATUM',\n",
    "       'D19_TELKO_DATUM', 'D19_TELKO_OFFLINE_DATUM',\n",
    "       'D19_TELKO_ONLINE_DATUM', 'D19_VERSAND_DATUM',\n",
    "       'D19_VERSAND_OFFLINE_DATUM', 'D19_VERSAND_ONLINE_DATUM',\n",
    "       'D19_VERSI_DATUM', 'D19_VERSI_OFFLINE_DATUM',\n",
    "       'D19_VERSI_ONLINE_DATUM']\n",
    "    clean_df[recode] = clean_df[recode].replace(10, 0)\n",
    "    \n",
    "    # Drop all fine scale variables in favor of the rough scale version\n",
    "    drop = ['CAMEO_DEU_2015', 'LP_FAMILIE_FEIN', 'LP_STATUS_FEIN']\n",
    "    clean_df.drop(drop, axis=1, inplace=True)\n",
    "    \n",
    "    # convert CAMEO_DEUG_2015 from string to float\n",
    "    clean_df['CAMEO_DEUG_2015'] = clean_df['CAMEO_DEUG_2015'].astype(float)\n",
    "    \n",
    "    # Re-encode categorical variable(s) to be kept in the analysis\n",
    "    recoded = pd.get_dummies(clean_df['OST_WEST_KZ'])\n",
    "    clean_df.drop('OST_WEST_KZ', axis=1, inplace=True)\n",
    "    clean_df = pd.concat([clean_df, recoded], axis=1)\n",
    "\n",
    "    # Engineer new variables\n",
    "    to_replace = {1:40, 2:40, 3:50, 4:50, 5:60, 6:60, 7:60, 8:70, 9:70, 10:80, 11:80, 12:80, 13:80, 14:90, 15:90}\n",
    "    clean_df['decade'] = clean_df['PRAEGENDE_JUGENDJAHRE'].replace(to_replace)\n",
    "\n",
    "    to_replace = {1:0, 2:1, 3:0, 4:1, 5:0, 6:1, 7:1, 8:0, 9:1, 10:0, 11:1, 12:0, 13:1, 14:0, 15:1}\n",
    "    clean_df['movement'] = clean_df['PRAEGENDE_JUGENDJAHRE'].replace(to_replace)    \n",
    "\n",
    "    clean_df['wealth'] = clean_df.CAMEO_INTL_2015[clean_df.CAMEO_INTL_2015.notnull()].map(lambda x: int(str(x)[0]))\n",
    "    clean_df['life_stage'] = clean_df.CAMEO_INTL_2015[clean_df.CAMEO_INTL_2015.notnull()].map(lambda x: int(str(x)[1]))\n",
    "    \n",
    "    # Drop unneeded variables\n",
    "    clean_df.drop(['PRAEGENDE_JUGENDJAHRE', 'CAMEO_INTL_2015',\n",
    "                   'LP_LEBENSPHASE_GROB', 'LP_LEBENSPHASE_FEIN',\n",
    "                   'LNR', 'D19_LETZTER_KAUF_BRANCHE', 'EINGEFUEGT_AM'], axis=1, inplace=True)\n",
    "\n",
    "    # Return the cleaned dataframe and dropped rows.\n",
    "    return clean_df, dropped_df"
   ]
  },
  {
   "cell_type": "code",
   "execution_count": 8,
   "metadata": {},
   "outputs": [
    {
     "name": "stdout",
     "output_type": "stream",
     "text": [
      "(42962, 346)\n",
      "(0, 351)\n"
     ]
    }
   ],
   "source": [
    "X_clean, X_dropped = clean_data(X, feat_info, row_threshold=len(mailout_train.columns))\n",
    "print(X_clean.shape)\n",
    "print(X_dropped.shape)"
   ]
  },
  {
   "cell_type": "markdown",
   "metadata": {},
   "source": [
    "### Preprocess"
   ]
  },
  {
   "cell_type": "code",
   "execution_count": 10,
   "metadata": {},
   "outputs": [
    {
     "data": {
      "text/plain": [
       "Index(['ANZ_HAUSHALTE_AKTIV', 'ANZ_HH_TITEL', 'ANZ_KINDER', 'ANZ_PERSONEN',\n",
       "       'ANZ_STATISTISCHE_HAUSHALTE', 'ANZ_TITEL', 'MIN_GEBAEUDEJAHR'],\n",
       "      dtype='object', name='attribute')"
      ]
     },
     "execution_count": 10,
     "metadata": {},
     "output_type": "execute_result"
    }
   ],
   "source": [
    "numeric = feat_info[feat_info.type == 'numeric'].index.drop(['GEBURTSJAHR','KBA13_ANZAHL_PKW'])\n",
    "numeric"
   ]
  },
  {
   "cell_type": "code",
   "execution_count": 9,
   "metadata": {},
   "outputs": [],
   "source": [
    "numerical_columns = feat_info[feat_info.type == 'numeric'].index.drop(['GEBURTSJAHR','KBA13_ANZAHL_PKW'])\n",
    "numerical_pipeline = make_pipeline(\n",
    "    SimpleImputer(strategy='median'),\n",
    "    StandardScaler())\n",
    "\n",
    "categorical_columns = X_clean.columns.drop(numerical_columns)\n",
    "categorical_pipeline = make_pipeline(\n",
    "    SimpleImputer(strategy='most_frequent'))\n",
    "\n",
    "preprocessor = ColumnTransformer(\n",
    "    [('numerical_preprocessing', numerical_pipeline, numerical_columns),\n",
    "     ('categorical_preprocessing', categorical_pipeline, categorical_columns)],\n",
    "    remainder='drop')"
   ]
  },
  {
   "cell_type": "code",
   "execution_count": 11,
   "metadata": {},
   "outputs": [
    {
     "data": {
      "text/plain": [
       "float64    260\n",
       "int64       84\n",
       "uint8        2\n",
       "dtype: int64"
      ]
     },
     "execution_count": 11,
     "metadata": {},
     "output_type": "execute_result"
    }
   ],
   "source": [
    "X_clean.dtypes.value_counts()"
   ]
  },
  {
   "cell_type": "code",
   "execution_count": 12,
   "metadata": {},
   "outputs": [
    {
     "name": "stdout",
     "output_type": "stream",
     "text": [
      "(34369, 346)\n"
     ]
    }
   ],
   "source": [
    "X_train, X_test, y_train, y_test = train_test_split(X_clean, y, test_size=0.2, stratify=y, random_state=42)\n",
    "\n",
    "X_train = preprocessor.fit_transform(X_train)\n",
    "print(X_train.shape)\n",
    "\n",
    "X_test = preprocessor.transform(X_test)"
   ]
  },
  {
   "cell_type": "markdown",
   "metadata": {},
   "source": [
    "### Model"
   ]
  },
  {
   "cell_type": "code",
   "execution_count": 43,
   "metadata": {},
   "outputs": [],
   "source": [
    "def make_model(n_features, learn_rate):\n",
    "    model = Sequential()\n",
    "    model.add(Dense(50, input_shape=(n_features,),\n",
    "              kernel_initializer='glorot_normal'))\n",
    "    model.add(Activation('relu'))\n",
    "    model.add(BatchNormalization())\n",
    "    model.add(Dropout(0.15))\n",
    "    model.add(Dense(25, kernel_initializer='glorot_normal'))\n",
    "    model.add(Activation('relu'))\n",
    "    model.add(BatchNormalization())\n",
    "    model.add(Dropout(0.1))\n",
    "    model.add(Dense(1, activation='sigmoid'))\n",
    "\n",
    "    model.compile(loss='binary_crossentropy',\n",
    "                  optimizer=Adam(lr=learn_rate),\n",
    "                  metrics=['acc'])\n",
    "\n",
    "    return model"
   ]
  },
  {
   "cell_type": "code",
   "execution_count": 44,
   "metadata": {},
   "outputs": [],
   "source": [
    "# Balanced Batches\n",
    "def fit_predict_balanced_model(X_train, y_train):\n",
    "    model = make_model(X_train.shape[1], 0.001)\n",
    "    training_generator = BalancedBatchGenerator(X_train, y_train, batch_size=64, random_state=42)\n",
    "    model.fit_generator(generator=training_generator, epochs=90, verbose=False)\n",
    "    return model"
   ]
  },
  {
   "cell_type": "code",
   "execution_count": 80,
   "metadata": {},
   "outputs": [],
   "source": [
    "balanced = fit_predict_balanced_model(X_train, y_train)"
   ]
  },
  {
   "cell_type": "code",
   "execution_count": 82,
   "metadata": {},
   "outputs": [
    {
     "name": "stdout",
     "output_type": "stream",
     "text": [
      "[[1.3334392e-23]\n",
      " [3.8051503e-18]\n",
      " [5.6731080e-22]\n",
      " [6.7245648e-19]\n",
      " [2.2927112e-11]]\n",
      "0.646819441943394\n"
     ]
    }
   ],
   "source": [
    "y_pred = balanced.predict_proba(X_test)\n",
    "#threshold = 0.5\n",
    "#y_pred = np.where(y_pred > threshold, 1, 0)\n",
    "\n",
    "#y_pred = model.predict_classes(X_test)\n",
    "print(y_pred[0:5])\n",
    "print(roc_auc_score(y_test, y_pred))"
   ]
  },
  {
   "cell_type": "code",
   "execution_count": 104,
   "metadata": {},
   "outputs": [],
   "source": [
    "# Standard model\n",
    "def fit_predict_model(X_train, y_train, X_test, y_test, class_weight={0:1, 1:1}):\n",
    "    model = make_model(X_train.shape[1], 0.001)\n",
    "    \n",
    "    start_time = time.time()\n",
    "\n",
    "    model.fit(X_train, y_train, epochs=30, batch_size=64, verbose=False, class_weight=class_weight)\n",
    "    \n",
    "    elapsed_time = time.time() - start_time\n",
    "    print('Elapsed computation time: {:.3f} secs'\n",
    "          .format(elapsed_time))\n",
    "\n",
    "    y_pred = model.predict_proba(X_test)\n",
    "    print(roc_auc_score(y_test, y_pred))\n",
    "    \n",
    "    return model"
   ]
  },
  {
   "cell_type": "code",
   "execution_count": 92,
   "metadata": {},
   "outputs": [
    {
     "name": "stdout",
     "output_type": "stream",
     "text": [
      "Elapsed computation time: 109.166 secs\n",
      "0.5\n"
     ]
    }
   ],
   "source": [
    "base = fit_predict_model(X_train, y_train, X_test, y_test)"
   ]
  },
  {
   "cell_type": "code",
   "execution_count": 95,
   "metadata": {},
   "outputs": [
    {
     "name": "stdout",
     "output_type": "stream",
     "text": [
      "0.6260618348595299\n"
     ]
    }
   ],
   "source": [
    "y_pred = base.predict_proba(X_test)\n",
    "print(roc_auc_score(y_test, y_pred))"
   ]
  },
  {
   "cell_type": "code",
   "execution_count": 30,
   "metadata": {},
   "outputs": [
    {
     "data": {
      "text/plain": [
       "79.67840375586854"
      ]
     },
     "execution_count": 30,
     "metadata": {},
     "output_type": "execute_result"
    }
   ],
   "source": [
    "# Used class weights\n",
    "y_train.value_counts()[0]/y_train.value_counts()[1]"
   ]
  },
  {
   "cell_type": "code",
   "execution_count": 93,
   "metadata": {},
   "outputs": [
    {
     "name": "stdout",
     "output_type": "stream",
     "text": [
      "Elapsed computation time: 113.519 secs\n",
      "0.5177602370773503\n"
     ]
    }
   ],
   "source": [
    "class_weight = {0:1, 1:50}\n",
    "weighted = fit_predict_model(X_train, y_train, X_test, y_test, class_weight)"
   ]
  },
  {
   "cell_type": "code",
   "execution_count": 97,
   "metadata": {},
   "outputs": [
    {
     "name": "stdout",
     "output_type": "stream",
     "text": [
      "0.6093970578754188\n"
     ]
    }
   ],
   "source": [
    "y_pred = weighted.predict_proba(X_test)\n",
    "print(roc_auc_score(y_test, y_pred))"
   ]
  },
  {
   "cell_type": "code",
   "execution_count": 84,
   "metadata": {},
   "outputs": [],
   "source": [
    "# Dealing with the class imbalance\n",
    "from imblearn.under_sampling import ClusterCentroids\n",
    "\n",
    "cc = ClusterCentroids()\n",
    "X_cc, y_cc = cc.fit_sample(X_train, y_train)"
   ]
  },
  {
   "cell_type": "code",
   "execution_count": 88,
   "metadata": {},
   "outputs": [
    {
     "data": {
      "text/plain": [
       "1    426\n",
       "0    426\n",
       "dtype: int64"
      ]
     },
     "execution_count": 88,
     "metadata": {},
     "output_type": "execute_result"
    }
   ],
   "source": [
    "pd.value_counts(y_cc)"
   ]
  },
  {
   "cell_type": "code",
   "execution_count": 99,
   "metadata": {},
   "outputs": [
    {
     "name": "stdout",
     "output_type": "stream",
     "text": [
      "Elapsed computation time: 5.946 secs\n",
      "0.5\n",
      "0.6093970578754188\n"
     ]
    }
   ],
   "source": [
    "cc_model = fit_predict_model(X_cc, y_cc, X_test, y_test)\n",
    "y_pred = weighted.predict_proba(X_test)\n",
    "print(roc_auc_score(y_test, y_pred))"
   ]
  },
  {
   "cell_type": "code",
   "execution_count": 100,
   "metadata": {},
   "outputs": [],
   "source": [
    "# use SMOTE\n",
    "from imblearn.over_sampling import SMOTE\n",
    "X_smote, y_smote = SMOTE().fit_resample(X_train, y_train)"
   ]
  },
  {
   "cell_type": "code",
   "execution_count": 101,
   "metadata": {},
   "outputs": [
    {
     "data": {
      "text/plain": [
       "1    33943\n",
       "0    33943\n",
       "dtype: int64"
      ]
     },
     "execution_count": 101,
     "metadata": {},
     "output_type": "execute_result"
    }
   ],
   "source": [
    "pd.value_counts(y_smote)"
   ]
  },
  {
   "cell_type": "code",
   "execution_count": 102,
   "metadata": {},
   "outputs": [
    {
     "name": "stdout",
     "output_type": "stream",
     "text": [
      "Elapsed computation time: 197.753 secs\n",
      "0.5\n"
     ]
    }
   ],
   "source": [
    "smote = fit_predict_model(X_smote, y_smote, X_test, y_test)"
   ]
  },
  {
   "cell_type": "code",
   "execution_count": 103,
   "metadata": {},
   "outputs": [
    {
     "name": "stdout",
     "output_type": "stream",
     "text": [
      "0.575618426405757\n"
     ]
    }
   ],
   "source": [
    "y_pred = model.predict(X_test)\n",
    "print(roc_auc_score(y_test, y_pred))"
   ]
  },
  {
   "cell_type": "markdown",
   "metadata": {},
   "source": [
    "### Hyperparameter Optimization"
   ]
  },
  {
   "cell_type": "code",
   "execution_count": 31,
   "metadata": {},
   "outputs": [
    {
     "name": "stdout",
     "output_type": "stream",
     "text": [
      "(42962, 346)\n"
     ]
    }
   ],
   "source": [
    "# Use all of the training data since we're using cross-validation\n",
    "X_processed = preprocessor.fit_transform(X_clean)\n",
    "print(X_processed.shape)"
   ]
  },
  {
   "cell_type": "markdown",
   "metadata": {},
   "source": [
    "#### Select optimizer"
   ]
  },
  {
   "cell_type": "code",
   "execution_count": 32,
   "metadata": {},
   "outputs": [
    {
     "name": "stdout",
     "output_type": "stream",
     "text": [
      "Elapsed computation time: 489.908 secs\n",
      "Best: 0.592133 using {'n_features': 346, 'optimizer': 'Adam'}\n"
     ]
    }
   ],
   "source": [
    "model = KerasClassifier(build_fn=make_model, epochs=30, batch_size=64, verbose=False)\n",
    "param_grid = {'n_features':[X_processed.shape[1]],\n",
    "              'optimizer':['SGD', 'Adam']}\n",
    "\n",
    "start_time = time.time()\n",
    "\n",
    "grid = GridSearchCV(estimator=model, param_grid=param_grid, scoring='roc_auc', cv=3)\n",
    "grid_result = grid.fit(X_processed, y)\n",
    "\n",
    "elapsed_time = time.time() - start_time\n",
    "print('Elapsed computation time: {:.3f} secs'\n",
    "      .format(elapsed_time))\n",
    "print(\"Best: %f using %s\" % (grid_result.best_score_, grid_result.best_params_))"
   ]
  },
  {
   "cell_type": "markdown",
   "metadata": {},
   "source": [
    "#### Tune learning rate"
   ]
  },
  {
   "cell_type": "code",
   "execution_count": 34,
   "metadata": {},
   "outputs": [],
   "source": [
    "def make_model(n_features, learn_rate=0.001):\n",
    "    model = Sequential()\n",
    "    model.add(Dense(50, input_shape=(n_features,),\n",
    "              kernel_initializer='glorot_normal'))\n",
    "    model.add(Activation('relu'))\n",
    "    model.add(BatchNormalization())\n",
    "    model.add(Dropout(0.15))\n",
    "    model.add(Dense(25, kernel_initializer='glorot_normal'))\n",
    "    model.add(Activation('relu'))\n",
    "    model.add(BatchNormalization())\n",
    "    model.add(Dropout(0.1))\n",
    "    model.add(Dense(1, activation='sigmoid'))\n",
    "\n",
    "    optimizer = Adam(lr=learn_rate)\n",
    "    model.compile(loss='binary_crossentropy',\n",
    "                  optimizer=optimizer,\n",
    "                  metrics=['acc'])\n",
    "\n",
    "    return model"
   ]
  },
  {
   "cell_type": "code",
   "execution_count": 40,
   "metadata": {},
   "outputs": [
    {
     "name": "stdout",
     "output_type": "stream",
     "text": [
      "Elapsed computation time: 1051.038 secs\n",
      "Best: 0.638670 using {'epochs': 40, 'learn_rate': 0.0001, 'n_features': 346}\n"
     ]
    }
   ],
   "source": [
    "model = KerasClassifier(build_fn=make_model, epochs=30, batch_size=64, verbose=False)\n",
    "param_grid = {'n_features':[X_processed.shape[1]],\n",
    "              'learn_rate':[0.0001],\n",
    "              'epochs':[20, 30, 40]}\n",
    "#              'batch_size':[32, 64]}\n",
    "\n",
    "start_time = time.time()\n",
    "\n",
    "grid = GridSearchCV(estimator=model, param_grid=param_grid, scoring='roc_auc', cv=3)\n",
    "grid_result = grid.fit(X_processed, y)\n",
    "\n",
    "elapsed_time = time.time() - start_time\n",
    "print('Elapsed computation time: {:.3f} secs'\n",
    "      .format(elapsed_time))\n",
    "\n",
    "print(\"Best: %f using %s\" % (grid_result.best_score_, grid_result.best_params_))"
   ]
  },
  {
   "cell_type": "code",
   "execution_count": 41,
   "metadata": {},
   "outputs": [
    {
     "name": "stdout",
     "output_type": "stream",
     "text": [
      "0.625591 (0.018980) with: {'epochs': 20, 'learn_rate': 0.0001, 'n_features': 346}\n",
      "0.629509 (0.020828) with: {'epochs': 30, 'learn_rate': 0.0001, 'n_features': 346}\n",
      "0.638670 (0.018953) with: {'epochs': 40, 'learn_rate': 0.0001, 'n_features': 346}\n"
     ]
    }
   ],
   "source": [
    "means = grid_result.cv_results_['mean_test_score']\n",
    "stds = grid_result.cv_results_['std_test_score']\n",
    "params = grid_result.cv_results_['params']\n",
    "for mean, stdev, param in zip(means, stds, params):\n",
    "    print(\"%f (%f) with: %r\" % (mean, stdev, param))"
   ]
  },
  {
   "cell_type": "markdown",
   "metadata": {},
   "source": [
    "0.653540 (0.015685) with: {'epochs': 30, 'learn_rate': 0.0001, 'n_features': 346}\n",
    "0.643843 (0.005525) with: {'epochs': 40, 'learn_rate': 0.0001, 'n_features': 346}"
   ]
  },
  {
   "cell_type": "code",
   "execution_count": 42,
   "metadata": {},
   "outputs": [
    {
     "name": "stdout",
     "output_type": "stream",
     "text": [
      "Elapsed computation time: 990.465 secs\n",
      "Best: 0.664592 using {'batch_size': 64, 'learn_rate': 0.0001, 'n_features': 346}\n"
     ]
    }
   ],
   "source": [
    "param_grid = {'n_features':[X_processed.shape[1]],\n",
    "              'learn_rate':[0.0001],\n",
    "              'batch_size':[32, 64]}\n",
    "\n",
    "start_time = time.time()\n",
    "\n",
    "grid = GridSearchCV(estimator=model, param_grid=param_grid, scoring='roc_auc', cv=3)\n",
    "grid_result = grid.fit(X_processed, y)\n",
    "\n",
    "elapsed_time = time.time() - start_time\n",
    "print('Elapsed computation time: {:.3f} secs'\n",
    "      .format(elapsed_time))\n",
    "\n",
    "print(\"Best: %f using %s\" % (grid_result.best_score_, grid_result.best_params_))"
   ]
  },
  {
   "cell_type": "code",
   "execution_count": 43,
   "metadata": {},
   "outputs": [
    {
     "name": "stdout",
     "output_type": "stream",
     "text": [
      "0.655577 (0.009200) with: {'batch_size': 32, 'learn_rate': 0.0001, 'n_features': 346}\n",
      "0.664592 (0.003874) with: {'batch_size': 64, 'learn_rate': 0.0001, 'n_features': 346}\n"
     ]
    }
   ],
   "source": [
    "means = grid_result.cv_results_['mean_test_score']\n",
    "stds = grid_result.cv_results_['std_test_score']\n",
    "params = grid_result.cv_results_['params']\n",
    "for mean, stdev, param in zip(means, stds, params):\n",
    "    print(\"%f (%f) with: %r\" % (mean, stdev, param))"
   ]
  },
  {
   "cell_type": "code",
   "execution_count": 125,
   "metadata": {},
   "outputs": [
    {
     "data": {
      "text/plain": [
       "True"
      ]
     },
     "execution_count": 125,
     "metadata": {},
     "output_type": "execute_result"
    }
   ],
   "source": [
    "def save_model(model, model_filepath):\n",
    "    '''Saves the model as a pickle file'''\n",
    "    try:\n",
    "        f = open(model_filepath, 'wb')\n",
    "        pickle.dump(model, f)\n",
    "        return True\n",
    "    except IOError:\n",
    "        return False\n",
    "\n",
    "#save_model(model, 'model4.pkl')"
   ]
  },
  {
   "cell_type": "markdown",
   "metadata": {},
   "source": [
    "## Part 3: Kaggle Competition"
   ]
  },
  {
   "cell_type": "code",
   "execution_count": 18,
   "metadata": {},
   "outputs": [
    {
     "name": "stderr",
     "output_type": "stream",
     "text": [
      "C:\\Users\\Mei\\Anaconda3\\envs\\tensorflow-gpu\\lib\\site-packages\\IPython\\core\\interactiveshell.py:3020: DtypeWarning: Columns (18,19) have mixed types. Specify dtype option on import or set low_memory=False.\n",
      "  interactivity=interactivity, compiler=compiler, result=result)\n"
     ]
    }
   ],
   "source": [
    "mailout_test = pd.read_csv('data/Udacity_MAILOUT_052018_TEST.csv', sep=';')"
   ]
  },
  {
   "cell_type": "code",
   "execution_count": 19,
   "metadata": {},
   "outputs": [
    {
     "data": {
      "text/plain": [
       "(42833, 366)"
      ]
     },
     "execution_count": 19,
     "metadata": {},
     "output_type": "execute_result"
    }
   ],
   "source": [
    "mailout_test.shape"
   ]
  },
  {
   "cell_type": "code",
   "execution_count": 20,
   "metadata": {},
   "outputs": [
    {
     "data": {
      "text/plain": [
       "0    1754\n",
       "1    1770\n",
       "2    1465\n",
       "3    1470\n",
       "4    1478\n",
       "Name: LNR, dtype: int64"
      ]
     },
     "execution_count": 20,
     "metadata": {},
     "output_type": "execute_result"
    }
   ],
   "source": [
    "LNR = mailout_test.LNR\n",
    "LNR.head()"
   ]
  },
  {
   "cell_type": "code",
   "execution_count": 21,
   "metadata": {},
   "outputs": [
    {
     "data": {
      "text/plain": [
       "(42833, 346)"
      ]
     },
     "execution_count": 21,
     "metadata": {},
     "output_type": "execute_result"
    }
   ],
   "source": [
    "mailout_test_clean, mailout_test_dropped = clean_data(mailout_test, feat_info, row_threshold=len(mailout_test))\n",
    "mailout_test_clean.shape"
   ]
  },
  {
   "cell_type": "code",
   "execution_count": 22,
   "metadata": {},
   "outputs": [],
   "source": [
    "mailout_test_transformed = preprocessor.transform(mailout_test_clean)"
   ]
  },
  {
   "cell_type": "code",
   "execution_count": 23,
   "metadata": {},
   "outputs": [],
   "source": [
    "test_pred = model.predict_classes(mailout_test_transformed)\n",
    "#test_pred = grid.best_estimator_.predict(mailout_test_transformed)"
   ]
  },
  {
   "cell_type": "code",
   "execution_count": 24,
   "metadata": {},
   "outputs": [
    {
     "data": {
      "text/plain": [
       "0    42784\n",
       "1       49\n",
       "dtype: int64"
      ]
     },
     "execution_count": 24,
     "metadata": {},
     "output_type": "execute_result"
    }
   ],
   "source": [
    "pd.value_counts(test_pred.flatten())"
   ]
  },
  {
   "cell_type": "code",
   "execution_count": 25,
   "metadata": {},
   "outputs": [
    {
     "data": {
      "text/html": [
       "<div>\n",
       "<style scoped>\n",
       "    .dataframe tbody tr th:only-of-type {\n",
       "        vertical-align: middle;\n",
       "    }\n",
       "\n",
       "    .dataframe tbody tr th {\n",
       "        vertical-align: top;\n",
       "    }\n",
       "\n",
       "    .dataframe thead th {\n",
       "        text-align: right;\n",
       "    }\n",
       "</style>\n",
       "<table border=\"1\" class=\"dataframe\">\n",
       "  <thead>\n",
       "    <tr style=\"text-align: right;\">\n",
       "      <th></th>\n",
       "      <th>LNR</th>\n",
       "      <th>RESPONSE</th>\n",
       "    </tr>\n",
       "  </thead>\n",
       "  <tbody>\n",
       "    <tr>\n",
       "      <th>0</th>\n",
       "      <td>1754</td>\n",
       "      <td>0</td>\n",
       "    </tr>\n",
       "    <tr>\n",
       "      <th>1</th>\n",
       "      <td>1770</td>\n",
       "      <td>0</td>\n",
       "    </tr>\n",
       "    <tr>\n",
       "      <th>2</th>\n",
       "      <td>1465</td>\n",
       "      <td>0</td>\n",
       "    </tr>\n",
       "    <tr>\n",
       "      <th>3</th>\n",
       "      <td>1470</td>\n",
       "      <td>0</td>\n",
       "    </tr>\n",
       "    <tr>\n",
       "      <th>4</th>\n",
       "      <td>1478</td>\n",
       "      <td>0</td>\n",
       "    </tr>\n",
       "  </tbody>\n",
       "</table>\n",
       "</div>"
      ],
      "text/plain": [
       "    LNR  RESPONSE\n",
       "0  1754         0\n",
       "1  1770         0\n",
       "2  1465         0\n",
       "3  1470         0\n",
       "4  1478         0"
      ]
     },
     "execution_count": 25,
     "metadata": {},
     "output_type": "execute_result"
    }
   ],
   "source": [
    "submission = pd.DataFrame({'LNR':LNR, 'RESPONSE':test_pred.flatten()})\n",
    "submission.head()"
   ]
  },
  {
   "cell_type": "code",
   "execution_count": 26,
   "metadata": {},
   "outputs": [],
   "source": [
    "submission.to_csv('pred-imbalanced.csv', index=False)"
   ]
  }
 ],
 "metadata": {
  "kernelspec": {
   "display_name": "Python 3",
   "language": "python",
   "name": "python3"
  },
  "language_info": {
   "codemirror_mode": {
    "name": "ipython",
    "version": 3
   },
   "file_extension": ".py",
   "mimetype": "text/x-python",
   "name": "python",
   "nbconvert_exporter": "python",
   "pygments_lexer": "ipython3",
   "version": "3.6.8"
  }
 },
 "nbformat": 4,
 "nbformat_minor": 2
}
