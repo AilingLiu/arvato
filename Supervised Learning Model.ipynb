{
 "cells": [
  {
   "cell_type": "code",
   "execution_count": 1,
   "metadata": {},
   "outputs": [],
   "source": [
    "# import libraries here; add more as necessary\n",
    "import numpy as np\n",
    "import pandas as pd\n",
    "import matplotlib.pyplot as plt\n",
    "import seaborn as sns\n",
    "\n",
    "from sklearn import preprocessing\n",
    "from sklearn.impute import SimpleImputer\n",
    "from sklearn.decomposition import PCA\n",
    "from sklearn.cluster import KMeans\n",
    "from sklearn.model_selection import train_test_split, GridSearchCV\n",
    "from sklearn.ensemble import AdaBoostClassifier\n",
    "from sklearn.tree import DecisionTreeClassifier\n",
    "from sklearn.metrics import classification_report, roc_auc_score\n",
    "\n",
    "from clean_data import clean_data\n",
    "from preprocess_fit import preprocess_fit\n",
    "\n",
    "# magic word for producing visualizations in notebook\n",
    "%matplotlib inline"
   ]
  },
  {
   "cell_type": "code",
   "execution_count": 2,
   "metadata": {},
   "outputs": [],
   "source": [
    "# Load feature info\n",
    "feat_info = pd.read_csv('features.csv')\n",
    "feat_info.set_index('attribute', inplace=True)\n",
    "\n",
    "# Parse missing_or_known string into a list\n",
    "def parse_missing(s):\n",
    "    a = s[1:-1].split(',')\n",
    "    return a\n",
    "\n",
    "feat_info['missing_or_unknown'] = feat_info['missing_or_unknown'].apply(parse_missing)"
   ]
  },
  {
   "cell_type": "code",
   "execution_count": 3,
   "metadata": {},
   "outputs": [],
   "source": [
    "# impute, scale, and PCA\n",
    "def preprocess_transform(df_clean, imputer, scaler, pca):\n",
    "    df_inputed = imputer.transform(df_clean)\n",
    "    df_scaled = scaler.transform(df_inputed) \n",
    "    df_pca = pca.transform(df_scaled)\n",
    "    return df_pca"
   ]
  },
  {
   "cell_type": "code",
   "execution_count": 4,
   "metadata": {},
   "outputs": [
    {
     "name": "stderr",
     "output_type": "stream",
     "text": [
      "C:\\Users\\Mei\\Anaconda3\\lib\\site-packages\\IPython\\core\\interactiveshell.py:3020: DtypeWarning: Columns (18,19) have mixed types. Specify dtype option on import or set low_memory=False.\n",
      "  interactivity=interactivity, compiler=compiler, result=result)\n"
     ]
    }
   ],
   "source": [
    "# Load and clean population data\n",
    "azdias = pd.read_csv('data/Udacity_AZDIAS_052018.csv', sep=';')\n",
    "azdias_clean, azdias_dropped = clean_data(azdias, feat_info, row_threshold=10)\n",
    "\n",
    "# Preprocess and fit population data\n",
    "azdias_pca, imputer, scaler, pca = preprocess_fit(azdias_clean, pca_n=76, impute_strat='median')"
   ]
  },
  {
   "cell_type": "code",
   "execution_count": 5,
   "metadata": {},
   "outputs": [],
   "source": [
    "# Cluster population data and predict labels \n",
    "k = 6\n",
    "kmeans = KMeans(n_clusters=k)\n",
    "clust_model = kmeans.fit(azdias_pca)\n",
    "population_labels = clust_model.predict(azdias_pca)"
   ]
  },
  {
   "cell_type": "code",
   "execution_count": 6,
   "metadata": {},
   "outputs": [
    {
     "name": "stderr",
     "output_type": "stream",
     "text": [
      "C:\\Users\\Mei\\Anaconda3\\lib\\site-packages\\IPython\\core\\interactiveshell.py:3020: DtypeWarning: Columns (18,19) have mixed types. Specify dtype option on import or set low_memory=False.\n",
      "  interactivity=interactivity, compiler=compiler, result=result)\n"
     ]
    }
   ],
   "source": [
    "# Load in the customer demographics data.\n",
    "customers = pd.read_csv('data/Udacity_CUSTOMERS_052018.csv', sep=';')\n",
    "\n",
    "# Apply preprocessing, feature transformation, and clustering from the general\n",
    "# demographics onto the customer data, obtaining cluster predictions for the\n",
    "# customer demographics data.\n",
    "customers_clean, customers_dropped = clean_data(customers, feat_info, row_threshold=10)\n",
    "customers_pca = preprocess_transform(customers_clean, imputer, scaler, pca)\n",
    "customers_labels = clust_model.predict(customers_pca)"
   ]
  },
  {
   "cell_type": "code",
   "execution_count": 7,
   "metadata": {},
   "outputs": [
    {
     "data": {
      "image/png": "[encoded data removed]",
      "text/plain": [
       "<Figure size 432x288 with 2 Axes>"
      ]
     },
     "metadata": {
      "needs_background": "light"
     },
     "output_type": "display_data"
    }
   ],
   "source": [
    "# Compare the proportion of data in each cluster for the customer data to the\n",
    "# proportion of data in each cluster for the general population.\n",
    "\n",
    "pop = pd.Series(population_labels)\n",
    "cust = pd.Series(customers_labels)\n",
    "\n",
    "plt.subplot(2, 1, 1)\n",
    "ax1 = plt.bar(pop.value_counts().index, pop.value_counts() / pop.value_counts().sum())\n",
    "plt.ylabel('Population %')\n",
    "\n",
    "plt.subplot(2, 1, 2)\n",
    "ax2 = plt.bar(cust.value_counts().index, cust.value_counts() / cust.value_counts().sum())\n",
    "plt.ylabel('Customer %')\n",
    "\n",
    "plt.show()"
   ]
  },
  {
   "cell_type": "markdown",
   "metadata": {},
   "source": [
    "## Part 2: Supervised Learning Model"
   ]
  },
  {
   "cell_type": "code",
   "execution_count": 8,
   "metadata": {},
   "outputs": [
    {
     "name": "stderr",
     "output_type": "stream",
     "text": [
      "C:\\Users\\Mei\\Anaconda3\\lib\\site-packages\\IPython\\core\\interactiveshell.py:3020: DtypeWarning: Columns (18,19) have mixed types. Specify dtype option on import or set low_memory=False.\n",
      "  interactivity=interactivity, compiler=compiler, result=result)\n"
     ]
    }
   ],
   "source": [
    "mailout_train = pd.read_csv('data/Udacity_MAILOUT_052018_TRAIN.csv', sep=';')"
   ]
  },
  {
   "cell_type": "code",
   "execution_count": 11,
   "metadata": {},
   "outputs": [
    {
     "data": {
      "text/plain": [
       "0    0.987617\n",
       "1    0.012383\n",
       "Name: RESPONSE, dtype: float64"
      ]
     },
     "execution_count": 11,
     "metadata": {},
     "output_type": "execute_result"
    }
   ],
   "source": [
    "mailout_train.RESPONSE.value_counts()/mailout_train.shape[0]"
   ]
  },
  {
   "cell_type": "code",
   "execution_count": 10,
   "metadata": {},
   "outputs": [],
   "source": [
    "y = mailout_train.RESPONSE\n",
    "X = mailout_train.drop('RESPONSE', axis=1)\n",
    "\n",
    "X_clean, X_dropped = clean_data(X, feat_info, row_threshold=len(mailout_train.columns))\n",
    "X_pca = preprocess_transform(X_clean, imputer, scaler, pca)"
   ]
  },
  {
   "cell_type": "code",
   "execution_count": 12,
   "metadata": {},
   "outputs": [],
   "source": [
    "X_train, X_test, y_train, y_test = train_test_split(X_pca, y, test_size=0.2, random_state=42, stratify=y)"
   ]
  },
  {
   "cell_type": "code",
   "execution_count": 13,
   "metadata": {},
   "outputs": [
    {
     "data": {
      "text/plain": [
       "0    33943\n",
       "1      426\n",
       "Name: RESPONSE, dtype: int64"
      ]
     },
     "execution_count": 13,
     "metadata": {},
     "output_type": "execute_result"
    }
   ],
   "source": [
    "y_train.value_counts()"
   ]
  },
  {
   "cell_type": "markdown",
   "metadata": {},
   "source": [
    "### Try applying clustering"
   ]
  },
  {
   "cell_type": "code",
   "execution_count": 14,
   "metadata": {},
   "outputs": [],
   "source": [
    "X_train_labels = clust_model.predict(X_train)"
   ]
  },
  {
   "cell_type": "code",
   "execution_count": 15,
   "metadata": {},
   "outputs": [
    {
     "name": "stdout",
     "output_type": "stream",
     "text": [
      "(34369, 76)\n",
      "34369\n"
     ]
    },
    {
     "data": {
      "text/html": [
       "<div>\n",
       "<style scoped>\n",
       "    .dataframe tbody tr th:only-of-type {\n",
       "        vertical-align: middle;\n",
       "    }\n",
       "\n",
       "    .dataframe tbody tr th {\n",
       "        vertical-align: top;\n",
       "    }\n",
       "\n",
       "    .dataframe thead th {\n",
       "        text-align: right;\n",
       "    }\n",
       "</style>\n",
       "<table border=\"1\" class=\"dataframe\">\n",
       "  <thead>\n",
       "    <tr style=\"text-align: right;\">\n",
       "      <th></th>\n",
       "      <th>RESPONSE</th>\n",
       "      <th>Cluster</th>\n",
       "    </tr>\n",
       "  </thead>\n",
       "  <tbody>\n",
       "    <tr>\n",
       "      <th>25923</th>\n",
       "      <td>0</td>\n",
       "      <td>5</td>\n",
       "    </tr>\n",
       "    <tr>\n",
       "      <th>14938</th>\n",
       "      <td>0</td>\n",
       "      <td>3</td>\n",
       "    </tr>\n",
       "    <tr>\n",
       "      <th>1928</th>\n",
       "      <td>0</td>\n",
       "      <td>5</td>\n",
       "    </tr>\n",
       "    <tr>\n",
       "      <th>20513</th>\n",
       "      <td>0</td>\n",
       "      <td>1</td>\n",
       "    </tr>\n",
       "    <tr>\n",
       "      <th>2325</th>\n",
       "      <td>0</td>\n",
       "      <td>5</td>\n",
       "    </tr>\n",
       "  </tbody>\n",
       "</table>\n",
       "</div>"
      ],
      "text/plain": [
       "       RESPONSE  Cluster\n",
       "25923         0        5\n",
       "14938         0        3\n",
       "1928          0        5\n",
       "20513         0        1\n",
       "2325          0        5"
      ]
     },
     "execution_count": 15,
     "metadata": {},
     "output_type": "execute_result"
    }
   ],
   "source": [
    "print(X_train.shape)\n",
    "print(len(X_train_labels))\n",
    "X_combined = pd.DataFrame({'RESPONSE':y_train, 'Cluster':X_train_labels})\n",
    "X_combined.head()"
   ]
  },
  {
   "cell_type": "code",
   "execution_count": 16,
   "metadata": {},
   "outputs": [
    {
     "name": "stdout",
     "output_type": "stream",
     "text": [
      "5    0.415493\n",
      "1    0.190141\n",
      "4    0.161972\n",
      "0    0.117371\n",
      "3    0.107981\n",
      "2    0.007042\n",
      "Name: Cluster, dtype: float64\n",
      "5    0.361754\n",
      "1    0.210942\n",
      "4    0.174881\n",
      "3    0.136552\n",
      "0    0.105383\n",
      "2    0.010488\n",
      "Name: Cluster, dtype: float64\n"
     ]
    }
   ],
   "source": [
    "p_yes = X_combined[X_combined.RESPONSE == 1].Cluster.value_counts() / X_combined[X_combined.RESPONSE == 1].Cluster.value_counts().sum()\n",
    "print(p_yes)\n",
    "p_no = X_combined[X_combined.RESPONSE == 0].Cluster.value_counts() / X_combined[X_combined.RESPONSE == 0].Cluster.value_counts().sum()\n",
    "print(p_no)"
   ]
  },
  {
   "cell_type": "code",
   "execution_count": 17,
   "metadata": {},
   "outputs": [
    {
     "data": {
      "image/png": "[encoded data removed]",
      "text/plain": [
       "<Figure size 432x288 with 2 Axes>"
      ]
     },
     "metadata": {
      "needs_background": "light"
     },
     "output_type": "display_data"
    }
   ],
   "source": [
    "plt.subplot(2, 1, 1)\n",
    "ax1 = plt.bar(p_yes.index, p_yes)\n",
    "plt.ylabel('Response = 1')\n",
    "\n",
    "plt.subplot(2, 1, 2)\n",
    "ax1 = plt.bar(p_no.index, p_no)\n",
    "plt.ylabel('Response = 0')\n",
    "\n",
    "plt.show()"
   ]
  },
  {
   "cell_type": "code",
   "execution_count": 18,
   "metadata": {},
   "outputs": [
    {
     "data": {
      "image/png": "[encoded data removed]",
      "text/plain": [
       "<Figure size 432x288 with 1 Axes>"
      ]
     },
     "metadata": {
      "needs_background": "light"
     },
     "output_type": "display_data"
    }
   ],
   "source": [
    "counts = X_combined.groupby('RESPONSE').Cluster.value_counts().unstack(0)\n",
    "counts.plot.bar(stacked=True);"
   ]
  },
  {
   "cell_type": "code",
   "execution_count": 31,
   "metadata": {},
   "outputs": [
    {
     "data": {
      "text/html": [
       "<div>\n",
       "<style scoped>\n",
       "    .dataframe tbody tr th:only-of-type {\n",
       "        vertical-align: middle;\n",
       "    }\n",
       "\n",
       "    .dataframe tbody tr th {\n",
       "        vertical-align: top;\n",
       "    }\n",
       "\n",
       "    .dataframe thead th {\n",
       "        text-align: right;\n",
       "    }\n",
       "</style>\n",
       "<table border=\"1\" class=\"dataframe\">\n",
       "  <thead>\n",
       "    <tr style=\"text-align: right;\">\n",
       "      <th>RESPONSE</th>\n",
       "      <th>0</th>\n",
       "      <th>1</th>\n",
       "    </tr>\n",
       "    <tr>\n",
       "      <th>Cluster</th>\n",
       "      <th></th>\n",
       "      <th></th>\n",
       "    </tr>\n",
       "  </thead>\n",
       "  <tbody>\n",
       "    <tr>\n",
       "      <th>0</th>\n",
       "      <td>0.986215</td>\n",
       "      <td>0.013785</td>\n",
       "    </tr>\n",
       "    <tr>\n",
       "      <th>1</th>\n",
       "      <td>0.988814</td>\n",
       "      <td>0.011186</td>\n",
       "    </tr>\n",
       "    <tr>\n",
       "      <th>2</th>\n",
       "      <td>0.991643</td>\n",
       "      <td>0.008357</td>\n",
       "    </tr>\n",
       "    <tr>\n",
       "      <th>3</th>\n",
       "      <td>0.990173</td>\n",
       "      <td>0.009827</td>\n",
       "    </tr>\n",
       "    <tr>\n",
       "      <th>4</th>\n",
       "      <td>0.988510</td>\n",
       "      <td>0.011490</td>\n",
       "    </tr>\n",
       "    <tr>\n",
       "      <th>5</th>\n",
       "      <td>0.985790</td>\n",
       "      <td>0.014210</td>\n",
       "    </tr>\n",
       "  </tbody>\n",
       "</table>\n",
       "</div>"
      ],
      "text/plain": [
       "RESPONSE         0         1\n",
       "Cluster                     \n",
       "0         0.986215  0.013785\n",
       "1         0.988814  0.011186\n",
       "2         0.991643  0.008357\n",
       "3         0.990173  0.009827\n",
       "4         0.988510  0.011490\n",
       "5         0.985790  0.014210"
      ]
     },
     "execution_count": 31,
     "metadata": {},
     "output_type": "execute_result"
    }
   ],
   "source": [
    "p_response = counts.apply(lambda x: x/X_combined.Cluster.value_counts().sort_index())\n",
    "p_response"
   ]
  },
  {
   "cell_type": "code",
   "execution_count": 33,
   "metadata": {},
   "outputs": [
    {
     "data": {
      "text/plain": [
       "0    0.987605\n",
       "1    0.012395\n",
       "Name: RESPONSE, dtype: float64"
      ]
     },
     "execution_count": 33,
     "metadata": {},
     "output_type": "execute_result"
    }
   ],
   "source": [
    "X_combined.RESPONSE.value_counts() / X_combined.shape[0]"
   ]
  },
  {
   "cell_type": "markdown",
   "metadata": {},
   "source": [
    "### AdaBoost"
   ]
  },
  {
   "cell_type": "code",
   "execution_count": 66,
   "metadata": {},
   "outputs": [],
   "source": [
    "ada = AdaBoostClassifier(DecisionTreeClassifier(class_weight='balanced'), algorithm='SAMME.R')\n",
    "ada.fit(X_train, y_train)"
   ]
  },
  {
   "cell_type": "code",
   "execution_count": 14,
   "metadata": {
    "scrolled": true
   },
   "outputs": [
    {
     "name": "stdout",
     "output_type": "stream",
     "text": [
      "              precision    recall  f1-score   support\n",
      "\n",
      "           0       0.99      0.96      0.97      8487\n",
      "           1       0.02      0.08      0.03       106\n",
      "\n",
      "   micro avg       0.95      0.95      0.95      8593\n",
      "   macro avg       0.50      0.52      0.50      8593\n",
      "weighted avg       0.98      0.95      0.96      8593\n",
      "\n",
      "0.5158788913565919\n"
     ]
    }
   ],
   "source": [
    "y_preds = ada.predict(X_test)\n",
    "print(classification_report(y_test, y_preds))\n",
    "print(roc_auc_score(y_test, y_preds))"
   ]
  },
  {
   "cell_type": "code",
   "execution_count": 63,
   "metadata": {},
   "outputs": [],
   "source": [
    "# Dealing with the class imbalance\n",
    "from imblearn.under_sampling import ClusterCentroids\n",
    "\n",
    "cc = ClusterCentroids()\n",
    "X_resampled, y_resampled = cc.fit_sample(X_train, y_train)"
   ]
  },
  {
   "cell_type": "code",
   "execution_count": 64,
   "metadata": {},
   "outputs": [
    {
     "data": {
      "text/plain": [
       "1    426\n",
       "0    426\n",
       "dtype: int64"
      ]
     },
     "execution_count": 64,
     "metadata": {},
     "output_type": "execute_result"
    }
   ],
   "source": [
    "pd.value_counts(y_resampled)"
   ]
  },
  {
   "cell_type": "code",
   "execution_count": 67,
   "metadata": {},
   "outputs": [
    {
     "data": {
      "text/plain": [
       "0.503457007498705"
      ]
     },
     "execution_count": 67,
     "metadata": {},
     "output_type": "execute_result"
    }
   ],
   "source": [
    "ada.fit(X_resampled, y_resampled)\n",
    "y_preds = ada.predict(X_test)\n",
    "roc_auc_score(y_test, y_preds)"
   ]
  },
  {
   "cell_type": "code",
   "execution_count": 39,
   "metadata": {},
   "outputs": [
    {
     "data": {
      "text/plain": [
       "{'algorithm': 'SAMME.R',\n",
       " 'base_estimator__class_weight': 'balanced',\n",
       " 'base_estimator__criterion': 'gini',\n",
       " 'base_estimator__max_depth': None,\n",
       " 'base_estimator__max_features': None,\n",
       " 'base_estimator__max_leaf_nodes': None,\n",
       " 'base_estimator__min_impurity_decrease': 0.0,\n",
       " 'base_estimator__min_impurity_split': None,\n",
       " 'base_estimator__min_samples_leaf': 1,\n",
       " 'base_estimator__min_samples_split': 2,\n",
       " 'base_estimator__min_weight_fraction_leaf': 0.0,\n",
       " 'base_estimator__presort': False,\n",
       " 'base_estimator__random_state': None,\n",
       " 'base_estimator__splitter': 'best',\n",
       " 'base_estimator': DecisionTreeClassifier(class_weight='balanced', criterion='gini',\n",
       "             max_depth=None, max_features=None, max_leaf_nodes=None,\n",
       "             min_impurity_decrease=0.0, min_impurity_split=None,\n",
       "             min_samples_leaf=1, min_samples_split=2,\n",
       "             min_weight_fraction_leaf=0.0, presort=False, random_state=None,\n",
       "             splitter='best'),\n",
       " 'learning_rate': 1.0,\n",
       " 'n_estimators': 50,\n",
       " 'random_state': None}"
      ]
     },
     "execution_count": 39,
     "metadata": {},
     "output_type": "execute_result"
    }
   ],
   "source": [
    "ada.get_params()"
   ]
  },
  {
   "cell_type": "code",
   "execution_count": 69,
   "metadata": {},
   "outputs": [
    {
     "name": "stdout",
     "output_type": "stream",
     "text": [
      "{'base_estimator__class_weight': None, 'base_estimator__max_depth': 100, 'learning_rate': 1, 'n_estimators': 50}\n"
     ]
    }
   ],
   "source": [
    "# Improving the model\n",
    "parameters = {\n",
    "    'base_estimator__class_weight':['balanced', None],\n",
    "    'base_estimator__max_depth':[50, 100, None],\n",
    "    'n_estimators':[50, 100],\n",
    "    'learning_rate':[.75, 1]\n",
    "}\n",
    "\n",
    "cv = GridSearchCV(ada, parameters, cv=3, scoring='roc_auc')\n",
    "cv.fit(X_resampled, y_resampled)\n",
    "print(cv.best_params_)"
   ]
  },
  {
   "cell_type": "code",
   "execution_count": 70,
   "metadata": {},
   "outputs": [
    {
     "data": {
      "text/plain": [
       "0.5128320561302414"
      ]
     },
     "execution_count": 70,
     "metadata": {},
     "output_type": "execute_result"
    }
   ],
   "source": [
    "y_preds = cv.predict(X_test)\n",
    "roc_auc_score(y_test, y_preds)"
   ]
  },
  {
   "cell_type": "markdown",
   "metadata": {},
   "source": [
    "### Keras"
   ]
  },
  {
   "cell_type": "code",
   "execution_count": 2,
   "metadata": {},
   "outputs": [
    {
     "name": "stderr",
     "output_type": "stream",
     "text": [
      "Using TensorFlow backend.\n"
     ]
    }
   ],
   "source": [
    "import keras\n",
    "from keras.models import Sequential\n",
    "from keras.layers import Activation, Dense, Dropout, BatchNormalization"
   ]
  },
  {
   "cell_type": "code",
   "execution_count": 71,
   "metadata": {},
   "outputs": [
    {
     "data": {
      "text/plain": [
       "76"
      ]
     },
     "execution_count": 71,
     "metadata": {},
     "output_type": "execute_result"
    }
   ],
   "source": [
    "X_train.shape[1]"
   ]
  },
  {
   "cell_type": "code",
   "execution_count": 57,
   "metadata": {},
   "outputs": [],
   "source": [
    "def make_model(n_features):\n",
    "    model = Sequential()\n",
    "    model.add(Dense(50, input_shape=(n_features,),\n",
    "              kernel_initializer='glorot_normal'))\n",
    "    model.add(Activation('relu'))\n",
    "    model.add(BatchNormalization())\n",
    "    model.add(Dropout(0.15))\n",
    "    model.add(Dense(25, kernel_initializer='glorot_normal'))\n",
    "    model.add(Activation('relu'))\n",
    "    model.add(BatchNormalization())\n",
    "    model.add(Dropout(0.1))\n",
    "    model.add(Dense(1, activation='sigmoid'))\n",
    "\n",
    "    model.compile(loss='binary_crossentropy',\n",
    "                  optimizer='adam',\n",
    "                  metrics=['accuracy'])\n",
    "\n",
    "    return model"
   ]
  },
  {
   "cell_type": "code",
   "execution_count": 60,
   "metadata": {},
   "outputs": [],
   "source": [
    "from imblearn.keras import BalancedBatchGenerator\n",
    "from imblearn.under_sampling import ClusterCentroids, NearMiss\n",
    "\n",
    "def fit_predict_balanced_model(X_train, y_train, X_test, y_test):\n",
    "    model = make_model(X_train.shape[1])\n",
    "    training_generator = BalancedBatchGenerator(X_train, y_train,\n",
    "                                                random_state=42)\n",
    "    model.fit_generator(generator=training_generator, epochs=50, verbose=1)\n",
    "    y_pred = model.predict_proba(X_test)\n",
    "    return roc_auc_score(y_test, y_pred)"
   ]
  },
  {
   "cell_type": "code",
   "execution_count": 61,
   "metadata": {},
   "outputs": [
    {
     "name": "stdout",
     "output_type": "stream",
     "text": [
      "Epoch 1/50\n",
      "26/26 [==============================] - 1s 52ms/step - loss: 0.8552 - acc: 0.4940\n",
      "Epoch 2/50\n",
      "26/26 [==============================] - 0s 9ms/step - loss: 0.7566 - acc: 0.5300\n",
      "Epoch 3/50\n",
      "26/26 [==============================] - 0s 8ms/step - loss: 0.6989 - acc: 0.5721\n",
      "Epoch 4/50\n",
      "26/26 [==============================] - 0s 9ms/step - loss: 0.6518 - acc: 0.6238\n",
      "Epoch 5/50\n",
      "26/26 [==============================] - 0s 9ms/step - loss: 0.6355 - acc: 0.6334\n",
      "Epoch 6/50\n",
      "26/26 [==============================] - 0s 8ms/step - loss: 0.6271 - acc: 0.6430\n",
      "Epoch 7/50\n",
      "26/26 [==============================] - 0s 9ms/step - loss: 0.5897 - acc: 0.6659\n",
      "Epoch 8/50\n",
      "26/26 [==============================] - 0s 9ms/step - loss: 0.5742 - acc: 0.6923\n",
      "Epoch 9/50\n",
      "26/26 [==============================] - 0s 9ms/step - loss: 0.5615 - acc: 0.6851\n",
      "Epoch 10/50\n",
      "26/26 [==============================] - 0s 9ms/step - loss: 0.5453 - acc: 0.7091\n",
      "Epoch 11/50\n",
      "26/26 [==============================] - 0s 9ms/step - loss: 0.5416 - acc: 0.7416\n",
      "Epoch 12/50\n",
      "26/26 [==============================] - 0s 9ms/step - loss: 0.5070 - acc: 0.7476\n",
      "Epoch 13/50\n",
      "26/26 [==============================] - 0s 9ms/step - loss: 0.4971 - acc: 0.7620\n",
      "Epoch 14/50\n",
      "26/26 [==============================] - 0s 9ms/step - loss: 0.4572 - acc: 0.7909\n",
      "Epoch 15/50\n",
      "26/26 [==============================] - 0s 9ms/step - loss: 0.4718 - acc: 0.7752\n",
      "Epoch 16/50\n",
      "26/26 [==============================] - 0s 8ms/step - loss: 0.4711 - acc: 0.7584\n",
      "Epoch 17/50\n",
      "26/26 [==============================] - 0s 9ms/step - loss: 0.4331 - acc: 0.7897\n",
      "Epoch 18/50\n",
      "26/26 [==============================] - 0s 8ms/step - loss: 0.4229 - acc: 0.7969\n",
      "Epoch 19/50\n",
      "26/26 [==============================] - 0s 9ms/step - loss: 0.4096 - acc: 0.8017\n",
      "Epoch 20/50\n",
      "26/26 [==============================] - 0s 8ms/step - loss: 0.4084 - acc: 0.8245\n",
      "Epoch 21/50\n",
      "26/26 [==============================] - 0s 9ms/step - loss: 0.3886 - acc: 0.8317\n",
      "Epoch 22/50\n",
      "26/26 [==============================] - 0s 8ms/step - loss: 0.3827 - acc: 0.8401\n",
      "Epoch 23/50\n",
      "26/26 [==============================] - 0s 9ms/step - loss: 0.3879 - acc: 0.8233\n",
      "Epoch 24/50\n",
      "26/26 [==============================] - 0s 9ms/step - loss: 0.3762 - acc: 0.8317\n",
      "Epoch 25/50\n",
      "26/26 [==============================] - 0s 9ms/step - loss: 0.3535 - acc: 0.8425\n",
      "Epoch 26/50\n",
      "26/26 [==============================] - 0s 9ms/step - loss: 0.3578 - acc: 0.8353\n",
      "Epoch 27/50\n",
      "26/26 [==============================] - 0s 8ms/step - loss: 0.3254 - acc: 0.8546\n",
      "Epoch 28/50\n",
      "26/26 [==============================] - 0s 9ms/step - loss: 0.3154 - acc: 0.8690\n",
      "Epoch 29/50\n",
      "26/26 [==============================] - 0s 9ms/step - loss: 0.3161 - acc: 0.8546\n",
      "Epoch 30/50\n",
      "26/26 [==============================] - 0s 8ms/step - loss: 0.3140 - acc: 0.8558\n",
      "Epoch 31/50\n",
      "26/26 [==============================] - 0s 10ms/step - loss: 0.2930 - acc: 0.8714\n",
      "Epoch 32/50\n",
      "26/26 [==============================] - 0s 9ms/step - loss: 0.2880 - acc: 0.8702\n",
      "Epoch 33/50\n",
      "26/26 [==============================] - 0s 9ms/step - loss: 0.3095 - acc: 0.8450\n",
      "Epoch 34/50\n",
      "26/26 [==============================] - 0s 9ms/step - loss: 0.2722 - acc: 0.8894\n",
      "Epoch 35/50\n",
      "26/26 [==============================] - 0s 9ms/step - loss: 0.2703 - acc: 0.8774\n",
      "Epoch 36/50\n",
      "26/26 [==============================] - 0s 8ms/step - loss: 0.2680 - acc: 0.8750\n",
      "Epoch 37/50\n",
      "26/26 [==============================] - 0s 9ms/step - loss: 0.2664 - acc: 0.8834\n",
      "Epoch 38/50\n",
      "26/26 [==============================] - 0s 9ms/step - loss: 0.2444 - acc: 0.8822\n",
      "Epoch 39/50\n",
      "26/26 [==============================] - 0s 8ms/step - loss: 0.2496 - acc: 0.8906\n",
      "Epoch 40/50\n",
      "26/26 [==============================] - 0s 6ms/step - loss: 0.2473 - acc: 0.8774\n",
      "Epoch 41/50\n",
      "26/26 [==============================] - 0s 7ms/step - loss: 0.2440 - acc: 0.8918\n",
      "Epoch 42/50\n",
      "26/26 [==============================] - 0s 7ms/step - loss: 0.2359 - acc: 0.8966\n",
      "Epoch 43/50\n",
      "26/26 [==============================] - 0s 7ms/step - loss: 0.2200 - acc: 0.9062\n",
      "Epoch 44/50\n",
      "26/26 [==============================] - 0s 7ms/step - loss: 0.2129 - acc: 0.9087\n",
      "Epoch 45/50\n",
      "26/26 [==============================] - 0s 6ms/step - loss: 0.2126 - acc: 0.9062\n",
      "Epoch 46/50\n",
      "26/26 [==============================] - 0s 8ms/step - loss: 0.2138 - acc: 0.9014\n",
      "Epoch 47/50\n",
      "26/26 [==============================] - 0s 5ms/step - loss: 0.2095 - acc: 0.9062\n",
      "Epoch 48/50\n",
      "26/26 [==============================] - 0s 9ms/step - loss: 0.2042 - acc: 0.9002\n",
      "Epoch 49/50\n",
      "26/26 [==============================] - 0s 8ms/step - loss: 0.2144 - acc: 0.8990\n",
      "Epoch 50/50\n",
      "26/26 [==============================] - 0s 8ms/step - loss: 0.2119 - acc: 0.9026\n"
     ]
    },
    {
     "data": {
      "text/plain": [
       "0.5072030252706137"
      ]
     },
     "execution_count": 61,
     "metadata": {},
     "output_type": "execute_result"
    }
   ],
   "source": [
    "roc_auc = fit_predict_balanced_model(X_train, y_train, X_test, y_test)\n",
    "roc_auc"
   ]
  }
 ],
 "metadata": {
  "kernelspec": {
   "display_name": "Python 3",
   "language": "python",
   "name": "python3"
  },
  "language_info": {
   "codemirror_mode": {
    "name": "ipython",
    "version": 3
   },
   "file_extension": ".py",
   "mimetype": "text/x-python",
   "name": "python",
   "nbconvert_exporter": "python",
   "pygments_lexer": "ipython3",
   "version": "3.6.7"
  }
 },
 "nbformat": 4,
 "nbformat_minor": 2
}
