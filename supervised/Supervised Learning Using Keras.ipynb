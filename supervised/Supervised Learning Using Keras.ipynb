{
 "cells": [
  {
   "cell_type": "markdown",
   "metadata": {},
   "source": [
    "# Supervised Learning Using Keras"
   ]
  },
  {
   "cell_type": "code",
   "execution_count": 10,
   "metadata": {},
   "outputs": [],
   "source": [
    "import numpy as np\n",
    "import pandas as pd\n",
    "import matplotlib.pyplot as plt\n",
    "import seaborn as sns\n",
    "import time\n",
    "import pickle\n",
    "\n",
    "from sklearn.model_selection import train_test_split\n",
    "from sklearn.metrics import roc_auc_score, roc_curve, precision_recall_curve, auc\n",
    "from sklearn.compose import ColumnTransformer\n",
    "from sklearn.pipeline import make_pipeline\n",
    "from sklearn.preprocessing import StandardScaler\n",
    "from sklearn.preprocessing import FunctionTransformer\n",
    "from sklearn.impute import SimpleImputer\n",
    "from sklearn.model_selection import GridSearchCV\n",
    "\n",
    "import keras\n",
    "from keras.models import Sequential\n",
    "from keras.layers import Activation, Dense, Dropout, BatchNormalization\n",
    "from keras.wrappers.scikit_learn import KerasClassifier\n",
    "from keras.optimizers import Adam\n",
    "from keras.callbacks import EarlyStopping, ModelCheckpoint\n",
    "\n",
    "from imblearn.keras import BalancedBatchGenerator\n",
    "\n",
    "from clean_data import clean_data\n",
    "from preprocess import make_preprocessor, get_columns"
   ]
  },
  {
   "cell_type": "markdown",
   "metadata": {},
   "source": [
    "## Part 2: Supervised Learning Model"
   ]
  },
  {
   "cell_type": "code",
   "execution_count": 13,
   "metadata": {},
   "outputs": [
    {
     "name": "stderr",
     "output_type": "stream",
     "text": [
      "C:\\Users\\Mei\\Anaconda3\\envs\\tensorflow-gpu\\lib\\site-packages\\IPython\\core\\interactiveshell.py:3020: DtypeWarning: Columns (18,19) have mixed types. Specify dtype option on import or set low_memory=False.\n",
      "  interactivity=interactivity, compiler=compiler, result=result)\n"
     ]
    }
   ],
   "source": [
    "mailout_train = pd.read_csv('../data/Udacity_MAILOUT_052018_TRAIN.csv', sep=';')"
   ]
  },
  {
   "cell_type": "code",
   "execution_count": 14,
   "metadata": {},
   "outputs": [
    {
     "data": {
      "text/plain": [
       "(42962, 367)"
      ]
     },
     "execution_count": 14,
     "metadata": {},
     "output_type": "execute_result"
    }
   ],
   "source": [
    "mailout_train.shape"
   ]
  },
  {
   "cell_type": "code",
   "execution_count": 15,
   "metadata": {},
   "outputs": [],
   "source": [
    "y = mailout_train.RESPONSE\n",
    "X = mailout_train.drop('RESPONSE', axis=1)"
   ]
  },
  {
   "cell_type": "code",
   "execution_count": 10,
   "metadata": {},
   "outputs": [
    {
     "data": {
      "text/plain": [
       "0    42430\n",
       "1      532\n",
       "Name: RESPONSE, dtype: int64"
      ]
     },
     "execution_count": 10,
     "metadata": {},
     "output_type": "execute_result"
    }
   ],
   "source": [
    "y.value_counts()"
   ]
  },
  {
   "cell_type": "code",
   "execution_count": 11,
   "metadata": {},
   "outputs": [
    {
     "data": {
      "text/plain": [
       "0    98.761696\n",
       "1     1.238304\n",
       "Name: RESPONSE, dtype: float64"
      ]
     },
     "execution_count": 11,
     "metadata": {},
     "output_type": "execute_result"
    }
   ],
   "source": [
    "y.value_counts() / y.shape[0] * 100"
   ]
  },
  {
   "cell_type": "code",
   "execution_count": 5,
   "metadata": {},
   "outputs": [],
   "source": [
    "# Load feature info\n",
    "feat_info = pd.read_csv('../features.csv')\n",
    "feat_info.set_index('attribute', inplace=True)\n",
    "\n",
    "# Parse missing_or_known string into a list\n",
    "def parse_missing(s):\n",
    "    a = s[1:-1].split(',')\n",
    "    return a\n",
    "\n",
    "feat_info['missing_or_unknown'] = feat_info['missing_or_unknown'].apply(parse_missing)"
   ]
  },
  {
   "cell_type": "markdown",
   "metadata": {},
   "source": [
    "### Get to know the data"
   ]
  },
  {
   "cell_type": "code",
   "execution_count": 13,
   "metadata": {},
   "outputs": [],
   "source": [
    "X_clean = X\n",
    "\n",
    "# Drop columns not in data dictionary\n",
    "#missing_from_feat_info = set(X_clean.columns.values).difference(feat_info.index.values)\n",
    "#X_clean.drop(list(missing_from_feat_info), axis='columns', inplace=True)\n",
    "\n",
    "# Convert missing values to Nans\n",
    "missing_values = pd.Series(feat_info['missing_or_unknown'].values, index=feat_info.index).to_dict()\n",
    "X_clean[X_clean.isin(missing_values)] = np.nan"
   ]
  },
  {
   "cell_type": "code",
   "execution_count": 14,
   "metadata": {},
   "outputs": [
    {
     "data": {
      "text/plain": [
       "(42962, 366)"
      ]
     },
     "execution_count": 14,
     "metadata": {},
     "output_type": "execute_result"
    }
   ],
   "source": [
    "X_clean.shape"
   ]
  },
  {
   "cell_type": "code",
   "execution_count": 15,
   "metadata": {},
   "outputs": [
    {
     "data": {
      "text/plain": [
       "ALTER_KIND4       0.999046\n",
       "ALTER_KIND3       0.995950\n",
       "TITEL_KZ          0.995042\n",
       "ALTER_KIND2       0.982403\n",
       "ALTER_KIND1       0.953727\n",
       "KK_KUNDENTYP      0.589265\n",
       "KBA05_BAUMAX      0.534891\n",
       "AGER_TYP          0.439691\n",
       "GEBURTSJAHR       0.406755\n",
       "EXTSEL992         0.371212\n",
       "ALTER_HH          0.306713\n",
       "W_KEIT_KIND_HH    0.242470\n",
       "KKK               0.231134\n",
       "REGIOTYP          0.231134\n",
       "HH_DELTA_FLAG     0.225269\n",
       "KBA05_MOD3        0.210209\n",
       "KBA05_MOD2        0.210209\n",
       "KBA05_MOD1        0.210209\n",
       "KBA05_MAXSEG      0.210209\n",
       "KBA05_MAXVORB     0.210209\n",
       "dtype: float64"
      ]
     },
     "execution_count": 15,
     "metadata": {},
     "output_type": "execute_result"
    }
   ],
   "source": [
    "# Missing values by column\n",
    "p_missing = (X_clean.isnull().sum() / X_clean.shape[0])\n",
    "p_missing.sort_values(ascending=False).head(20)"
   ]
  },
  {
   "cell_type": "code",
   "execution_count": 16,
   "metadata": {},
   "outputs": [
    {
     "data": {
      "text/plain": [
       "0.18532656766444766"
      ]
     },
     "execution_count": 16,
     "metadata": {},
     "output_type": "execute_result"
    }
   ],
   "source": [
    "p_missing.KBA13_ANZAHL_PKW"
   ]
  },
  {
   "cell_type": "code",
   "execution_count": 14,
   "metadata": {},
   "outputs": [
    {
     "data": {
      "text/plain": [
       "(array([102.,   0.,   0.,   1., 181.,  70.,   1.,   1.,   0.,   1.,   1.,\n",
       "          1.,   0.,   1.,   1.,   0.,   0.,   0.,   0.,   0.,   0.,   0.,\n",
       "          0.,   1.,   4.]),\n",
       " array([0.        , 0.03996183, 0.07992365, 0.11988548, 0.15984731,\n",
       "        0.19980913, 0.23977096, 0.27973279, 0.31969461, 0.35965644,\n",
       "        0.39961827, 0.43958009, 0.47954192, 0.51950375, 0.55946557,\n",
       "        0.5994274 , 0.63938923, 0.67935105, 0.71931288, 0.75927471,\n",
       "        0.79923653, 0.83919836, 0.87916019, 0.91912201, 0.95908384,\n",
       "        0.99904567]),\n",
       " <a list of 25 Patch objects>)"
      ]
     },
     "execution_count": 14,
     "metadata": {},
     "output_type": "execute_result"
    },
    {
     "data": {
      "image/png": "[encoded data removed]",
      "text/plain": [
       "<Figure size 432x288 with 1 Axes>"
      ]
     },
     "metadata": {
      "needs_background": "light"
     },
     "output_type": "display_data"
    }
   ],
   "source": [
    "plt.hist(p_missing, bins=25)\n",
    "#plt.title('% missing values by column')\n",
    "#plt.ylabel('count')\n",
    "#plt.xlabel('% missing')"
   ]
  },
  {
   "cell_type": "code",
   "execution_count": 15,
   "metadata": {},
   "outputs": [
    {
     "data": {
      "text/plain": [
       "(array([102.,   0.,   0.,   1., 181.,  70.,   1.,   1.,   0.,   1.]),\n",
       " array([0.  , 0.04, 0.08, 0.12, 0.16, 0.2 , 0.24, 0.28, 0.32, 0.36, 0.4 ]),\n",
       " <a list of 10 Patch objects>)"
      ]
     },
     "execution_count": 15,
     "metadata": {},
     "output_type": "execute_result"
    },
    {
     "data": {
      "image/png": "[encoded data removed]",
      "text/plain": [
       "<Figure size 432x288 with 1 Axes>"
      ]
     },
     "metadata": {
      "needs_background": "light"
     },
     "output_type": "display_data"
    }
   ],
   "source": [
    "plt.hist(p_missing, range=(0,.4))"
   ]
  },
  {
   "cell_type": "code",
   "execution_count": 18,
   "metadata": {},
   "outputs": [
    {
     "data": {
      "text/plain": [
       "Index(['AGER_TYP', 'ALTER_HH', 'ALTER_KIND1', 'ALTER_KIND2', 'ALTER_KIND3',\n",
       "       'ALTER_KIND4', 'EXTSEL992', 'GEBURTSJAHR', 'HH_DELTA_FLAG',\n",
       "       'KBA05_BAUMAX', 'KK_KUNDENTYP', 'KKK', 'REGIOTYP', 'TITEL_KZ',\n",
       "       'W_KEIT_KIND_HH'],\n",
       "      dtype='object')"
      ]
     },
     "execution_count": 18,
     "metadata": {},
     "output_type": "execute_result"
    }
   ],
   "source": [
    "col_threshold = .22\n",
    "to_drop = p_missing[p_missing >= col_threshold]\n",
    "to_drop.index"
   ]
  },
  {
   "cell_type": "code",
   "execution_count": 19,
   "metadata": {},
   "outputs": [
    {
     "data": {
      "text/plain": [
       "(42962, 351)"
      ]
     },
     "execution_count": 19,
     "metadata": {},
     "output_type": "execute_result"
    }
   ],
   "source": [
    "X_clean = X_clean.drop(to_drop.index, axis=1)\n",
    "X_clean.shape"
   ]
  },
  {
   "cell_type": "code",
   "execution_count": 20,
   "metadata": {},
   "outputs": [
    {
     "data": {
      "image/png": "[encoded data removed]",
      "text/plain": [
       "<Figure size 432x288 with 1 Axes>"
      ]
     },
     "metadata": {
      "needs_background": "light"
     },
     "output_type": "display_data"
    }
   ],
   "source": [
    "# Missing values by row\n",
    "n_missing = X_clean.isnull().sum(axis=1)\n",
    "n_missing.hist();"
   ]
  },
  {
   "cell_type": "code",
   "execution_count": 21,
   "metadata": {},
   "outputs": [],
   "source": [
    "X_clean['RESPONSE'] = y"
   ]
  },
  {
   "cell_type": "code",
   "execution_count": 23,
   "metadata": {},
   "outputs": [
    {
     "data": {
      "text/plain": [
       "96"
      ]
     },
     "execution_count": 23,
     "metadata": {},
     "output_type": "execute_result"
    }
   ],
   "source": [
    "above_yes = X_clean[(n_missing > 150) & (X_clean.RESPONSE == 1)]\n",
    "above_yes.shape[0]"
   ]
  },
  {
   "cell_type": "markdown",
   "metadata": {},
   "source": [
    "Keep all rows because we would lose too many positive responses."
   ]
  },
  {
   "cell_type": "markdown",
   "metadata": {},
   "source": [
    "### Clean Data "
   ]
  },
  {
   "cell_type": "code",
   "execution_count": 18,
   "metadata": {},
   "outputs": [
    {
     "name": "stdout",
     "output_type": "stream",
     "text": [
      "(42962, 382)\n"
     ]
    }
   ],
   "source": [
    "X_clean = clean_data(X, feat_info)\n",
    "print(X_clean.shape)\n",
    "#print(X_dropped.shape)"
   ]
  },
  {
   "cell_type": "code",
   "execution_count": 2,
   "metadata": {},
   "outputs": [
    {
     "data": {
      "text/plain": [
       "(42962, 383)"
      ]
     },
     "execution_count": 2,
     "metadata": {},
     "output_type": "execute_result"
    }
   ],
   "source": [
    "# Or load cleaned data (includes RESPONSE columns)\n",
    "mailout_train_clean = pd.read_csv('../data/Udacity_MAILOUT_052018_TRAIN_clean.csv', sep=';')\n",
    "mailout_train_clean.shape"
   ]
  },
  {
   "cell_type": "markdown",
   "metadata": {},
   "source": [
    "### Preprocess"
   ]
  },
  {
   "cell_type": "code",
   "execution_count": 21,
   "metadata": {},
   "outputs": [],
   "source": [
    "lnr = mailout_train_clean.LNR\n",
    "y = mailout_train_clean.RESPONSE\n",
    "X_clean = mailout_train_clean.drop(['RESPONSE', 'LNR'], axis=1)"
   ]
  },
  {
   "cell_type": "code",
   "execution_count": 23,
   "metadata": {},
   "outputs": [
    {
     "data": {
      "text/plain": [
       "(42962, 381)"
      ]
     },
     "execution_count": 23,
     "metadata": {},
     "output_type": "execute_result"
    }
   ],
   "source": [
    "X_clean.shape"
   ]
  },
  {
   "cell_type": "code",
   "execution_count": 22,
   "metadata": {},
   "outputs": [],
   "source": [
    "numerical_columns, categorical_columns = get_columns(X_clean.columns, feat_info)\n",
    "preprocessor = make_preprocessor(numerical_columns, categorical_columns)"
   ]
  },
  {
   "cell_type": "code",
   "execution_count": 24,
   "metadata": {},
   "outputs": [
    {
     "name": "stdout",
     "output_type": "stream",
     "text": [
      "0    29701\n",
      "1      372\n",
      "Name: RESPONSE, dtype: int64\n",
      "0    12729\n",
      "1      160\n",
      "Name: RESPONSE, dtype: int64\n"
     ]
    }
   ],
   "source": [
    "X_train, X_test, y_train, y_test = train_test_split(X_clean, y, test_size=0.3, stratify=y, random_state=42)\n",
    "\n",
    "X_train = preprocessor.fit_transform(X_train)\n",
    "print(pd.value_counts(y_train))\n",
    "\n",
    "X_test = preprocessor.transform(X_test)\n",
    "print(pd.value_counts(y_test))"
   ]
  },
  {
   "cell_type": "markdown",
   "metadata": {},
   "source": [
    "### Model"
   ]
  },
  {
   "cell_type": "code",
   "execution_count": 25,
   "metadata": {},
   "outputs": [],
   "source": [
    "def make_model(n_features, learn_rate):\n",
    "    model = Sequential()\n",
    "\n",
    "    model.add(Dense(150, input_shape=(n_features,),\n",
    "              kernel_initializer='glorot_normal'))\n",
    "    model.add(Activation('relu'))\n",
    "    model.add(BatchNormalization())\n",
    "    model.add(Dropout(0.25))\n",
    "    model.add(Dense(75, kernel_initializer='glorot_normal'))\n",
    "    model.add(Activation('relu'))\n",
    "    model.add(BatchNormalization())\n",
    "    model.add(Dropout(0.15))\n",
    "    model.add(Dense(25, kernel_initializer='glorot_normal'))\n",
    "    model.add(Activation('relu'))\n",
    "    model.add(BatchNormalization())\n",
    "    model.add(Dropout(0.10))\n",
    "    model.add(Dense(1, activation='sigmoid'))\n",
    "\n",
    "    model.compile(loss='binary_crossentropy',\n",
    "                  optimizer=Adam(lr=learn_rate),\n",
    "                  metrics=['acc'])\n",
    "\n",
    "    return model"
   ]
  },
  {
   "cell_type": "code",
   "execution_count": 37,
   "metadata": {},
   "outputs": [],
   "source": [
    "# Balanced Batches\n",
    "def fit_predict_balanced_model(X_train, y_train):\n",
    "    model = make_model(X_train.shape[1], 0.001)\n",
    "    training_generator = BalancedBatchGenerator(X_train, y_train, batch_size=1000)\n",
    "    model.fit_generator(generator=training_generator, validation_data=(X_test, y_test), epochs=10, steps_per_epoch=30, verbose=True)\n",
    "    \n",
    "    print(roc_auc_score(y_test, y_pred))\n",
    "    return model"
   ]
  },
  {
   "cell_type": "code",
   "execution_count": null,
   "metadata": {},
   "outputs": [
    {
     "name": "stdout",
     "output_type": "stream",
     "text": [
      "Epoch 1/10\n"
     ]
    }
   ],
   "source": [
    "balanced = fit_predict_balanced_model(X_train, y_train)"
   ]
  },
  {
   "cell_type": "code",
   "execution_count": 56,
   "metadata": {},
   "outputs": [
    {
     "name": "stdout",
     "output_type": "stream",
     "text": [
      "12889/12889 [==============================] - 1s 65us/step\n",
      "[[0.9966972 ]\n",
      " [0.99666864]\n",
      " [0.99666864]\n",
      " [0.99507964]\n",
      " [0.9963127 ]]\n",
      "0.5367274039594626\n"
     ]
    }
   ],
   "source": [
    "y_pred = balanced.predict_proba(X_test)\n",
    "print(y_pred[0:5])\n",
    "print(roc_auc_score(y_test, y_pred))"
   ]
  },
  {
   "cell_type": "code",
   "execution_count": 26,
   "metadata": {},
   "outputs": [],
   "source": [
    "# Standard model\n",
    "def fit_predict_model(X_train, y_train, X_test, y_test, verbose=True, class_weight=None, callbacks=None):\n",
    "    \n",
    "    model = make_model(X_train.shape[1], 0.0001)\n",
    "    \n",
    "    start_time = time.time()\n",
    "\n",
    "    model.fit(X_train, y_train, validation_data=(X_test, y_test), \n",
    "              epochs=30, verbose=verbose, class_weight=class_weight, callbacks=callbacks)\n",
    "    \n",
    "    elapsed_time = time.time() - start_time\n",
    "    print('Elapsed computation time: {:.3f} secs'\n",
    "          .format(elapsed_time))\n",
    "\n",
    "    y_pred = model.predict_proba(X_test)\n",
    "    print(roc_auc_score(y_test, y_pred))\n",
    "    \n",
    "    return model"
   ]
  },
  {
   "cell_type": "code",
   "execution_count": 27,
   "metadata": {},
   "outputs": [
    {
     "name": "stdout",
     "output_type": "stream",
     "text": [
      "Train on 30073 samples, validate on 12889 samples\n",
      "Epoch 1/30\n",
      "30073/30073 [==============================] - 9s 299us/step - loss: 0.6381 - acc: 0.6697 - val_loss: 0.4409 - val_acc: 0.9687\n",
      "Epoch 2/30\n",
      "30073/30073 [==============================] - 7s 231us/step - loss: 0.3862 - acc: 0.9168 - val_loss: 0.2569 - val_acc: 0.9876\n",
      "Epoch 3/30\n",
      "30073/30073 [==============================] - 7s 228us/step - loss: 0.2122 - acc: 0.9795 - val_loss: 0.1354 - val_acc: 0.9876\n",
      "Epoch 4/30\n",
      "30073/30073 [==============================] - 7s 236us/step - loss: 0.1254 - acc: 0.9861 - val_loss: 0.0880 - val_acc: 0.9876\n",
      "Epoch 5/30\n",
      "30073/30073 [==============================] - 7s 246us/step - loss: 0.0902 - acc: 0.9872 - val_loss: 0.0728 - val_acc: 0.9876\n",
      "Epoch 6/30\n",
      "30073/30073 [==============================] - 7s 248us/step - loss: 0.0780 - acc: 0.9874 - val_loss: 0.0680 - val_acc: 0.9876\n",
      "Epoch 7/30\n",
      "30073/30073 [==============================] - 8s 250us/step - loss: 0.0716 - acc: 0.9876 - val_loss: 0.0665 - val_acc: 0.9876\n",
      "Epoch 8/30\n",
      "30073/30073 [==============================] - 7s 244us/step - loss: 0.0716 - acc: 0.9875 - val_loss: 0.0666 - val_acc: 0.9876\n",
      "Epoch 9/30\n",
      "30073/30073 [==============================] - 7s 227us/step - loss: 0.0694 - acc: 0.9875 - val_loss: 0.0667 - val_acc: 0.9876\n",
      "Epoch 10/30\n",
      "30073/30073 [==============================] - 7s 240us/step - loss: 0.0686 - acc: 0.9876 - val_loss: 0.0664 - val_acc: 0.9876\n",
      "Epoch 11/30\n",
      "30073/30073 [==============================] - 7s 227us/step - loss: 0.0698 - acc: 0.9876 - val_loss: 0.0678 - val_acc: 0.9876\n",
      "Epoch 12/30\n",
      "30073/30073 [==============================] - 7s 234us/step - loss: 0.0684 - acc: 0.9876 - val_loss: 0.0708 - val_acc: 0.9876\n",
      "Epoch 13/30\n",
      "30073/30073 [==============================] - 7s 237us/step - loss: 0.0679 - acc: 0.9876 - val_loss: 0.0662 - val_acc: 0.9876\n",
      "Epoch 14/30\n",
      "30073/30073 [==============================] - 7s 227us/step - loss: 0.0671 - acc: 0.9876 - val_loss: 0.0652 - val_acc: 0.9876\n",
      "Epoch 15/30\n",
      "30073/30073 [==============================] - 7s 237us/step - loss: 0.0656 - acc: 0.9876 - val_loss: 0.0676 - val_acc: 0.9876\n",
      "Epoch 16/30\n",
      "30073/30073 [==============================] - 7s 234us/step - loss: 0.0662 - acc: 0.9876 - val_loss: 0.0657 - val_acc: 0.9876\n",
      "Epoch 17/30\n",
      "30073/30073 [==============================] - 7s 227us/step - loss: 0.0657 - acc: 0.9875 - val_loss: 0.0651 - val_acc: 0.9876\n",
      "Epoch 18/30\n",
      "30073/30073 [==============================] - 7s 218us/step - loss: 0.0649 - acc: 0.9876 - val_loss: 0.0663 - val_acc: 0.9876\n",
      "Epoch 19/30\n",
      "30073/30073 [==============================] - 7s 218us/step - loss: 0.0651 - acc: 0.9876 - val_loss: 0.0670 - val_acc: 0.9876\n",
      "Epoch 20/30\n",
      "30073/30073 [==============================] - 7s 221us/step - loss: 0.0642 - acc: 0.9877 - val_loss: 0.0653 - val_acc: 0.9876\n",
      "Epoch 21/30\n",
      "30073/30073 [==============================] - 7s 217us/step - loss: 0.0647 - acc: 0.9876 - val_loss: 0.0754 - val_acc: 0.9876\n",
      "Epoch 22/30\n",
      "30073/30073 [==============================] - 7s 222us/step - loss: 0.0650 - acc: 0.9876 - val_loss: 0.0804 - val_acc: 0.9876\n",
      "Epoch 23/30\n",
      "30073/30073 [==============================] - 7s 232us/step - loss: 0.0640 - acc: 0.9876 - val_loss: 0.0661 - val_acc: 0.9876\n",
      "Epoch 24/30\n",
      "30073/30073 [==============================] - 7s 219us/step - loss: 0.0637 - acc: 0.9876 - val_loss: 0.0756 - val_acc: 0.9876\n",
      "Epoch 25/30\n",
      "30073/30073 [==============================] - 7s 236us/step - loss: 0.0618 - acc: 0.9876 - val_loss: 0.0679 - val_acc: 0.9874\n",
      "Epoch 26/30\n",
      "30073/30073 [==============================] - 7s 229us/step - loss: 0.0623 - acc: 0.9876 - val_loss: 0.0657 - val_acc: 0.9876\n",
      "Epoch 27/30\n",
      "30073/30073 [==============================] - 7s 221us/step - loss: 0.0625 - acc: 0.9876 - val_loss: 0.0734 - val_acc: 0.9876\n",
      "Epoch 28/30\n",
      "30073/30073 [==============================] - 7s 229us/step - loss: 0.0626 - acc: 0.9876 - val_loss: 0.0875 - val_acc: 0.9876\n",
      "Epoch 29/30\n",
      "30073/30073 [==============================] - 8s 253us/step - loss: 0.0620 - acc: 0.9876 - val_loss: 0.0656 - val_acc: 0.9876\n",
      "Epoch 30/30\n",
      "30073/30073 [==============================] - 7s 235us/step - loss: 0.0606 - acc: 0.9876 - val_loss: 0.0843 - val_acc: 0.9876\n",
      "Elapsed computation time: 212.077 secs\n",
      "0.6101331113991674\n"
     ]
    }
   ],
   "source": [
    "base = fit_predict_model(X_train, y_train, X_test, y_test)"
   ]
  },
  {
   "cell_type": "code",
   "execution_count": 28,
   "metadata": {},
   "outputs": [
    {
     "name": "stdout",
     "output_type": "stream",
     "text": [
      "Train on 30073 samples, validate on 12889 samples\n",
      "Epoch 1/30\n",
      "30073/30073 [==============================] - 8s 270us/step - loss: 0.6482 - acc: 0.6387 - val_loss: 0.4538 - val_acc: 0.9847\n",
      "Epoch 2/30\n",
      "30073/30073 [==============================] - 7s 236us/step - loss: 0.3917 - acc: 0.9151 - val_loss: 0.2677 - val_acc: 0.9876\n",
      "Epoch 3/30\n",
      "30073/30073 [==============================] - 7s 242us/step - loss: 0.2164 - acc: 0.9797 - val_loss: 0.1458 - val_acc: 0.9876\n",
      "Epoch 4/30\n",
      "30073/30073 [==============================] - 7s 236us/step - loss: 0.1255 - acc: 0.9862 - val_loss: 0.0928 - val_acc: 0.9876\n",
      "Epoch 5/30\n",
      "30073/30073 [==============================] - 7s 238us/step - loss: 0.0904 - acc: 0.9875 - val_loss: 0.0737 - val_acc: 0.9876\n",
      "Epoch 6/30\n",
      "30073/30073 [==============================] - 7s 225us/step - loss: 0.0776 - acc: 0.9875 - val_loss: 0.0684 - val_acc: 0.9876\n",
      "Epoch 7/30\n",
      "30073/30073 [==============================] - 7s 227us/step - loss: 0.0723 - acc: 0.9876 - val_loss: 0.0669 - val_acc: 0.9876\n",
      "Epoch 8/30\n",
      "30073/30073 [==============================] - 7s 233us/step - loss: 0.0704 - acc: 0.9876 - val_loss: 0.0667 - val_acc: 0.9876\n",
      "Epoch 9/30\n",
      "30073/30073 [==============================] - 7s 233us/step - loss: 0.0695 - acc: 0.9876 - val_loss: 0.0664 - val_acc: 0.9876\n",
      "Epoch 10/30\n",
      "30073/30073 [==============================] - 7s 222us/step - loss: 0.0690 - acc: 0.9876 - val_loss: 0.0663 - val_acc: 0.9876\n",
      "Epoch 11/30\n",
      "30073/30073 [==============================] - 7s 222us/step - loss: 0.0679 - acc: 0.9876 - val_loss: 0.0700 - val_acc: 0.9876\n",
      "Epoch 12/30\n",
      "30073/30073 [==============================] - 7s 229us/step - loss: 0.0677 - acc: 0.9876 - val_loss: 0.0665 - val_acc: 0.9876\n",
      "Epoch 13/30\n",
      "30073/30073 [==============================] - 8s 253us/step - loss: 0.0672 - acc: 0.9875 - val_loss: 0.0668 - val_acc: 0.9876\n",
      "Elapsed computation time: 93.887 secs\n",
      "0.634453560766753\n"
     ]
    }
   ],
   "source": [
    "# Try early stopping\n",
    "callbacks = [EarlyStopping(monitor='val_loss', patience=3),\n",
    "             ModelCheckpoint(filepath='best_model.h5', monitor='val_loss', save_best_only=True)]\n",
    "\n",
    "early_stop = fit_predict_model(X_train, y_train, X_test, y_test, callbacks=callbacks)"
   ]
  },
  {
   "cell_type": "code",
   "execution_count": 96,
   "metadata": {},
   "outputs": [
    {
     "data": {
      "text/plain": [
       "79.84139784946237"
      ]
     },
     "execution_count": 96,
     "metadata": {},
     "output_type": "execute_result"
    }
   ],
   "source": [
    "# Use class weights\n",
    "y_train.value_counts()[0]/y_train.value_counts()[1]"
   ]
  },
  {
   "cell_type": "code",
   "execution_count": 29,
   "metadata": {},
   "outputs": [
    {
     "name": "stdout",
     "output_type": "stream",
     "text": [
      "Train on 30073 samples, validate on 12889 samples\n",
      "Epoch 1/30\n",
      "Epoch 2/30\n",
      "Epoch 3/30\n",
      "Epoch 4/30\n",
      "Epoch 5/30\n",
      "Epoch 6/30\n",
      "Epoch 7/30\n",
      "Epoch 8/30\n",
      "Epoch 9/30\n",
      "Epoch 10/30\n",
      "Epoch 11/30\n",
      "Epoch 12/30\n",
      "Epoch 13/30\n",
      "Epoch 14/30\n",
      "Epoch 15/30\n",
      "Epoch 16/30\n",
      "Epoch 17/30\n",
      "Epoch 18/30\n",
      "Epoch 19/30\n",
      "Epoch 20/30\n",
      "Epoch 21/30\n",
      "Epoch 22/30\n",
      "Epoch 23/30\n",
      "Epoch 24/30\n",
      "Epoch 25/30\n",
      "Epoch 26/30\n",
      "Epoch 27/30\n",
      "Epoch 28/30\n",
      "Epoch 29/30\n",
      "Epoch 30/30\n",
      "Elapsed computation time: 206.479 secs\n",
      "0.6521508464922617\n"
     ]
    }
   ],
   "source": [
    "class_weight = {0:1, 1:15}\n",
    "weighted = fit_predict_model(X_train, y_train, X_test, y_test, class_weight)"
   ]
  },
  {
   "cell_type": "code",
   "execution_count": 33,
   "metadata": {},
   "outputs": [
    {
     "name": "stdout",
     "output_type": "stream",
     "text": [
      "12889/12889 [==============================] - 2s 159us/step\n",
      "0.648962261371671\n"
     ]
    }
   ],
   "source": [
    "y_pred = weighted.predict_proba(X_test)\n",
    "print(roc_auc_score(y_test, y_pred))"
   ]
  },
  {
   "cell_type": "code",
   "execution_count": null,
   "metadata": {},
   "outputs": [],
   "source": [
    "# Dealing with the class imbalance\n",
    "# Use cluster based\n",
    "from imblearn.under_sampling import ClusterCentroids\n",
    "\n",
    "X_trans = preprocessor.fit_transform(X_clean)\n",
    "\n",
    "cc = ClusterCentroids()\n",
    "X_cc, y_cc = cc.fit_resample(X_trans, y)\n",
    "\n",
    "pd.value_counts(y_cc)"
   ]
  },
  {
   "cell_type": "code",
   "execution_count": 120,
   "metadata": {},
   "outputs": [
    {
     "name": "stdout",
     "output_type": "stream",
     "text": [
      "(1064, 346)\n",
      "(1064,)\n"
     ]
    }
   ],
   "source": [
    "print(X_cc.shape)\n",
    "print(y_cc.shape)"
   ]
  },
  {
   "cell_type": "code",
   "execution_count": null,
   "metadata": {},
   "outputs": [],
   "source": [
    "X_train, X_test, y_train, y_test = train_test_split(X_cc, y_cc, test_size=0.3, stratify=y, random_state=42)"
   ]
  },
  {
   "cell_type": "code",
   "execution_count": 112,
   "metadata": {},
   "outputs": [
    {
     "name": "stdout",
     "output_type": "stream",
     "text": [
      "Train on 744 samples, validate on 12889 samples\n",
      "Epoch 1/10\n",
      "744/744 [==============================] - 8s 11ms/step - loss: 0.8139 - acc: 0.5040 - val_loss: 0.4669 - val_acc: 0.8025\n",
      "Epoch 2/10\n",
      "744/744 [==============================] - 3s 4ms/step - loss: 0.7053 - acc: 0.5914 - val_loss: 0.7396 - val_acc: 0.4351\n",
      "Epoch 3/10\n",
      "744/744 [==============================] - 3s 4ms/step - loss: 0.6749 - acc: 0.5981 - val_loss: 1.7595 - val_acc: 0.0747\n",
      "Epoch 4/10\n",
      "744/744 [==============================] - 3s 3ms/step - loss: 0.5882 - acc: 0.6640 - val_loss: 3.3447 - val_acc: 0.0264\n",
      "Epoch 5/10\n",
      "744/744 [==============================] - 3s 4ms/step - loss: 0.5211 - acc: 0.7554 - val_loss: 3.2633 - val_acc: 0.0153\n",
      "Epoch 6/10\n",
      "744/744 [==============================] - 2s 3ms/step - loss: 0.4609 - acc: 0.7984 - val_loss: 5.2565 - val_acc: 0.0126\n",
      "Epoch 7/10\n",
      "744/744 [==============================] - 3s 3ms/step - loss: 0.3968 - acc: 0.8333 - val_loss: 8.4511 - val_acc: 0.0124\n",
      "Epoch 8/10\n",
      "744/744 [==============================] - 3s 3ms/step - loss: 0.3509 - acc: 0.8656 - val_loss: 11.5362 - val_acc: 0.0124\n",
      "Epoch 9/10\n",
      "744/744 [==============================] - 2s 3ms/step - loss: 0.2753 - acc: 0.9005 - val_loss: 12.8796 - val_acc: 0.0124\n",
      "Epoch 10/10\n",
      "744/744 [==============================] - 2s 3ms/step - loss: 0.2403 - acc: 0.9140 - val_loss: 14.7392 - val_acc: 0.0124\n",
      "Elapsed computation time: 32.800 secs\n",
      "0.5936950074632729\n"
     ]
    }
   ],
   "source": [
    "cc_model = fit_predict_model(X_cc, y_cc, X_test, y_test)"
   ]
  },
  {
   "cell_type": "code",
   "execution_count": 26,
   "metadata": {},
   "outputs": [],
   "source": [
    "# use SMOTE\n",
    "from imblearn.over_sampling import SMOTE\n",
    "X_smote, y_smote = SMOTE().fit_resample(X_train, y_train)"
   ]
  },
  {
   "cell_type": "code",
   "execution_count": 27,
   "metadata": {},
   "outputs": [
    {
     "data": {
      "text/plain": [
       "1    29701\n",
       "0    29701\n",
       "dtype: int64"
      ]
     },
     "execution_count": 27,
     "metadata": {},
     "output_type": "execute_result"
    }
   ],
   "source": [
    "pd.value_counts(y_smote)"
   ]
  },
  {
   "cell_type": "code",
   "execution_count": 28,
   "metadata": {},
   "outputs": [
    {
     "name": "stdout",
     "output_type": "stream",
     "text": [
      "Train on 59402 samples, validate on 12889 samples\n",
      "Epoch 1/10\n",
      "59402/59402 [==============================] - 9s 157us/step - loss: 0.4842 - acc: 0.7433 - val_loss: 0.0922 - val_acc: 0.9876\n",
      "Epoch 2/10\n",
      "59402/59402 [==============================] - 9s 153us/step - loss: 0.3043 - acc: 0.8465 - val_loss: 0.5498 - val_acc: 0.7835\n",
      "Epoch 3/10\n",
      "59402/59402 [==============================] - 9s 158us/step - loss: 0.2513 - acc: 0.8698 - val_loss: 0.1590 - val_acc: 0.9876\n",
      "Epoch 4/10\n",
      "59402/59402 [==============================] - 10s 166us/step - loss: 0.2241 - acc: 0.8806 - val_loss: 0.1204 - val_acc: 0.9875\n",
      "Epoch 5/10\n",
      "59402/59402 [==============================] - 9s 153us/step - loss: 0.2102 - acc: 0.8869 - val_loss: 0.1870 - val_acc: 0.9876\n",
      "Epoch 6/10\n",
      "59402/59402 [==============================] - 9s 151us/step - loss: 0.1982 - acc: 0.8919 - val_loss: 0.1000 - val_acc: 0.9868\n",
      "Epoch 7/10\n",
      "59402/59402 [==============================] - 9s 150us/step - loss: 0.1948 - acc: 0.8930 - val_loss: 0.1647 - val_acc: 0.9861\n",
      "Epoch 8/10\n",
      "59402/59402 [==============================] - 9s 151us/step - loss: 0.1929 - acc: 0.8941 - val_loss: 0.1629 - val_acc: 0.9876\n",
      "Epoch 9/10\n",
      "59402/59402 [==============================] - 9s 155us/step - loss: 0.1852 - acc: 0.8976 - val_loss: 0.1939 - val_acc: 0.9876\n",
      "Epoch 10/10\n",
      "59402/59402 [==============================] - 9s 155us/step - loss: 0.1780 - acc: 0.9017 - val_loss: 0.1360 - val_acc: 0.9851\n",
      "Elapsed computation time: 92.997 secs\n",
      "12889/12889 [==============================] - 1s 58us/step\n",
      "0.46977153547018624\n"
     ]
    }
   ],
   "source": [
    "smote = fit_predict_model(X_smote, y_smote, X_test, y_test)"
   ]
  },
  {
   "cell_type": "markdown",
   "metadata": {},
   "source": [
    "### Hyperparameter Optimization"
   ]
  },
  {
   "cell_type": "code",
   "execution_count": 31,
   "metadata": {},
   "outputs": [
    {
     "name": "stdout",
     "output_type": "stream",
     "text": [
      "(42962, 381)\n"
     ]
    }
   ],
   "source": [
    "# Use all of the training data since we're using cross-validation\n",
    "X_processed = preprocessor.fit_transform(X_clean)\n",
    "print(X_processed.shape)"
   ]
  },
  {
   "cell_type": "markdown",
   "metadata": {},
   "source": [
    "#### Select optimizer"
   ]
  },
  {
   "cell_type": "code",
   "execution_count": 32,
   "metadata": {},
   "outputs": [
    {
     "name": "stdout",
     "output_type": "stream",
     "text": [
      "Elapsed computation time: 489.908 secs\n",
      "Best: 0.592133 using {'n_features': 346, 'optimizer': 'Adam'}\n"
     ]
    }
   ],
   "source": [
    "model = KerasClassifier(build_fn=make_model, epochs=30, batch_size=64, verbose=False)\n",
    "param_grid = {'n_features':[X_processed.shape[1]],\n",
    "              'optimizer':['SGD', 'Adam']}\n",
    "\n",
    "start_time = time.time()\n",
    "\n",
    "grid = GridSearchCV(estimator=model, param_grid=param_grid, scoring='roc_auc', cv=3)\n",
    "grid_result = grid.fit(X_processed, y)\n",
    "\n",
    "elapsed_time = time.time() - start_time\n",
    "print('Elapsed computation time: {:.3f} secs'\n",
    "      .format(elapsed_time))\n",
    "print(\"Best: %f using %s\" % (grid_result.best_score_, grid_result.best_params_))"
   ]
  },
  {
   "cell_type": "markdown",
   "metadata": {},
   "source": [
    "#### Tune learning rate"
   ]
  },
  {
   "cell_type": "code",
   "execution_count": 52,
   "metadata": {},
   "outputs": [],
   "source": [
    "model = KerasClassifier(build_fn=make_model, verbose=True)\n",
    "\n",
    "param_grid = {'n_features':[X_processed.shape[1]],\n",
    "              'class_weight': None,\n",
    "              'learn_rate':[0.001, 0.0005, 0.0001]}\n",
    "start_time = time.time()\n",
    "\n",
    "grid = GridSearchCV(estimator=model, param_grid=param_grid, scoring='roc_auc', cv=3)\n",
    "grid_result = grid.fit(X_train, y_train)\n",
    "\n",
    "elapsed_time = (time.time() - start_time) / 60\n",
    "print('Elapsed computation time: {:.3f} mins'\n",
    "      .format(elapsed_time))\n",
    "\n",
    "print(\"Best: %f using %s\" % (grid_result.best_score_, grid_result.best_params_))"
   ]
  },
  {
   "cell_type": "code",
   "execution_count": null,
   "metadata": {},
   "outputs": [],
   "source": [
    "means = grid_result.cv_results_['mean_test_score']\n",
    "stds = grid_result.cv_results_['std_test_score']\n",
    "params = grid_result.cv_results_['params']\n",
    "for mean, stdev, param in zip(means, stds, params):\n",
    "    print(\"%f (%f) with: %r\" % (mean, stdev, param))"
   ]
  },
  {
   "cell_type": "code",
   "execution_count": 40,
   "metadata": {},
   "outputs": [
    {
     "name": "stdout",
     "output_type": "stream",
     "text": [
      "12889/12889 [==============================] - 1s 61us/step\n"
     ]
    }
   ],
   "source": [
    "y_pred = grid.best_estimator_.predict_proba(X_test)"
   ]
  },
  {
   "cell_type": "code",
   "execution_count": 46,
   "metadata": {},
   "outputs": [],
   "source": [
    "threshold = 0.5\n",
    "y_classes = np.where(y_pred[:,0] > threshold, 1, 0)"
   ]
  },
  {
   "cell_type": "code",
   "execution_count": 48,
   "metadata": {},
   "outputs": [
    {
     "name": "stdout",
     "output_type": "stream",
     "text": [
      "0.5\n"
     ]
    }
   ],
   "source": [
    "print(roc_auc_score(y_test, np.where(y_pred[:,0] > threshold, 1, 0)))"
   ]
  },
  {
   "cell_type": "markdown",
   "metadata": {},
   "source": [
    "0.653540 (0.015685) with: {'epochs': 30, 'learn_rate': 0.0001, 'n_features': 346}<br>\n",
    "0.643843 (0.005525) with: {'epochs': 40, 'learn_rate': 0.0001, 'n_features': 346}"
   ]
  },
  {
   "cell_type": "code",
   "execution_count": 39,
   "metadata": {},
   "outputs": [
    {
     "name": "stdout",
     "output_type": "stream",
     "text": [
      "class_weight:  {0: 1, 1: 15}\n"
     ]
    }
   ],
   "source": [
    "print('class_weight: ', class_weight)"
   ]
  },
  {
   "cell_type": "markdown",
   "metadata": {},
   "source": [
    "### Gridsearch all features"
   ]
  },
  {
   "cell_type": "code",
   "execution_count": 32,
   "metadata": {},
   "outputs": [
    {
     "name": "stdout",
     "output_type": "stream",
     "text": [
      "Epoch 1/30\n",
      "34369/34369 [==============================] - 5s 141us/step - loss: 0.6924 - acc: 0.5981\n",
      "Epoch 2/30\n",
      "34369/34369 [==============================] - 4s 106us/step - loss: 0.5117 - acc: 0.8279\n",
      "Epoch 3/30\n",
      "34369/34369 [==============================] - 4s 109us/step - loss: 0.3696 - acc: 0.9433\n",
      "Epoch 4/30\n",
      "34369/34369 [==============================] - 4s 106us/step - loss: 0.2541 - acc: 0.9739\n",
      "Epoch 5/30\n",
      "34369/34369 [==============================] - 4s 111us/step - loss: 0.1742 - acc: 0.9837\n",
      "Epoch 6/30\n",
      "34369/34369 [==============================] - 4s 112us/step - loss: 0.1286 - acc: 0.9856\n",
      "Epoch 7/30\n",
      "34369/34369 [==============================] - 4s 106us/step - loss: 0.1017 - acc: 0.9869\n",
      "Epoch 8/30\n",
      "34369/34369 [==============================] - 4s 102us/step - loss: 0.0871 - acc: 0.9873\n",
      "Epoch 9/30\n",
      "34369/34369 [==============================] - 4s 102us/step - loss: 0.0791 - acc: 0.9874\n",
      "Epoch 10/30\n",
      "34369/34369 [==============================] - 3s 101us/step - loss: 0.0747 - acc: 0.9875\n",
      "Epoch 11/30\n",
      "34369/34369 [==============================] - 4s 105us/step - loss: 0.0722 - acc: 0.9876\n",
      "Epoch 12/30\n",
      "34369/34369 [==============================] - 4s 103us/step - loss: 0.0698 - acc: 0.9876\n",
      "Epoch 13/30\n",
      "34369/34369 [==============================] - 3s 101us/step - loss: 0.0700 - acc: 0.9876\n",
      "Epoch 14/30\n",
      "34369/34369 [==============================] - 3s 101us/step - loss: 0.0690 - acc: 0.9876\n",
      "Epoch 15/30\n",
      "34369/34369 [==============================] - 4s 112us/step - loss: 0.0675 - acc: 0.9876\n",
      "Epoch 16/30\n",
      "34369/34369 [==============================] - 4s 111us/step - loss: 0.0667 - acc: 0.9876\n",
      "Epoch 17/30\n",
      "34369/34369 [==============================] - 3s 101us/step - loss: 0.0673 - acc: 0.9876\n",
      "Epoch 18/30\n",
      "34369/34369 [==============================] - 4s 102us/step - loss: 0.0668 - acc: 0.9876\n",
      "Epoch 19/30\n",
      "34369/34369 [==============================] - 4s 103us/step - loss: 0.0658 - acc: 0.9876\n",
      "Epoch 20/30\n",
      "34369/34369 [==============================] - 4s 104us/step - loss: 0.0654 - acc: 0.9876\n",
      "Epoch 21/30\n",
      "34369/34369 [==============================] - 4s 102us/step - loss: 0.0664 - acc: 0.9876\n",
      "Epoch 22/30\n",
      "34369/34369 [==============================] - 3s 101us/step - loss: 0.0644 - acc: 0.9876\n",
      "Epoch 23/30\n",
      "34369/34369 [==============================] - 3s 100us/step - loss: 0.0635 - acc: 0.9876\n",
      "Epoch 24/30\n",
      "34369/34369 [==============================] - 3s 101us/step - loss: 0.0643 - acc: 0.9876\n",
      "Epoch 25/30\n",
      "34369/34369 [==============================] - 4s 103us/step - loss: 0.0642 - acc: 0.9876\n",
      "Epoch 26/30\n",
      "34369/34369 [==============================] - 3s 102us/step - loss: 0.0631 - acc: 0.9875\n",
      "Epoch 27/30\n",
      "34369/34369 [==============================] - 4s 108us/step - loss: 0.0631 - acc: 0.9876\n",
      "Epoch 28/30\n",
      "34369/34369 [==============================] - 4s 106us/step - loss: 0.0620 - acc: 0.9876\n",
      "Epoch 29/30\n",
      "34369/34369 [==============================] - 4s 111us/step - loss: 0.0609 - acc: 0.9876\n",
      "Epoch 30/30\n",
      "34369/34369 [==============================] - 4s 107us/step - loss: 0.0625 - acc: 0.9876\n",
      "8593/8593 [==============================] - 0s 46us/step\n",
      "34369/34369 [==============================] - 1s 19us/step\n",
      "Epoch 1/30\n",
      "34369/34369 [==============================] - 5s 146us/step - loss: 0.6889 - acc: 0.6153\n",
      "Epoch 2/30\n",
      "34369/34369 [==============================] - 4s 105us/step - loss: 0.5005 - acc: 0.8366\n",
      "Epoch 3/30\n",
      "34369/34369 [==============================] - 4s 106us/step - loss: 0.3560 - acc: 0.9421\n",
      "Epoch 4/30\n",
      "34369/34369 [==============================] - 4s 106us/step - loss: 0.2453 - acc: 0.9736\n",
      "Epoch 5/30\n",
      "34369/34369 [==============================] - 4s 104us/step - loss: 0.1703 - acc: 0.9829\n",
      "Epoch 6/30\n",
      "34369/34369 [==============================] - 4s 105us/step - loss: 0.1267 - acc: 0.9852\n",
      "Epoch 7/30\n",
      "34369/34369 [==============================] - 4s 111us/step - loss: 0.1015 - acc: 0.9868\n",
      "Epoch 8/30\n",
      "34369/34369 [==============================] - 4s 104us/step - loss: 0.0872 - acc: 0.9871\n",
      "Epoch 9/30\n",
      "34369/34369 [==============================] - 4s 104us/step - loss: 0.0792 - acc: 0.9873\n",
      "Epoch 10/30\n",
      "34369/34369 [==============================] - 4s 106us/step - loss: 0.0752 - acc: 0.9875\n",
      "Epoch 11/30\n",
      "34369/34369 [==============================] - 4s 104us/step - loss: 0.0718 - acc: 0.9877\n",
      "Epoch 12/30\n",
      "34369/34369 [==============================] - 4s 107us/step - loss: 0.0711 - acc: 0.9875\n",
      "Epoch 13/30\n",
      "34369/34369 [==============================] - 4s 105us/step - loss: 0.0698 - acc: 0.9876\n",
      "Epoch 14/30\n",
      "34369/34369 [==============================] - 3s 102us/step - loss: 0.0690 - acc: 0.9877\n",
      "Epoch 15/30\n",
      "34369/34369 [==============================] - 3s 102us/step - loss: 0.0690 - acc: 0.9876\n",
      "Epoch 16/30\n",
      "34369/34369 [==============================] - 4s 107us/step - loss: 0.0678 - acc: 0.9877\n",
      "Epoch 17/30\n",
      "34369/34369 [==============================] - 4s 103us/step - loss: 0.0676 - acc: 0.9876\n",
      "Epoch 18/30\n",
      "34369/34369 [==============================] - 3s 102us/step - loss: 0.0667 - acc: 0.9877\n",
      "Epoch 19/30\n",
      "34369/34369 [==============================] - 4s 102us/step - loss: 0.0670 - acc: 0.9877\n",
      "Epoch 20/30\n",
      "34369/34369 [==============================] - 4s 105us/step - loss: 0.0660 - acc: 0.9877\n",
      "Epoch 21/30\n",
      "34369/34369 [==============================] - 4s 103us/step - loss: 0.0672 - acc: 0.9876\n",
      "Epoch 22/30\n",
      "34369/34369 [==============================] - 4s 103us/step - loss: 0.0667 - acc: 0.9877\n",
      "Epoch 23/30\n",
      "34369/34369 [==============================] - 4s 102us/step - loss: 0.0646 - acc: 0.9877\n",
      "Epoch 24/30\n",
      "34369/34369 [==============================] - 4s 102us/step - loss: 0.0650 - acc: 0.9877\n",
      "Epoch 25/30\n",
      "34369/34369 [==============================] - 4s 103us/step - loss: 0.0651 - acc: 0.9877\n",
      "Epoch 26/30\n",
      "34369/34369 [==============================] - 3s 101us/step - loss: 0.0643 - acc: 0.9877\n",
      "Epoch 27/30\n",
      "34369/34369 [==============================] - 3s 102us/step - loss: 0.0640 - acc: 0.9878\n",
      "Epoch 28/30\n",
      "34369/34369 [==============================] - 3s 101us/step - loss: 0.0626 - acc: 0.9877\n",
      "Epoch 29/30\n",
      "34369/34369 [==============================] - 3s 102us/step - loss: 0.0638 - acc: 0.9878\n",
      "Epoch 30/30\n",
      "34369/34369 [==============================] - 4s 104us/step - loss: 0.0628 - acc: 0.9878\n",
      "8593/8593 [==============================] - 0s 52us/step\n",
      "34369/34369 [==============================] - 1s 19us/step\n",
      "Epoch 1/30\n",
      "34370/34370 [==============================] - 5s 144us/step - loss: 0.7115 - acc: 0.5990\n",
      "Epoch 2/30\n",
      "34370/34370 [==============================] - 4s 104us/step - loss: 0.5136 - acc: 0.8109\n",
      "Epoch 3/30\n",
      "34370/34370 [==============================] - 4s 107us/step - loss: 0.3755 - acc: 0.9343\n",
      "Epoch 4/30\n",
      "34370/34370 [==============================] - 4s 106us/step - loss: 0.2585 - acc: 0.9719\n",
      "Epoch 5/30\n",
      "34370/34370 [==============================] - 4s 104us/step - loss: 0.1791 - acc: 0.9820\n",
      "Epoch 6/30\n",
      "34370/34370 [==============================] - 4s 104us/step - loss: 0.1303 - acc: 0.9857\n",
      "Epoch 7/30\n",
      "34370/34370 [==============================] - 4s 106us/step - loss: 0.1039 - acc: 0.9861\n",
      "Epoch 8/30\n",
      "34370/34370 [==============================] - 4s 104us/step - loss: 0.0881 - acc: 0.9872\n",
      "Epoch 9/30\n",
      "34370/34370 [==============================] - 4s 104us/step - loss: 0.0792 - acc: 0.9873\n",
      "Epoch 10/30\n",
      "34370/34370 [==============================] - 4s 105us/step - loss: 0.0746 - acc: 0.9875\n",
      "Epoch 11/30\n",
      "34370/34370 [==============================] - 4s 103us/step - loss: 0.0727 - acc: 0.9875\n",
      "Epoch 12/30\n",
      "34370/34370 [==============================] - 4s 106us/step - loss: 0.0719 - acc: 0.9876\n",
      "Epoch 13/30\n",
      "34370/34370 [==============================] - 4s 104us/step - loss: 0.0700 - acc: 0.9877\n",
      "Epoch 14/30\n",
      "34370/34370 [==============================] - 4s 104us/step - loss: 0.0704 - acc: 0.9877\n",
      "Epoch 15/30\n",
      "34370/34370 [==============================] - 4s 104us/step - loss: 0.0699 - acc: 0.9876\n",
      "Epoch 16/30\n",
      "34370/34370 [==============================] - 4s 106us/step - loss: 0.0701 - acc: 0.9876\n",
      "Epoch 17/30\n",
      "34370/34370 [==============================] - 4s 104us/step - loss: 0.0667 - acc: 0.9876\n",
      "Epoch 18/30\n",
      "34370/34370 [==============================] - 4s 105us/step - loss: 0.0677 - acc: 0.9877\n",
      "Epoch 19/30\n"
     ]
    },
    {
     "name": "stdout",
     "output_type": "stream",
     "text": [
      "34370/34370 [==============================] - 4s 103us/step - loss: 0.0672 - acc: 0.9877\n",
      "Epoch 20/30\n",
      "34370/34370 [==============================] - 4s 103us/step - loss: 0.0658 - acc: 0.9877\n",
      "Epoch 21/30\n",
      "34370/34370 [==============================] - 4s 107us/step - loss: 0.0667 - acc: 0.9877\n",
      "Epoch 22/30\n",
      "34370/34370 [==============================] - 4s 106us/step - loss: 0.0665 - acc: 0.9878\n",
      "Epoch 23/30\n",
      "34370/34370 [==============================] - 4s 105us/step - loss: 0.0660 - acc: 0.9876\n",
      "Epoch 24/30\n",
      "34370/34370 [==============================] - 4s 104us/step - loss: 0.0650 - acc: 0.9877\n",
      "Epoch 25/30\n",
      "34370/34370 [==============================] - 4s 106us/step - loss: 0.0654 - acc: 0.9876\n",
      "Epoch 26/30\n",
      "34370/34370 [==============================] - 4s 105us/step - loss: 0.0645 - acc: 0.9877\n",
      "Epoch 27/30\n",
      "34370/34370 [==============================] - 4s 104us/step - loss: 0.0638 - acc: 0.9877\n",
      "Epoch 28/30\n",
      "34370/34370 [==============================] - 4s 104us/step - loss: 0.0644 - acc: 0.9877\n",
      "Epoch 29/30\n",
      "34370/34370 [==============================] - 4s 103us/step - loss: 0.0631 - acc: 0.9878\n",
      "Epoch 30/30\n",
      "34370/34370 [==============================] - 4s 106us/step - loss: 0.0639 - acc: 0.9878\n",
      "8592/8592 [==============================] - 0s 57us/step\n",
      "34370/34370 [==============================] - 1s 20us/step\n",
      "Epoch 1/30\n",
      "34370/34370 [==============================] - 5s 149us/step - loss: 0.6914 - acc: 0.6020\n",
      "Epoch 2/30\n",
      "34370/34370 [==============================] - 4s 104us/step - loss: 0.4922 - acc: 0.8451\n",
      "Epoch 3/30\n",
      "34370/34370 [==============================] - 4s 106us/step - loss: 0.3523 - acc: 0.9455\n",
      "Epoch 4/30\n",
      "34370/34370 [==============================] - 4s 104us/step - loss: 0.2439 - acc: 0.9743\n",
      "Epoch 5/30\n",
      "34370/34370 [==============================] - 4s 105us/step - loss: 0.1724 - acc: 0.9820\n",
      "Epoch 6/30\n",
      "34370/34370 [==============================] - 4s 104us/step - loss: 0.1306 - acc: 0.9839\n",
      "Epoch 7/30\n",
      "34370/34370 [==============================] - 4s 106us/step - loss: 0.1035 - acc: 0.9860\n",
      "Epoch 8/30\n",
      "34370/34370 [==============================] - 4s 105us/step - loss: 0.0885 - acc: 0.9863\n",
      "Epoch 9/30\n",
      "34370/34370 [==============================] - 4s 106us/step - loss: 0.0817 - acc: 0.9866\n",
      "Epoch 10/30\n",
      "34370/34370 [==============================] - 4s 104us/step - loss: 0.0771 - acc: 0.9870\n",
      "Epoch 11/30\n",
      "34370/34370 [==============================] - 4s 103us/step - loss: 0.0745 - acc: 0.9870\n",
      "Epoch 12/30\n",
      "34370/34370 [==============================] - 4s 106us/step - loss: 0.0732 - acc: 0.9871\n",
      "Epoch 13/30\n",
      "34370/34370 [==============================] - 4s 104us/step - loss: 0.0728 - acc: 0.9870\n",
      "Epoch 14/30\n",
      "34370/34370 [==============================] - 4s 104us/step - loss: 0.0714 - acc: 0.9871\n",
      "Epoch 15/30\n",
      "34370/34370 [==============================] - 4s 105us/step - loss: 0.0718 - acc: 0.9872\n",
      "Epoch 16/30\n",
      "34370/34370 [==============================] - 4s 109us/step - loss: 0.0709 - acc: 0.9872\n",
      "Epoch 17/30\n",
      "34370/34370 [==============================] - 4s 107us/step - loss: 0.0707 - acc: 0.9872\n",
      "Epoch 18/30\n",
      "34370/34370 [==============================] - 4s 108us/step - loss: 0.0700 - acc: 0.9872\n",
      "Epoch 19/30\n",
      "34370/34370 [==============================] - 4s 106us/step - loss: 0.0696 - acc: 0.9872\n",
      "Epoch 20/30\n",
      "34370/34370 [==============================] - 4s 105us/step - loss: 0.0692 - acc: 0.9872\n",
      "Epoch 21/30\n",
      "34370/34370 [==============================] - 4s 106us/step - loss: 0.0685 - acc: 0.9873\n",
      "Epoch 22/30\n",
      "34370/34370 [==============================] - 4s 104us/step - loss: 0.0677 - acc: 0.9872\n",
      "Epoch 23/30\n",
      "34370/34370 [==============================] - 4s 104us/step - loss: 0.0670 - acc: 0.9873\n",
      "Epoch 24/30\n",
      "34370/34370 [==============================] - 4s 104us/step - loss: 0.0666 - acc: 0.9872\n",
      "Epoch 25/30\n",
      "34370/34370 [==============================] - 4s 106us/step - loss: 0.0665 - acc: 0.9872\n",
      "Epoch 26/30\n",
      "34370/34370 [==============================] - 4s 103us/step - loss: 0.0661 - acc: 0.9872\n",
      "Epoch 27/30\n",
      "34370/34370 [==============================] - 4s 106us/step - loss: 0.0670 - acc: 0.9872\n",
      "Epoch 28/30\n",
      "34370/34370 [==============================] - 4s 105us/step - loss: 0.0664 - acc: 0.9873\n",
      "Epoch 29/30\n",
      "34370/34370 [==============================] - 4s 105us/step - loss: 0.0654 - acc: 0.9872\n",
      "Epoch 30/30\n",
      "34370/34370 [==============================] - 4s 104us/step - loss: 0.0653 - acc: 0.9873\n",
      "8592/8592 [==============================] - 1s 64us/step\n",
      "34370/34370 [==============================] - 1s 21us/step\n",
      "Epoch 1/30\n",
      "34370/34370 [==============================] - 5s 152us/step - loss: 0.7032 - acc: 0.6148\n",
      "Epoch 2/30\n",
      "34370/34370 [==============================] - 4s 106us/step - loss: 0.5129 - acc: 0.8286\n",
      "Epoch 3/30\n",
      "34370/34370 [==============================] - 4s 116us/step - loss: 0.3715 - acc: 0.9417\n",
      "Epoch 4/30\n",
      "34370/34370 [==============================] - 4s 124us/step - loss: 0.2582 - acc: 0.9722\n",
      "Epoch 5/30\n",
      "34370/34370 [==============================] - 4s 116us/step - loss: 0.1801 - acc: 0.9820\n",
      "Epoch 6/30\n",
      "34370/34370 [==============================] - 4s 109us/step - loss: 0.1331 - acc: 0.9848\n",
      "Epoch 7/30\n",
      "34370/34370 [==============================] - 4s 111us/step - loss: 0.1030 - acc: 0.9863\n",
      "Epoch 8/30\n",
      "34370/34370 [==============================] - 4s 109us/step - loss: 0.0891 - acc: 0.9867\n",
      "Epoch 9/30\n",
      "34370/34370 [==============================] - 4s 116us/step - loss: 0.0799 - acc: 0.9872\n",
      "Epoch 10/30\n",
      "34370/34370 [==============================] - 4s 110us/step - loss: 0.0754 - acc: 0.9873\n",
      "Epoch 11/30\n",
      "34370/34370 [==============================] - 4s 115us/step - loss: 0.0725 - acc: 0.9875\n",
      "Epoch 12/30\n",
      "34370/34370 [==============================] - 4s 109us/step - loss: 0.0707 - acc: 0.9875\n",
      "Epoch 13/30\n",
      "34370/34370 [==============================] - 4s 120us/step - loss: 0.0710 - acc: 0.9875\n",
      "Epoch 14/30\n",
      "34370/34370 [==============================] - 4s 110us/step - loss: 0.0700 - acc: 0.9876\n",
      "Epoch 15/30\n",
      "34370/34370 [==============================] - 4s 109us/step - loss: 0.0691 - acc: 0.9875\n",
      "Epoch 16/30\n",
      "34370/34370 [==============================] - 4s 109us/step - loss: 0.0688 - acc: 0.9875\n",
      "Epoch 17/30\n",
      "34370/34370 [==============================] - 4s 108us/step - loss: 0.0684 - acc: 0.9875\n",
      "Epoch 18/30\n",
      "34370/34370 [==============================] - 4s 109us/step - loss: 0.0680 - acc: 0.9877\n",
      "Epoch 19/30\n",
      "34370/34370 [==============================] - 4s 112us/step - loss: 0.0664 - acc: 0.9876\n",
      "Epoch 20/30\n",
      "34370/34370 [==============================] - 4s 108us/step - loss: 0.0668 - acc: 0.9876\n",
      "Epoch 21/30\n",
      "34370/34370 [==============================] - 4s 108us/step - loss: 0.0659 - acc: 0.9876\n",
      "Epoch 22/30\n",
      "34370/34370 [==============================] - 4s 105us/step - loss: 0.0662 - acc: 0.9876\n",
      "Epoch 23/30\n",
      "34370/34370 [==============================] - 4s 106us/step - loss: 0.0645 - acc: 0.9876\n",
      "Epoch 24/30\n",
      "34370/34370 [==============================] - 4s 111us/step - loss: 0.0648 - acc: 0.9877\n",
      "Epoch 25/30\n",
      "34370/34370 [==============================] - 4s 106us/step - loss: 0.0640 - acc: 0.9876\n",
      "Epoch 26/30\n",
      "34370/34370 [==============================] - 4s 106us/step - loss: 0.0642 - acc: 0.9877\n",
      "Epoch 27/30\n",
      "34370/34370 [==============================] - 4s 107us/step - loss: 0.0642 - acc: 0.9876\n",
      "Epoch 28/30\n",
      "34370/34370 [==============================] - 4s 110us/step - loss: 0.0638 - acc: 0.9876\n",
      "Epoch 29/30\n",
      "34370/34370 [==============================] - 4s 109us/step - loss: 0.0631 - acc: 0.9876\n",
      "Epoch 30/30\n",
      "34370/34370 [==============================] - 4s 108us/step - loss: 0.0626 - acc: 0.9877\n",
      "8592/8592 [==============================] - 1s 69us/step\n",
      "34370/34370 [==============================] - 1s 21us/step\n",
      "Epoch 1/30\n",
      "34369/34369 [==============================] - 5s 160us/step - loss: 0.8774 - acc: 0.5753\n",
      "Epoch 2/30\n",
      "34369/34369 [==============================] - 4s 106us/step - loss: 0.7245 - acc: 0.7616\n",
      "Epoch 3/30\n",
      "34369/34369 [==============================] - 4s 108us/step - loss: 0.6416 - acc: 0.8788\n",
      "Epoch 4/30\n",
      "34369/34369 [==============================] - 4s 110us/step - loss: 0.5893 - acc: 0.9345\n",
      "Epoch 5/30\n",
      "34369/34369 [==============================] - 4s 110us/step - loss: 0.5622 - acc: 0.9595\n",
      "Epoch 6/30\n"
     ]
    },
    {
     "name": "stdout",
     "output_type": "stream",
     "text": [
      "34369/34369 [==============================] - 4s 107us/step - loss: 0.5520 - acc: 0.9690\n",
      "Epoch 7/30\n",
      "34369/34369 [==============================] - 4s 107us/step - loss: 0.5364 - acc: 0.9733\n",
      "Epoch 8/30\n",
      "34369/34369 [==============================] - 4s 107us/step - loss: 0.5173 - acc: 0.9730\n",
      "Epoch 9/30\n",
      "34369/34369 [==============================] - 4s 109us/step - loss: 0.5115 - acc: 0.9756\n",
      "Epoch 10/30\n",
      "34369/34369 [==============================] - 4s 113us/step - loss: 0.4946 - acc: 0.9776\n",
      "Epoch 11/30\n",
      "34369/34369 [==============================] - 4s 114us/step - loss: 0.4978 - acc: 0.9736\n",
      "Epoch 12/30\n",
      "34369/34369 [==============================] - 4s 108us/step - loss: 0.4920 - acc: 0.9750\n",
      "Epoch 13/30\n",
      "34369/34369 [==============================] - 4s 110us/step - loss: 0.4822 - acc: 0.9733\n",
      "Epoch 14/30\n",
      "34369/34369 [==============================] - 4s 110us/step - loss: 0.4696 - acc: 0.9726\n",
      "Epoch 15/30\n",
      "34369/34369 [==============================] - 4s 109us/step - loss: 0.4794 - acc: 0.9689\n",
      "Epoch 16/30\n",
      "34369/34369 [==============================] - 4s 110us/step - loss: 0.4741 - acc: 0.9688\n",
      "Epoch 17/30\n",
      "34369/34369 [==============================] - 4s 113us/step - loss: 0.4727 - acc: 0.9699\n",
      "Epoch 18/30\n",
      "34369/34369 [==============================] - 4s 112us/step - loss: 0.4526 - acc: 0.9691\n",
      "Epoch 19/30\n",
      "34369/34369 [==============================] - 4s 108us/step - loss: 0.4681 - acc: 0.9676\n",
      "Epoch 20/30\n",
      "34369/34369 [==============================] - 4s 111us/step - loss: 0.4562 - acc: 0.9654\n",
      "Epoch 21/30\n",
      "34369/34369 [==============================] - 4s 124us/step - loss: 0.4506 - acc: 0.9666\n",
      "Epoch 22/30\n",
      "34369/34369 [==============================] - 4s 121us/step - loss: 0.4477 - acc: 0.9663\n",
      "Epoch 23/30\n",
      "34369/34369 [==============================] - 4s 124us/step - loss: 0.4480 - acc: 0.9658\n",
      "Epoch 24/30\n",
      "34369/34369 [==============================] - 4s 120us/step - loss: 0.4386 - acc: 0.9665\n",
      "Epoch 25/30\n",
      "34369/34369 [==============================] - 4s 116us/step - loss: 0.4358 - acc: 0.9680\n",
      "Epoch 26/30\n",
      "34369/34369 [==============================] - 4s 116us/step - loss: 0.4312 - acc: 0.9640\n",
      "Epoch 27/30\n",
      "34369/34369 [==============================] - 4s 111us/step - loss: 0.4370 - acc: 0.9636\n",
      "Epoch 28/30\n",
      "34369/34369 [==============================] - 4s 109us/step - loss: 0.4389 - acc: 0.9633\n",
      "Epoch 29/30\n",
      "34369/34369 [==============================] - 4s 109us/step - loss: 0.4201 - acc: 0.9633\n",
      "Epoch 30/30\n",
      "34369/34369 [==============================] - 4s 111us/step - loss: 0.4270 - acc: 0.9621\n",
      "8593/8593 [==============================] - 1s 77us/step\n",
      "34369/34369 [==============================] - 1s 22us/step\n",
      "Epoch 1/30\n",
      "34369/34369 [==============================] - 6s 164us/step - loss: 0.8970 - acc: 0.5506\n",
      "Epoch 2/30\n",
      "34369/34369 [==============================] - 4s 111us/step - loss: 0.7428 - acc: 0.7233\n",
      "Epoch 3/30\n",
      "34369/34369 [==============================] - 4s 111us/step - loss: 0.6417 - acc: 0.8493\n",
      "Epoch 4/30\n",
      "34369/34369 [==============================] - 4s 113us/step - loss: 0.5953 - acc: 0.9170\n",
      "Epoch 5/30\n",
      "34369/34369 [==============================] - 4s 110us/step - loss: 0.5657 - acc: 0.9500\n",
      "Epoch 6/30\n",
      "34369/34369 [==============================] - 4s 106us/step - loss: 0.5444 - acc: 0.9626\n",
      "Epoch 7/30\n",
      "34369/34369 [==============================] - 4s 112us/step - loss: 0.5334 - acc: 0.9695\n",
      "Epoch 8/30\n",
      "34369/34369 [==============================] - 4s 116us/step - loss: 0.5162 - acc: 0.9713\n",
      "Epoch 9/30\n",
      "34369/34369 [==============================] - 4s 116us/step - loss: 0.5102 - acc: 0.9732\n",
      "Epoch 10/30\n",
      "34369/34369 [==============================] - 4s 113us/step - loss: 0.5050 - acc: 0.9745\n",
      "Epoch 11/30\n",
      "34369/34369 [==============================] - 4s 111us/step - loss: 0.4940 - acc: 0.9751\n",
      "Epoch 12/30\n",
      "34369/34369 [==============================] - 4s 110us/step - loss: 0.4862 - acc: 0.9743\n",
      "Epoch 13/30\n",
      "34369/34369 [==============================] - 4s 110us/step - loss: 0.4746 - acc: 0.9737\n",
      "Epoch 14/30\n",
      "34369/34369 [==============================] - 4s 108us/step - loss: 0.4745 - acc: 0.9719\n",
      "Epoch 15/30\n",
      "34369/34369 [==============================] - 4s 111us/step - loss: 0.4699 - acc: 0.9702\n",
      "Epoch 16/30\n",
      "34369/34369 [==============================] - 4s 112us/step - loss: 0.4680 - acc: 0.9686\n",
      "Epoch 17/30\n",
      "34369/34369 [==============================] - 4s 108us/step - loss: 0.4628 - acc: 0.9682\n",
      "Epoch 18/30\n",
      "34369/34369 [==============================] - 4s 107us/step - loss: 0.4623 - acc: 0.9694\n",
      "Epoch 19/30\n",
      "34369/34369 [==============================] - 4s 108us/step - loss: 0.4509 - acc: 0.9715\n",
      "Epoch 20/30\n",
      "34369/34369 [==============================] - 4s 112us/step - loss: 0.4416 - acc: 0.9685\n",
      "Epoch 21/30\n",
      "34369/34369 [==============================] - 4s 111us/step - loss: 0.4459 - acc: 0.9667\n",
      "Epoch 22/30\n",
      "34369/34369 [==============================] - 4s 109us/step - loss: 0.4414 - acc: 0.9697\n",
      "Epoch 23/30\n",
      "34369/34369 [==============================] - 4s 107us/step - loss: 0.4380 - acc: 0.9699\n",
      "Epoch 24/30\n",
      "34369/34369 [==============================] - 4s 111us/step - loss: 0.4353 - acc: 0.9711\n",
      "Epoch 25/30\n",
      "34369/34369 [==============================] - 4s 110us/step - loss: 0.4210 - acc: 0.9704\n",
      "Epoch 26/30\n",
      "34369/34369 [==============================] - 4s 126us/step - loss: 0.4165 - acc: 0.9690\n",
      "Epoch 27/30\n",
      "34369/34369 [==============================] - 4s 111us/step - loss: 0.4261 - acc: 0.9653\n",
      "Epoch 28/30\n",
      "34369/34369 [==============================] - 4s 121us/step - loss: 0.4208 - acc: 0.9649\n",
      "Epoch 29/30\n",
      "34369/34369 [==============================] - 4s 111us/step - loss: 0.4209 - acc: 0.9666\n",
      "Epoch 30/30\n",
      "34369/34369 [==============================] - 4s 108us/step - loss: 0.4100 - acc: 0.9658\n",
      "8593/8593 [==============================] - 1s 85us/step\n",
      "34369/34369 [==============================] - 1s 24us/step\n",
      "Epoch 1/30\n",
      "34370/34370 [==============================] - 6s 172us/step - loss: 0.8750 - acc: 0.6079\n",
      "Epoch 2/30\n",
      "34370/34370 [==============================] - 4s 111us/step - loss: 0.7321 - acc: 0.7567\n",
      "Epoch 3/30\n",
      "34370/34370 [==============================] - 4s 110us/step - loss: 0.6480 - acc: 0.8714\n",
      "Epoch 4/30\n",
      "34370/34370 [==============================] - 4s 110us/step - loss: 0.5961 - acc: 0.9295\n",
      "Epoch 5/30\n",
      "34370/34370 [==============================] - 4s 114us/step - loss: 0.5705 - acc: 0.9588\n",
      "Epoch 6/30\n",
      "34370/34370 [==============================] - 4s 110us/step - loss: 0.5420 - acc: 0.9688\n",
      "Epoch 7/30\n",
      "34370/34370 [==============================] - 4s 109us/step - loss: 0.5346 - acc: 0.9716\n",
      "Epoch 8/30\n",
      "34370/34370 [==============================] - 4s 111us/step - loss: 0.5294 - acc: 0.9770\n",
      "Epoch 9/30\n",
      "34370/34370 [==============================] - 4s 110us/step - loss: 0.5147 - acc: 0.9787\n",
      "Epoch 10/30\n",
      "34370/34370 [==============================] - 4s 108us/step - loss: 0.5132 - acc: 0.9784\n",
      "Epoch 11/30\n",
      "34370/34370 [==============================] - 4s 108us/step - loss: 0.5092 - acc: 0.9779\n",
      "Epoch 12/30\n",
      "34370/34370 [==============================] - 4s 111us/step - loss: 0.4941 - acc: 0.9768\n",
      "Epoch 13/30\n",
      "34370/34370 [==============================] - 4s 108us/step - loss: 0.4948 - acc: 0.9768\n",
      "Epoch 14/30\n",
      "34370/34370 [==============================] - 4s 111us/step - loss: 0.4801 - acc: 0.9749\n",
      "Epoch 15/30\n",
      "34370/34370 [==============================] - 4s 109us/step - loss: 0.4897 - acc: 0.9744\n",
      "Epoch 16/30\n",
      "34370/34370 [==============================] - 4s 110us/step - loss: 0.4825 - acc: 0.9753\n",
      "Epoch 17/30\n",
      "34370/34370 [==============================] - 4s 107us/step - loss: 0.4691 - acc: 0.9727\n",
      "Epoch 18/30\n",
      "34370/34370 [==============================] - 4s 111us/step - loss: 0.4739 - acc: 0.9729\n",
      "Epoch 19/30\n",
      "34370/34370 [==============================] - 4s 109us/step - loss: 0.4704 - acc: 0.9707\n",
      "Epoch 20/30\n",
      "34370/34370 [==============================] - 4s 107us/step - loss: 0.4721 - acc: 0.9699\n",
      "Epoch 21/30\n",
      "34370/34370 [==============================] - 4s 108us/step - loss: 0.4578 - acc: 0.9701\n",
      "Epoch 22/30\n",
      "34370/34370 [==============================] - 4s 115us/step - loss: 0.4568 - acc: 0.9704\n",
      "Epoch 23/30\n",
      "34370/34370 [==============================] - 4s 115us/step - loss: 0.4527 - acc: 0.9699\n",
      "Epoch 24/30\n"
     ]
    },
    {
     "name": "stdout",
     "output_type": "stream",
     "text": [
      "34370/34370 [==============================] - 4s 110us/step - loss: 0.4504 - acc: 0.9657\n",
      "Epoch 25/30\n",
      "34370/34370 [==============================] - 4s 110us/step - loss: 0.4556 - acc: 0.9674\n",
      "Epoch 26/30\n",
      "34370/34370 [==============================] - 4s 115us/step - loss: 0.4421 - acc: 0.9673\n",
      "Epoch 27/30\n",
      "34370/34370 [==============================] - 4s 111us/step - loss: 0.4340 - acc: 0.9682\n",
      "Epoch 28/30\n",
      "34370/34370 [==============================] - 4s 115us/step - loss: 0.4338 - acc: 0.9666\n",
      "Epoch 29/30\n",
      "34370/34370 [==============================] - 4s 111us/step - loss: 0.4314 - acc: 0.9647\n",
      "Epoch 30/30\n",
      "34370/34370 [==============================] - 4s 111us/step - loss: 0.4298 - acc: 0.9661\n",
      "8592/8592 [==============================] - 1s 89us/step\n",
      "34370/34370 [==============================] - 1s 24us/step\n",
      "Epoch 1/30\n",
      "34370/34370 [==============================] - 6s 173us/step - loss: 0.8782 - acc: 0.5685\n",
      "Epoch 2/30\n",
      "34370/34370 [==============================] - 4s 111us/step - loss: 0.7418 - acc: 0.7304\n",
      "Epoch 3/30\n",
      "34370/34370 [==============================] - 4s 113us/step - loss: 0.6562 - acc: 0.8448\n",
      "Epoch 4/30\n",
      "34370/34370 [==============================] - 4s 111us/step - loss: 0.5999 - acc: 0.9193\n",
      "Epoch 5/30\n",
      "34370/34370 [==============================] - 4s 115us/step - loss: 0.5773 - acc: 0.9461\n",
      "Epoch 6/30\n",
      "34370/34370 [==============================] - 4s 111us/step - loss: 0.5565 - acc: 0.9631\n",
      "Epoch 7/30\n",
      "34370/34370 [==============================] - 4s 113us/step - loss: 0.5434 - acc: 0.9711\n",
      "Epoch 8/30\n",
      "34370/34370 [==============================] - 4s 112us/step - loss: 0.5306 - acc: 0.9754\n",
      "Epoch 9/30\n",
      "34370/34370 [==============================] - 4s 119us/step - loss: 0.5156 - acc: 0.9774\n",
      "Epoch 10/30\n",
      "34370/34370 [==============================] - 4s 113us/step - loss: 0.5098 - acc: 0.9778\n",
      "Epoch 11/30\n",
      "34370/34370 [==============================] - 4s 113us/step - loss: 0.5004 - acc: 0.9764\n",
      "Epoch 12/30\n",
      "34370/34370 [==============================] - 4s 114us/step - loss: 0.4946 - acc: 0.9722\n",
      "Epoch 13/30\n",
      "34370/34370 [==============================] - 4s 111us/step - loss: 0.4856 - acc: 0.9731\n",
      "Epoch 14/30\n",
      "34370/34370 [==============================] - 4s 111us/step - loss: 0.4984 - acc: 0.9728\n",
      "Epoch 15/30\n",
      "34370/34370 [==============================] - 4s 115us/step - loss: 0.4828 - acc: 0.9723\n",
      "Epoch 16/30\n",
      "34370/34370 [==============================] - 4s 120us/step - loss: 0.4784 - acc: 0.9701\n",
      "Epoch 17/30\n",
      "34370/34370 [==============================] - 4s 114us/step - loss: 0.4718 - acc: 0.9741\n",
      "Epoch 18/30\n",
      "34370/34370 [==============================] - 4s 115us/step - loss: 0.4700 - acc: 0.9686\n",
      "Epoch 19/30\n",
      "34370/34370 [==============================] - 4s 113us/step - loss: 0.4621 - acc: 0.9678\n",
      "Epoch 20/30\n",
      "34370/34370 [==============================] - 4s 116us/step - loss: 0.4646 - acc: 0.9677\n",
      "Epoch 21/30\n",
      "34370/34370 [==============================] - 4s 112us/step - loss: 0.4614 - acc: 0.9679\n",
      "Epoch 22/30\n",
      "34370/34370 [==============================] - 4s 115us/step - loss: 0.4543 - acc: 0.9681\n",
      "Epoch 23/30\n",
      "34370/34370 [==============================] - 4s 113us/step - loss: 0.4534 - acc: 0.9624\n",
      "Epoch 24/30\n",
      "34370/34370 [==============================] - 4s 114us/step - loss: 0.4527 - acc: 0.9672\n",
      "Epoch 25/30\n",
      "34370/34370 [==============================] - 4s 114us/step - loss: 0.4425 - acc: 0.9658\n",
      "Epoch 26/30\n",
      "34370/34370 [==============================] - 4s 112us/step - loss: 0.4394 - acc: 0.9613\n",
      "Epoch 27/30\n",
      "34370/34370 [==============================] - 4s 115us/step - loss: 0.4430 - acc: 0.9651\n",
      "Epoch 28/30\n",
      "34370/34370 [==============================] - 4s 123us/step - loss: 0.4352 - acc: 0.9614\n",
      "Epoch 29/30\n",
      "34370/34370 [==============================] - 4s 118us/step - loss: 0.4278 - acc: 0.9611\n",
      "Epoch 30/30\n",
      "34370/34370 [==============================] - 4s 121us/step - loss: 0.4281 - acc: 0.9651\n",
      "8592/8592 [==============================] - 1s 97us/step\n",
      "34370/34370 [==============================] - 1s 26us/step\n",
      "Epoch 1/30\n",
      "34370/34370 [==============================] - 6s 182us/step - loss: 0.9070 - acc: 0.5484\n",
      "Epoch 2/30\n",
      "34370/34370 [==============================] - 4s 118us/step - loss: 0.7411 - acc: 0.7191\n",
      "Epoch 3/30\n",
      "34370/34370 [==============================] - 4s 118us/step - loss: 0.6458 - acc: 0.8559\n",
      "Epoch 4/30\n",
      "34370/34370 [==============================] - 4s 119us/step - loss: 0.5994 - acc: 0.9267\n",
      "Epoch 5/30\n",
      "34370/34370 [==============================] - 4s 117us/step - loss: 0.5646 - acc: 0.9549\n",
      "Epoch 6/30\n",
      "34370/34370 [==============================] - 4s 119us/step - loss: 0.5444 - acc: 0.9667\n",
      "Epoch 7/30\n",
      "34370/34370 [==============================] - 4s 116us/step - loss: 0.5245 - acc: 0.9767\n",
      "Epoch 8/30\n",
      "34370/34370 [==============================] - 4s 118us/step - loss: 0.5138 - acc: 0.9775\n",
      "Epoch 9/30\n",
      "34370/34370 [==============================] - 4s 119us/step - loss: 0.5064 - acc: 0.9792\n",
      "Epoch 10/30\n",
      "34370/34370 [==============================] - 4s 120us/step - loss: 0.4965 - acc: 0.9782\n",
      "Epoch 11/30\n",
      "34370/34370 [==============================] - 4s 118us/step - loss: 0.4910 - acc: 0.9785\n",
      "Epoch 12/30\n",
      "34370/34370 [==============================] - 4s 118us/step - loss: 0.4833 - acc: 0.9764\n",
      "Epoch 13/30\n",
      "34370/34370 [==============================] - 4s 118us/step - loss: 0.4794 - acc: 0.9771\n",
      "Epoch 14/30\n",
      "34370/34370 [==============================] - 4s 118us/step - loss: 0.4831 - acc: 0.9763\n",
      "Epoch 15/30\n",
      "34370/34370 [==============================] - 4s 118us/step - loss: 0.4755 - acc: 0.9729\n",
      "Epoch 16/30\n",
      "34370/34370 [==============================] - 4s 120us/step - loss: 0.4698 - acc: 0.9732\n",
      "Epoch 17/30\n",
      "34370/34370 [==============================] - 4s 117us/step - loss: 0.4686 - acc: 0.9737\n",
      "Epoch 18/30\n",
      "34370/34370 [==============================] - 4s 117us/step - loss: 0.4575 - acc: 0.9720\n",
      "Epoch 19/30\n",
      "34370/34370 [==============================] - 4s 116us/step - loss: 0.4613 - acc: 0.9715\n",
      "Epoch 20/30\n",
      "34370/34370 [==============================] - 4s 120us/step - loss: 0.4568 - acc: 0.9722\n",
      "Epoch 21/30\n",
      "34370/34370 [==============================] - 4s 117us/step - loss: 0.4454 - acc: 0.9715\n",
      "Epoch 22/30\n",
      "34370/34370 [==============================] - 4s 115us/step - loss: 0.4532 - acc: 0.9669\n",
      "Epoch 23/30\n",
      "34370/34370 [==============================] - 4s 116us/step - loss: 0.4459 - acc: 0.9674\n",
      "Epoch 24/30\n",
      "34370/34370 [==============================] - 4s 118us/step - loss: 0.4414 - acc: 0.9675\n",
      "Epoch 25/30\n",
      "34370/34370 [==============================] - 4s 116us/step - loss: 0.4330 - acc: 0.9684\n",
      "Epoch 26/30\n",
      "34370/34370 [==============================] - 4s 118us/step - loss: 0.4270 - acc: 0.9647\n",
      "Epoch 27/30\n",
      "34370/34370 [==============================] - 4s 117us/step - loss: 0.4248 - acc: 0.9640\n",
      "Epoch 28/30\n",
      "34370/34370 [==============================] - 4s 117us/step - loss: 0.4156 - acc: 0.9672\n",
      "Epoch 29/30\n",
      "34370/34370 [==============================] - 4s 115us/step - loss: 0.4245 - acc: 0.9669\n",
      "Epoch 30/30\n",
      "34370/34370 [==============================] - 4s 115us/step - loss: 0.4196 - acc: 0.9658\n",
      "8592/8592 [==============================] - 1s 100us/step\n",
      "34370/34370 [==============================] - 1s 25us/step\n",
      "Epoch 1/30\n",
      "42962/42962 [==============================] - 8s 177us/step - loss: 0.8597 - acc: 0.5846\n",
      "Epoch 2/30\n",
      "42962/42962 [==============================] - 5s 124us/step - loss: 0.6854 - acc: 0.8112\n",
      "Epoch 3/30\n",
      "42962/42962 [==============================] - 5s 124us/step - loss: 0.6028 - acc: 0.9181\n",
      "Epoch 4/30\n",
      "42962/42962 [==============================] - 5s 125us/step - loss: 0.5674 - acc: 0.9531\n",
      "Epoch 5/30\n",
      "42962/42962 [==============================] - 5s 126us/step - loss: 0.5437 - acc: 0.9688\n",
      "Epoch 6/30\n",
      "42962/42962 [==============================] - 5s 125us/step - loss: 0.5315 - acc: 0.9719\n",
      "Epoch 7/30\n",
      "42962/42962 [==============================] - 5s 126us/step - loss: 0.5270 - acc: 0.9774\n",
      "Epoch 8/30\n",
      "42962/42962 [==============================] - 5s 126us/step - loss: 0.5166 - acc: 0.9762\n",
      "Epoch 9/30\n",
      "42962/42962 [==============================] - 5s 126us/step - loss: 0.5146 - acc: 0.9785\n",
      "Epoch 10/30\n",
      "42962/42962 [==============================] - 5s 126us/step - loss: 0.5101 - acc: 0.9772\n",
      "Epoch 11/30\n"
     ]
    },
    {
     "name": "stdout",
     "output_type": "stream",
     "text": [
      "42962/42962 [==============================] - 5s 123us/step - loss: 0.5058 - acc: 0.9759\n",
      "Epoch 12/30\n",
      "42962/42962 [==============================] - 5s 123us/step - loss: 0.4987 - acc: 0.9756\n",
      "Epoch 13/30\n",
      "42962/42962 [==============================] - 5s 124us/step - loss: 0.4944 - acc: 0.9766\n",
      "Epoch 14/30\n",
      "42962/42962 [==============================] - 5s 122us/step - loss: 0.4870 - acc: 0.9740\n",
      "Epoch 15/30\n",
      "42962/42962 [==============================] - 5s 122us/step - loss: 0.4830 - acc: 0.9723\n",
      "Epoch 16/30\n",
      "42962/42962 [==============================] - 5s 124us/step - loss: 0.4853 - acc: 0.9710\n",
      "Epoch 17/30\n",
      "42962/42962 [==============================] - 5s 123us/step - loss: 0.4796 - acc: 0.9750\n",
      "Epoch 18/30\n",
      "42962/42962 [==============================] - 5s 123us/step - loss: 0.4677 - acc: 0.9753\n",
      "Epoch 19/30\n",
      "42962/42962 [==============================] - 5s 124us/step - loss: 0.4744 - acc: 0.9687\n",
      "Epoch 20/30\n",
      "42962/42962 [==============================] - 5s 123us/step - loss: 0.4626 - acc: 0.9695\n",
      "Epoch 21/30\n",
      "42962/42962 [==============================] - 5s 125us/step - loss: 0.4655 - acc: 0.9663\n",
      "Epoch 22/30\n",
      "42962/42962 [==============================] - 5s 124us/step - loss: 0.4522 - acc: 0.9713\n",
      "Epoch 23/30\n",
      "42962/42962 [==============================] - 5s 123us/step - loss: 0.4500 - acc: 0.9702\n",
      "Epoch 24/30\n",
      "42962/42962 [==============================] - 5s 123us/step - loss: 0.4496 - acc: 0.9665\n",
      "Epoch 25/30\n",
      "42962/42962 [==============================] - 5s 124us/step - loss: 0.4490 - acc: 0.9672\n",
      "Epoch 26/30\n",
      "42962/42962 [==============================] - 5s 123us/step - loss: 0.4404 - acc: 0.9677\n",
      "Epoch 27/30\n",
      "42962/42962 [==============================] - 5s 123us/step - loss: 0.4383 - acc: 0.9690\n",
      "Epoch 28/30\n",
      "42962/42962 [==============================] - 5s 124us/step - loss: 0.4379 - acc: 0.9686\n",
      "Epoch 29/30\n",
      "42962/42962 [==============================] - 5s 123us/step - loss: 0.4372 - acc: 0.9690\n",
      "Epoch 30/30\n",
      "42962/42962 [==============================] - 5s 123us/step - loss: 0.4344 - acc: 0.9637\n",
      "Elapsed computation time: 22.295 mins\n",
      "Best: 0.659714 using {'batch_size': 64, 'class_weight': {0: 1, 1: 15}, 'epochs': 30, 'learn_rate': 0.0001, 'n_features': 381}\n"
     ]
    }
   ],
   "source": [
    "model = KerasClassifier(build_fn=make_model, verbose=True)\n",
    "\n",
    "param_grid = {'n_features':[X_processed.shape[1]],\n",
    "              'class_weight':[None, {0:1, 1:15}],\n",
    "              'learn_rate':[0.0001],\n",
    "              'batch_size':[64],\n",
    "              'epochs':[30]}\n",
    "\n",
    "start_time = time.time()\n",
    "\n",
    "grid = GridSearchCV(estimator=model, param_grid=param_grid, scoring='roc_auc', cv=5)\n",
    "grid_result = grid.fit(X_processed, y)\n",
    "\n",
    "elapsed_time = (time.time() - start_time) / 60\n",
    "print('Elapsed computation time: {:.3f} mins'\n",
    "      .format(elapsed_time))\n",
    "\n",
    "print(\"Best: %f using %s\" % (grid_result.best_score_, grid_result.best_params_))"
   ]
  },
  {
   "cell_type": "markdown",
   "metadata": {},
   "source": [
    "Best: 0.659714 using {'batch_size': 64, 'class_weight': {0: 1, 1: 15}, 'epochs': 30, 'learn_rate': 0.0001, 'n_features': 381}"
   ]
  },
  {
   "cell_type": "code",
   "execution_count": 33,
   "metadata": {},
   "outputs": [
    {
     "name": "stdout",
     "output_type": "stream",
     "text": [
      "0.637211 (0.040107) with: {'batch_size': 64, 'class_weight': None, 'epochs': 30, 'learn_rate': 0.0001, 'n_features': 381}\n",
      "0.659714 (0.016467) with: {'batch_size': 64, 'class_weight': {0: 1, 1: 15}, 'epochs': 30, 'learn_rate': 0.0001, 'n_features': 381}\n"
     ]
    }
   ],
   "source": [
    "means = grid_result.cv_results_['mean_test_score']\n",
    "stds = grid_result.cv_results_['std_test_score']\n",
    "params = grid_result.cv_results_['params']\n",
    "for mean, stdev, param in zip(means, stds, params):\n",
    "    print(\"%f (%f) with: %r\" % (mean, stdev, param))"
   ]
  },
  {
   "cell_type": "markdown",
   "metadata": {},
   "source": [
    "0.637211 (0.040107) with: {'batch_size': 64, 'class_weight': None, 'epochs': 30, 'learn_rate': 0.0001, 'n_features': 381}\n",
    "0.659714 (0.016467) with: {'batch_size': 64, 'class_weight': {0: 1, 1: 15}, 'epochs': 30, 'learn_rate': 0.0001, 'n_features': 381}"
   ]
  },
  {
   "cell_type": "markdown",
   "metadata": {},
   "source": [
    "### Final model with no Gridsearch"
   ]
  },
  {
   "cell_type": "code",
   "execution_count": 37,
   "metadata": {},
   "outputs": [
    {
     "name": "stdout",
     "output_type": "stream",
     "text": [
      "Train on 34369 samples, validate on 8593 samples\n",
      "Epoch 1/30\n",
      "34369/34369 [==============================] - 7s 215us/step - loss: 0.8948 - acc: 0.5463 - val_loss: 0.7602 - val_acc: 0.6576\n",
      "Epoch 2/30\n",
      "34369/34369 [==============================] - 5s 136us/step - loss: 0.7505 - acc: 0.7267 - val_loss: 0.6482 - val_acc: 0.9789\n",
      "Epoch 3/30\n",
      "34369/34369 [==============================] - 5s 136us/step - loss: 0.6570 - acc: 0.8520 - val_loss: 0.6001 - val_acc: 0.9844\n",
      "Epoch 4/30\n",
      "34369/34369 [==============================] - 5s 135us/step - loss: 0.6019 - acc: 0.9223 - val_loss: 0.5630 - val_acc: 0.9868\n",
      "Epoch 5/30\n",
      "34369/34369 [==============================] - 5s 134us/step - loss: 0.5713 - acc: 0.9500 - val_loss: 0.5567 - val_acc: 0.9874\n",
      "Epoch 6/30\n",
      "34369/34369 [==============================] - 5s 135us/step - loss: 0.5506 - acc: 0.9700 - val_loss: 0.5416 - val_acc: 0.9874\n",
      "Epoch 7/30\n",
      "34369/34369 [==============================] - 5s 139us/step - loss: 0.5375 - acc: 0.9729 - val_loss: 0.5393 - val_acc: 0.9857\n",
      "Epoch 8/30\n",
      "34369/34369 [==============================] - 5s 136us/step - loss: 0.5222 - acc: 0.9783 - val_loss: 0.5148 - val_acc: 0.9874\n",
      "Epoch 9/30\n",
      "34369/34369 [==============================] - 5s 135us/step - loss: 0.5184 - acc: 0.9785 - val_loss: 0.5227 - val_acc: 0.9868\n",
      "Epoch 10/30\n",
      "34369/34369 [==============================] - 5s 135us/step - loss: 0.5179 - acc: 0.9804 - val_loss: 0.5132 - val_acc: 0.9872\n",
      "Epoch 11/30\n",
      "34369/34369 [==============================] - 5s 134us/step - loss: 0.4993 - acc: 0.9800 - val_loss: 0.5663 - val_acc: 0.9821\n",
      "Epoch 12/30\n",
      "34369/34369 [==============================] - 5s 133us/step - loss: 0.4982 - acc: 0.9811 - val_loss: 0.5196 - val_acc: 0.9850\n",
      "Epoch 13/30\n",
      "34369/34369 [==============================] - 5s 133us/step - loss: 0.4886 - acc: 0.9807 - val_loss: 0.5497 - val_acc: 0.9818\n",
      "Elapsed computation time: 1.126 mins\n"
     ]
    }
   ],
   "source": [
    "callbacks = [EarlyStopping(monitor='val_loss', patience=3),\n",
    "             ModelCheckpoint(filepath='best_model.h5', monitor='val_loss', save_best_only=True)]\n",
    "\n",
    "start_time = time.time()\n",
    "\n",
    "model = make_model(X_processed.shape[1], 0.0001)\n",
    "\n",
    "model.fit(X_processed, y, validation_split=.2, \n",
    "          epochs=30, batch_size=64, verbose=True, class_weight={0:1, 1:15}, callbacks=callbacks)\n",
    "\n",
    "elapsed_time = (time.time() - start_time) / 60\n",
    "print('Elapsed computation time: {:.3f} mins'\n",
    "      .format(elapsed_time))"
   ]
  },
  {
   "cell_type": "code",
   "execution_count": 38,
   "metadata": {},
   "outputs": [
    {
     "name": "stdout",
     "output_type": "stream",
     "text": [
      "0.6243049827166314\n"
     ]
    }
   ],
   "source": [
    "# Score will be higher than actual since we trained on all the data\n",
    "y_pred = model.predict_proba(X_test)\n",
    "print(roc_auc_score(y_test, y_pred))"
   ]
  },
  {
   "cell_type": "code",
   "execution_count": 80,
   "metadata": {},
   "outputs": [
    {
     "name": "stdout",
     "output_type": "stream",
     "text": [
      "0.6314711976588893\n"
     ]
    }
   ],
   "source": [
    "from keras.models import load_model\n",
    "\n",
    "saved = load_model('best_model.h5')\n",
    "y_pred = saved.predict_proba(X_test)\n",
    "print(roc_auc_score(y_test, y_pred))"
   ]
  },
  {
   "cell_type": "code",
   "execution_count": 111,
   "metadata": {},
   "outputs": [
    {
     "name": "stdout",
     "output_type": "stream",
     "text": [
      "12889/12889 [==============================] - 4s 286us/step\n"
     ]
    }
   ],
   "source": [
    "# compute fpr, tpr, thresholds and roc_auc\n",
    "fpr, tpr, thresholds = roc_curve(y_test, y_pred)\n",
    "roc_auc = auc(fpr, tpr) # compute area under the curve"
   ]
  },
  {
   "cell_type": "markdown",
   "metadata": {},
   "source": [
    "### Label Threshold"
   ]
  },
  {
   "cell_type": "code",
   "execution_count": 112,
   "metadata": {},
   "outputs": [
    {
     "data": {
      "text/plain": [
       "(0.0, 1.0)"
      ]
     },
     "execution_count": 112,
     "metadata": {},
     "output_type": "execute_result"
    },
    {
     "data": {
      "image/png": "[encoded data removed]",
      "text/plain": [
       "<matplotlib.figure.Figure at 0x7ff4e7157860>"
      ]
     },
     "metadata": {
      "needs_background": "light"
     },
     "output_type": "display_data"
    }
   ],
   "source": [
    "plt.figure()\n",
    "plt.plot(fpr, tpr, label='ROC curve (area = %0.2f)' % (roc_auc))\n",
    "plt.plot([0, 1], [0, 1], 'k--')\n",
    "plt.xlim([0.0, 1.0])\n",
    "plt.ylim([0.0, 1.05])\n",
    "plt.xlabel('False Positive Rate')\n",
    "plt.ylabel('True Positive Rate')\n",
    "plt.title('Receiver operating characteristic')\n",
    "plt.legend(loc=\"lower right\")\n",
    "\n",
    "# create the axis of thresholds (scores)\n",
    "ax2 = plt.gca().twinx()\n",
    "ax2.plot(fpr, thresholds, markeredgecolor='r',linestyle='dashed', color='r')\n",
    "ax2.set_ylabel('Threshold',color='r')\n",
    "ax2.set_ylim([thresholds[-1],thresholds[0]])\n",
    "ax2.set_xlim([fpr[0],fpr[-1]])"
   ]
  },
  {
   "cell_type": "code",
   "execution_count": 114,
   "metadata": {},
   "outputs": [
    {
     "data": {
      "image/png": "[encoded data removed]",
      "text/plain": [
       "<matplotlib.figure.Figure at 0x7ff4e81e4048>"
      ]
     },
     "metadata": {
      "needs_background": "light"
     },
     "output_type": "display_data"
    }
   ],
   "source": [
    "def plot_precision_recall_vs_threshold(precisions, recalls, thresholds):\n",
    "    \"\"\"\n",
    "    Modified from:\n",
    "    Hands-On Machine learning with Scikit-Learn\n",
    "    and TensorFlow; p.89\n",
    "    \"\"\"\n",
    "    plt.figure(figsize=(8, 8))\n",
    "    plt.title(\"Precision and Recall Scores as a function of the decision threshold\")\n",
    "    plt.plot(thresholds, precisions[:-1], \"b--\", label=\"Precision\")\n",
    "    plt.plot(thresholds, recalls[:-1], \"g-\", label=\"Recall\")\n",
    "    plt.ylabel(\"Score\")\n",
    "    plt.xlabel(\"Decision Threshold\")\n",
    "    plt.legend(loc='best')\n",
    "\n",
    "p, r, thresholds = precision_recall_curve(y_test, y_pred)\n",
    "plot_precision_recall_vs_threshold(p, r, thresholds)"
   ]
  },
  {
   "cell_type": "code",
   "execution_count": 158,
   "metadata": {},
   "outputs": [
    {
     "data": {
      "text/plain": [
       "0.6351282013512451"
      ]
     },
     "execution_count": 158,
     "metadata": {},
     "output_type": "execute_result"
    }
   ],
   "source": [
    "threshold = .135\n",
    "y_class = np.where(y_pred > threshold, 1, 0)\n",
    "roc_auc_score(y_test, y_class)"
   ]
  },
  {
   "cell_type": "code",
   "execution_count": 177,
   "metadata": {},
   "outputs": [],
   "source": [
    "# Save model\n",
    "grid.best_estimator_.model.save('model5.h5')"
   ]
  },
  {
   "cell_type": "markdown",
   "metadata": {},
   "source": [
    "## Part 3: Kaggle Competition"
   ]
  },
  {
   "cell_type": "code",
   "execution_count": 39,
   "metadata": {},
   "outputs": [
    {
     "name": "stderr",
     "output_type": "stream",
     "text": [
      "C:\\Users\\Mei\\Anaconda3\\envs\\tensorflow-gpu\\lib\\site-packages\\IPython\\core\\interactiveshell.py:3020: DtypeWarning: Columns (18,19) have mixed types. Specify dtype option on import or set low_memory=False.\n",
      "  interactivity=interactivity, compiler=compiler, result=result)\n"
     ]
    }
   ],
   "source": [
    "mailout_test = pd.read_csv('../data/Udacity_MAILOUT_052018_TEST.csv', sep=';')"
   ]
  },
  {
   "cell_type": "code",
   "execution_count": 40,
   "metadata": {},
   "outputs": [
    {
     "data": {
      "text/plain": [
       "(42833, 366)"
      ]
     },
     "execution_count": 40,
     "metadata": {},
     "output_type": "execute_result"
    }
   ],
   "source": [
    "mailout_test.shape"
   ]
  },
  {
   "cell_type": "code",
   "execution_count": 41,
   "metadata": {},
   "outputs": [
    {
     "data": {
      "text/plain": [
       "0    1754\n",
       "1    1770\n",
       "2    1465\n",
       "3    1470\n",
       "4    1478\n",
       "Name: LNR, dtype: int64"
      ]
     },
     "execution_count": 41,
     "metadata": {},
     "output_type": "execute_result"
    }
   ],
   "source": [
    "LNR = mailout_test.LNR\n",
    "LNR.head()"
   ]
  },
  {
   "cell_type": "code",
   "execution_count": 162,
   "metadata": {},
   "outputs": [
    {
     "data": {
      "text/plain": [
       "(42833, 346)"
      ]
     },
     "execution_count": 162,
     "metadata": {},
     "output_type": "execute_result"
    }
   ],
   "source": [
    "mailout_test_clean, mailout_test_dropped = clean_data(mailout_test, feat_info, row_threshold=len(mailout_test))\n",
    "mailout_test_clean.shape"
   ]
  },
  {
   "cell_type": "code",
   "execution_count": 44,
   "metadata": {},
   "outputs": [],
   "source": [
    "# Read in cleaned test data\n",
    "mailout_test_clean = pd.read_csv('../data/Udacity_MAILOUT_052018_TEST_clean.csv', sep=';')\n",
    "lnr = mailout_test_clean.LNR\n",
    "mailout_test_clean.drop(['LNR'], axis=1, inplace=True)"
   ]
  },
  {
   "cell_type": "code",
   "execution_count": 46,
   "metadata": {},
   "outputs": [],
   "source": [
    "mailout_test_processed = preprocessor.transform(mailout_test_clean)"
   ]
  },
  {
   "cell_type": "code",
   "execution_count": 55,
   "metadata": {},
   "outputs": [
    {
     "name": "stdout",
     "output_type": "stream",
     "text": [
      "42833/42833 [==============================] - 1s 30us/step\n"
     ]
    }
   ],
   "source": [
    "#test_pred = weighted.predict_classes(mailout_test_processed)\n",
    "test_pred = grid.best_estimator_.predict_proba(mailout_test_processed)\n",
    "#test_pred = model.predict_proba(mailout_test_processed)"
   ]
  },
  {
   "cell_type": "code",
   "execution_count": 57,
   "metadata": {},
   "outputs": [
    {
     "data": {
      "text/plain": [
       "0    27756\n",
       "1    15077\n",
       "dtype: int64"
      ]
     },
     "execution_count": 57,
     "metadata": {},
     "output_type": "execute_result"
    }
   ],
   "source": [
    "threshold = .135\n",
    "y_class = np.where(test_pred[:,1] > threshold, 1, 0)\n",
    "pd.value_counts(y_class)"
   ]
  },
  {
   "cell_type": "code",
   "execution_count": 52,
   "metadata": {},
   "outputs": [
    {
     "data": {
      "text/plain": [
       "array([[0],\n",
       "       [0],\n",
       "       [0],\n",
       "       [0],\n",
       "       [0]], dtype=int64)"
      ]
     },
     "execution_count": 52,
     "metadata": {},
     "output_type": "execute_result"
    }
   ],
   "source": [
    "test_pred[:5]"
   ]
  },
  {
   "cell_type": "code",
   "execution_count": 58,
   "metadata": {},
   "outputs": [
    {
     "data": {
      "text/html": [
       "<div>\n",
       "<style scoped>\n",
       "    .dataframe tbody tr th:only-of-type {\n",
       "        vertical-align: middle;\n",
       "    }\n",
       "\n",
       "    .dataframe tbody tr th {\n",
       "        vertical-align: top;\n",
       "    }\n",
       "\n",
       "    .dataframe thead th {\n",
       "        text-align: right;\n",
       "    }\n",
       "</style>\n",
       "<table border=\"1\" class=\"dataframe\">\n",
       "  <thead>\n",
       "    <tr style=\"text-align: right;\">\n",
       "      <th></th>\n",
       "      <th>LNR</th>\n",
       "      <th>RESPONSE</th>\n",
       "    </tr>\n",
       "  </thead>\n",
       "  <tbody>\n",
       "    <tr>\n",
       "      <th>0</th>\n",
       "      <td>1754</td>\n",
       "      <td>0.449332</td>\n",
       "    </tr>\n",
       "    <tr>\n",
       "      <th>1</th>\n",
       "      <td>1770</td>\n",
       "      <td>0.296060</td>\n",
       "    </tr>\n",
       "    <tr>\n",
       "      <th>2</th>\n",
       "      <td>1465</td>\n",
       "      <td>0.009407</td>\n",
       "    </tr>\n",
       "    <tr>\n",
       "      <th>3</th>\n",
       "      <td>1470</td>\n",
       "      <td>0.019191</td>\n",
       "    </tr>\n",
       "    <tr>\n",
       "      <th>4</th>\n",
       "      <td>1478</td>\n",
       "      <td>0.061899</td>\n",
       "    </tr>\n",
       "  </tbody>\n",
       "</table>\n",
       "</div>"
      ],
      "text/plain": [
       "    LNR  RESPONSE\n",
       "0  1754  0.449332\n",
       "1  1770  0.296060\n",
       "2  1465  0.009407\n",
       "3  1470  0.019191\n",
       "4  1478  0.061899"
      ]
     },
     "execution_count": 58,
     "metadata": {},
     "output_type": "execute_result"
    }
   ],
   "source": [
    "# submit probabilities\n",
    "submission = pd.DataFrame({'LNR':lnr, 'RESPONSE':test_pred[:,1]})\n",
    "submission.head()"
   ]
  },
  {
   "cell_type": "code",
   "execution_count": null,
   "metadata": {},
   "outputs": [],
   "source": [
    "submission.RESPONSE.value_counts()"
   ]
  },
  {
   "cell_type": "code",
   "execution_count": 60,
   "metadata": {},
   "outputs": [],
   "source": [
    "submission.to_csv('keras_grid.csv', index=False)"
   ]
  }
 ],
 "metadata": {
  "kernelspec": {
   "display_name": "Python 3",
   "language": "python",
   "name": "python3"
  },
  "language_info": {
   "codemirror_mode": {
    "name": "ipython",
    "version": 3
   },
   "file_extension": ".py",
   "mimetype": "text/x-python",
   "name": "python",
   "nbconvert_exporter": "python",
   "pygments_lexer": "ipython3",
   "version": "3.6.8"
  }
 },
 "nbformat": 4,
 "nbformat_minor": 2
}
