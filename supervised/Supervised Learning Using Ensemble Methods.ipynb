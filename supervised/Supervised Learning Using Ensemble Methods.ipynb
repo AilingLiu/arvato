{
 "cells": [
  {
   "cell_type": "markdown",
   "metadata": {},
   "source": [
    "# Supervised Learning Using Ensemble Methods"
   ]
  },
  {
   "cell_type": "code",
   "execution_count": 1,
   "metadata": {},
   "outputs": [],
   "source": [
    "import numpy as np\n",
    "import pandas as pd\n",
    "import pickle\n",
    "import time\n",
    "\n",
    "from sklearn.model_selection import train_test_split\n",
    "from sklearn.ensemble import GradientBoostingClassifier, AdaBoostClassifier, RandomForestClassifier\n",
    "from sklearn.model_selection import GridSearchCV\n",
    "from sklearn.tree import DecisionTreeClassifier\n",
    "from sklearn.externals import joblib\n",
    "\n",
    "import lightgbm as lgb\n",
    "\n",
    "from preprocess import make_preprocessor, get_columns"
   ]
  },
  {
   "cell_type": "code",
   "execution_count": 2,
   "metadata": {},
   "outputs": [
    {
     "data": {
      "text/plain": [
       "(42962, 383)"
      ]
     },
     "execution_count": 2,
     "metadata": {},
     "output_type": "execute_result"
    }
   ],
   "source": [
    "mailout_train_clean = pd.read_csv('../data/Udacity_MAILOUT_052018_TRAIN_clean.csv', sep=';')\n",
    "mailout_train_clean.shape"
   ]
  },
  {
   "cell_type": "code",
   "execution_count": 4,
   "metadata": {},
   "outputs": [
    {
     "data": {
      "text/plain": [
       "(42962, 381)"
      ]
     },
     "execution_count": 4,
     "metadata": {},
     "output_type": "execute_result"
    }
   ],
   "source": [
    "lnr = mailout_train_clean.LNR\n",
    "y = mailout_train_clean.RESPONSE\n",
    "X = mailout_train_clean.drop(['RESPONSE', 'LNR'], axis=1)\n",
    "X.shape"
   ]
  },
  {
   "cell_type": "code",
   "execution_count": 5,
   "metadata": {},
   "outputs": [],
   "source": [
    "# Load feature info\n",
    "feat_info = pd.read_csv('../features.csv')\n",
    "feat_info.set_index('attribute', inplace=True)"
   ]
  },
  {
   "cell_type": "code",
   "execution_count": 6,
   "metadata": {},
   "outputs": [],
   "source": [
    "# Make the preprocessor\n",
    "numerical, categorical = get_columns(X.columns, feat_info)\n",
    "preprocessor = make_preprocessor(numerical, categorical)\n",
    "\n",
    "X_processed = preprocessor.fit_transform(X)"
   ]
  },
  {
   "cell_type": "code",
   "execution_count": 24,
   "metadata": {},
   "outputs": [
    {
     "data": {
      "text/plain": [
       "['ANZ_HAUSHALTE_AKTIV',\n",
       " 'ANZ_HH_TITEL',\n",
       " 'ANZ_KINDER',\n",
       " 'ANZ_PERSONEN',\n",
       " 'ANZ_STATISTISCHE_HAUSHALTE',\n",
       " 'ANZ_TITEL',\n",
       " 'KBA13_ANZAHL_PKW',\n",
       " 'MIN_GEBAEUDEJAHR']"
      ]
     },
     "execution_count": 24,
     "metadata": {},
     "output_type": "execute_result"
    }
   ],
   "source": [
    "sorted(numerical)"
   ]
  },
  {
   "cell_type": "code",
   "execution_count": 27,
   "metadata": {},
   "outputs": [
    {
     "data": {
      "text/plain": [
       "['D19_KINDERARTIKEL',\n",
       " 'KBA13_KW_0_60',\n",
       " 'KBA13_BJ_2008',\n",
       " 'KBA05_KRSZUL',\n",
       " 'KBA13_SEG_SPORTWAGEN',\n",
       " 'D19_ENERGIE',\n",
       " 'KBA05_MAXBJ',\n",
       " 'SEMIO_LUST',\n",
       " 'KBA05_SEG5',\n",
       " 'KBA05_VORB0',\n",
       " 'KBA13_SEG_MINIVANS',\n",
       " 'KBA05_GBZ',\n",
       " 'D19_TIERARTIKEL',\n",
       " 'KBA13_ANTG1',\n",
       " 'KBA13_FIAT',\n",
       " 'D19_FREIZEIT',\n",
       " 'KBA13_HALTER_55',\n",
       " 'KBA05_SEG10',\n",
       " 'D19_BANKEN_GROSS',\n",
       " 'D19_BUCH_CD',\n",
       " 'RELAT_AB',\n",
       " 'D19_GESAMT_ONLINE_QUOTE_12',\n",
       " 'KBA13_ANTG4',\n",
       " 'KBA13_HALTER_25',\n",
       " 'D19_BANKEN_DATUM',\n",
       " 'D19_TELKO_ONLINE_QUOTE_12',\n",
       " 'KBA05_KRSHERST3',\n",
       " 'KBA13_HHZ',\n",
       " 'FINANZ_SPARER',\n",
       " 'D19_LETZTER_KAUF_BRANCHE_D19_TECHNIK',\n",
       " 'KBA13_KRSHERST_BMW_BENZ',\n",
       " 'KBA13_SEG_SONSTIGE',\n",
       " 'KBA05_CCM2',\n",
       " 'D19_HAUS_DEKO',\n",
       " 'D19_LETZTER_KAUF_BRANCHE_D19_UNBEKANNT',\n",
       " 'KBA13_FAB_ASIEN',\n",
       " 'KBA13_VORB_2',\n",
       " 'KBA13_KMH_211',\n",
       " 'D19_LETZTER_KAUF_BRANCHE_D19_HANDWERK',\n",
       " 'KBA05_CCM4',\n",
       " 'D19_VERSICHERUNGEN',\n",
       " 'D19_DROGERIEARTIKEL',\n",
       " 'BALLRAUM',\n",
       " 'HH_EINKOMMEN_SCORE',\n",
       " 'D19_VERSAND_REST',\n",
       " 'KBA13_CCM_1200',\n",
       " 'D19_LETZTER_KAUF_BRANCHE_D19_BUCH_CD',\n",
       " 'KBA05_SEG7',\n",
       " 'KBA13_SEG_WOHNMOBILE',\n",
       " 'HEALTH_TYP',\n",
       " 'KBA05_SEG2',\n",
       " 'ALTERSKATEGORIE_GROB',\n",
       " 'KBA05_ZUL2',\n",
       " 'SEMIO_SOZ',\n",
       " 'KBA13_ANTG2',\n",
       " 'D19_LEBENSMITTEL',\n",
       " 'D19_TECHNIK',\n",
       " 'KBA05_MOTOR',\n",
       " 'KBA13_MERCEDES',\n",
       " 'PLZ8_HHZ',\n",
       " 'D19_LETZTER_KAUF_BRANCHE_D19_BIO_OEKO',\n",
       " 'ANREDE_KZ',\n",
       " 'KBA13_CCM_3001',\n",
       " 'UNGLEICHENN_FLAG',\n",
       " 'D19_LETZTER_KAUF_BRANCHE_D19_TIERARTIKEL',\n",
       " 'KBA13_KRSAQUOT',\n",
       " 'LP_FAMILIE_GROB',\n",
       " 'FINANZTYP',\n",
       " 'KBA05_MODTEMP',\n",
       " 'D19_VERSI_ONLINE_DATUM',\n",
       " 'FINANZ_ANLEGER',\n",
       " 'D19_BANKEN_ONLINE_DATUM',\n",
       " 'D19_LETZTER_KAUF_BRANCHE_D19_TELKO_MOBILE',\n",
       " 'D19_RATGEBER',\n",
       " 'KBA13_CCM_2501',\n",
       " 'INNENSTADT',\n",
       " 'KBA05_ZUL4',\n",
       " 'KBA13_VORB_0',\n",
       " 'KBA13_HERST_BMW_BENZ',\n",
       " 'KBA13_CCM_1800',\n",
       " 'KBA05_SEG4',\n",
       " 'D19_LETZTER_KAUF_BRANCHE_D19_VERSICHERUNGEN',\n",
       " 'D19_VERSAND_ONLINE_QUOTE_12',\n",
       " 'KBA13_TOYOTA',\n",
       " 'D19_LETZTER_KAUF_BRANCHE_D19_BEKLEIDUNG_REST',\n",
       " 'KBA13_HERST_FORD_OPEL',\n",
       " 'KBA05_ANTG1',\n",
       " 'D19_LETZTER_KAUF_BRANCHE_D19_NAHRUNGSERGAENZUNG',\n",
       " 'KBA13_ALTERHALTER_61',\n",
       " 'FINANZ_UNAUFFAELLIGER',\n",
       " 'KBA05_ALTER1',\n",
       " 'KBA05_KW2',\n",
       " 'EINGEZOGENAM_HH_JAHR',\n",
       " 'VK_DISTANZ',\n",
       " 'KBA13_KW_90',\n",
       " 'D19_LETZTER_KAUF_BRANCHE_D19_GARTEN',\n",
       " 'KBA05_SEG6',\n",
       " 'D19_BEKLEIDUNG_GEH',\n",
       " 'KBA05_KRSKLEIN',\n",
       " 'KBA13_NISSAN',\n",
       " 'D19_LETZTER_KAUF_BRANCHE_D19_RATGEBER',\n",
       " 'KBA13_HALTER_20',\n",
       " 'SEMIO_VERT',\n",
       " 'KBA13_HALTER_60',\n",
       " 'D19_DIGIT_SERV',\n",
       " 'D19_GARTEN',\n",
       " 'KBA13_KMH_0_140',\n",
       " 'WOHNDAUER_2008',\n",
       " 'D19_SOZIALES',\n",
       " 'KBA13_HERST_ASIEN',\n",
       " 'KBA13_OPEL',\n",
       " 'KBA13_GBZ',\n",
       " 'KBA05_KRSVAN',\n",
       " 'SEMIO_KULT',\n",
       " 'KBA13_HERST_AUDI_VW',\n",
       " 'KBA13_CCM_1600',\n",
       " 'KBA05_KRSOBER',\n",
       " 'KBA13_KW_121',\n",
       " 'D19_VERSI_DATUM',\n",
       " 'KBA05_MAXAH',\n",
       " 'KBA13_HALTER_30',\n",
       " 'KBA13_SEG_VAN',\n",
       " 'KBA05_ZUL1',\n",
       " 'GREEN_AVANTGARDE',\n",
       " 'KBA13_SEG_OBERKLASSE',\n",
       " 'KBA05_HERST2',\n",
       " 'D19_TELKO_OFFLINE_DATUM',\n",
       " 'KBA05_SEG8',\n",
       " 'VK_ZG11',\n",
       " 'GEMEINDETYP',\n",
       " 'KBA13_HALTER_40',\n",
       " 'UMFELD_ALT',\n",
       " 'KBA05_FRAU',\n",
       " 'KBA13_SEG_GELAENDEWAGEN',\n",
       " 'D19_LETZTER_KAUF_BRANCHE_D19_BANKEN_REST',\n",
       " 'KBA13_CCM_0_1400',\n",
       " 'KBA13_HERST_SONST',\n",
       " 'D19_LETZTER_KAUF_BRANCHE_D19_WEIN_FEINKOST',\n",
       " 'KBA05_HERST3',\n",
       " 'KBA05_ALTER2',\n",
       " 'KBA13_HALTER_66',\n",
       " 'CAMEO_DEUG_2015',\n",
       " 'KBA13_KW_30',\n",
       " 'KBA13_KW_70',\n",
       " 'KBA13_BJ_2006',\n",
       " 'D19_BANKEN_OFFLINE_DATUM',\n",
       " 'RT_SCHNAEPPCHEN',\n",
       " 'SEMIO_DOM',\n",
       " 'movement',\n",
       " 'KBA13_KMH_251',\n",
       " 'VERDICHTUNGSRAUM',\n",
       " 'D19_LETZTER_KAUF_BRANCHE_D19_VERSAND_REST',\n",
       " 'FINANZ_VORSORGER',\n",
       " 'KBA13_ALTERHALTER_60',\n",
       " 'SEMIO_RAT',\n",
       " 'SEMIO_FAM',\n",
       " 'D19_LETZTER_KAUF_BRANCHE_D19_KINDERARTIKEL',\n",
       " 'KBA05_MOD3',\n",
       " 'KBA13_BJ_2000',\n",
       " 'KBA13_KMH_210',\n",
       " 'KBA13_CCM_1000',\n",
       " 'MOBI_REGIO',\n",
       " 'CJT_KATALOGNUTZER',\n",
       " 'KBA13_KRSSEG_OBER',\n",
       " 'RT_KEIN_ANREIZ',\n",
       " 'KBA05_ANTG4',\n",
       " 'KBA05_MAXSEG',\n",
       " 'D19_BILDUNG',\n",
       " 'KBA13_KMH_140_210',\n",
       " 'FINANZ_HAUSBAUER',\n",
       " 'KBA13_KRSHERST_AUDI_VW',\n",
       " 'PLZ8_GBZ',\n",
       " 'ZABEOTYP',\n",
       " 'KBA13_MOTOR',\n",
       " 'D19_TELKO_ANZ_24',\n",
       " 'DSL_FLAG',\n",
       " 'KOMBIALTER',\n",
       " 'D19_TELKO_MOBILE',\n",
       " 'KBA13_CCM_3000',\n",
       " 'PLZ8_BAUMAX',\n",
       " 'KBA13_ALTERHALTER_30',\n",
       " 'KBA13_SITZE_5',\n",
       " 'KBA13_CCM_1400',\n",
       " 'SHOPPER_TYP',\n",
       " 'KBA05_KRSHERST2',\n",
       " 'KBA13_ANTG3',\n",
       " 'KBA05_MOD2',\n",
       " 'KBA05_ALTER4',\n",
       " 'EWDICHTE',\n",
       " 'D19_LETZTER_KAUF_BRANCHE_D19_FREIZEIT',\n",
       " 'D19_VOLLSORTIMENT',\n",
       " 'D19_VERSI_ANZ_12',\n",
       " 'OST_WEST_KZ_W',\n",
       " 'D19_SAMMELARTIKEL',\n",
       " 'KBA05_HERST1',\n",
       " 'wealth',\n",
       " 'D19_BANKEN_ANZ_12',\n",
       " 'VHA',\n",
       " 'D19_VERSAND_ANZ_12',\n",
       " 'KBA13_SEG_KLEINST',\n",
       " 'D19_HANDWERK',\n",
       " 'NATIONALITAET_KZ',\n",
       " 'PLZ8_ANTG1',\n",
       " 'D19_KONSUMTYP',\n",
       " 'D19_TELKO_REST',\n",
       " 'UMFELD_JUNG',\n",
       " 'D19_SCHUHE',\n",
       " 'KBA13_RENAULT',\n",
       " 'D19_GESAMT_ANZ_12',\n",
       " 'RT_UEBERGROESSE',\n",
       " 'CJT_TYP_1',\n",
       " 'KBA05_SEG3',\n",
       " 'KBA13_SEG_MITTELKLASSE',\n",
       " 'D19_VERSI_OFFLINE_DATUM',\n",
       " 'KBA13_HALTER_50',\n",
       " 'D19_TELKO_ANZ_12',\n",
       " 'D19_LETZTER_KAUF_BRANCHE_D19_DIGIT_SERV',\n",
       " 'KBA13_VW',\n",
       " 'KBA13_HALTER_45',\n",
       " 'KBA13_VORB_1_2',\n",
       " 'WOHNLAGE',\n",
       " 'KBA13_SEG_OBEREMITTELKLASSE',\n",
       " 'D19_LETZTER_KAUF_BRANCHE_D19_REISEN',\n",
       " 'KBA13_KRSZUL_NEU',\n",
       " 'CJT_GESAMTTYP',\n",
       " 'D19_LETZTER_KAUF_BRANCHE_D19_SAMMELARTIKEL',\n",
       " 'D19_SONSTIGE',\n",
       " 'KBA13_AUDI',\n",
       " 'SEMIO_KAEM',\n",
       " 'D19_GESAMT_ONLINE_DATUM',\n",
       " 'D19_BANKEN_DIREKT',\n",
       " 'KBA13_CCM_2000',\n",
       " 'SEMIO_TRADV',\n",
       " 'KBA13_HERST_EUROPA',\n",
       " 'FINANZ_MINIMALIST',\n",
       " 'CJT_TYP_5',\n",
       " 'KBA13_KW_60',\n",
       " 'KBA13_MAZDA',\n",
       " 'D19_VERSI_ONLINE_QUOTE_12',\n",
       " 'KBA05_CCM3',\n",
       " 'D19_LETZTER_KAUF_BRANCHE_D19_LEBENSMITTEL',\n",
       " 'ONLINE_AFFINITAET',\n",
       " 'D19_LETZTER_KAUF_BRANCHE_D19_SONSTIGE',\n",
       " 'KBA13_KW_40',\n",
       " 'VERS_TYP',\n",
       " 'D19_VERSAND_OFFLINE_DATUM',\n",
       " 'KBA05_HERST4',\n",
       " 'D19_VERSI_ANZ_24',\n",
       " 'KBA05_DIESEL',\n",
       " 'D19_LETZTER_KAUF_BRANCHE_D19_HAUS_DEKO',\n",
       " 'KBA13_KMH_180',\n",
       " 'CJT_TYP_4',\n",
       " 'OST_WEST_KZ_O',\n",
       " 'D19_VERSAND_ANZ_24',\n",
       " 'KBA05_ANTG3',\n",
       " 'D19_VERSAND_ONLINE_DATUM',\n",
       " 'D19_LETZTER_KAUF_BRANCHE_D19_BANKEN_DIREKT',\n",
       " 'KBA05_KRSHERST1',\n",
       " 'ALTERSKATEGORIE_FEIN',\n",
       " 'CJT_TYP_3',\n",
       " 'D19_VERSAND_DATUM',\n",
       " 'D19_LETZTER_KAUF_BRANCHE_D19_KOSMETIK',\n",
       " 'D19_LOTTO',\n",
       " 'KBA05_MOD1',\n",
       " 'D19_GESAMT_OFFLINE_DATUM',\n",
       " 'GEBAEUDETYP_RASTER',\n",
       " 'KBA13_SEG_GROSSRAUMVANS',\n",
       " 'VHN',\n",
       " 'D19_BIO_OEKO',\n",
       " 'GEBAEUDETYP',\n",
       " 'KBA05_HERST5',\n",
       " 'D19_LETZTER_KAUF_BRANCHE_D19_BANKEN_LOKAL',\n",
       " 'STRUKTURTYP',\n",
       " 'KBA05_KRSAQUOT',\n",
       " 'KBA13_BJ_2004',\n",
       " 'D19_LETZTER_KAUF_BRANCHE_D19_TELKO_REST',\n",
       " 'KBA05_MAXVORB',\n",
       " 'D19_NAHRUNGSERGAENZUNG',\n",
       " 'D19_BANKEN_REST',\n",
       " 'VK_DHT4A',\n",
       " 'GFK_URLAUBERTYP',\n",
       " 'KBA13_AUTOQUOTE',\n",
       " 'KBA05_AUTOQUOT',\n",
       " 'KBA13_PEUGEOT',\n",
       " 'KBA13_CCM_1500',\n",
       " 'D19_BANKEN_ONLINE_QUOTE_12',\n",
       " 'KBA05_CCM1',\n",
       " 'KBA13_HALTER_65',\n",
       " 'KBA13_KW_80',\n",
       " 'D19_LETZTER_KAUF_BRANCHE_D19_BANKEN_GROSS',\n",
       " 'D19_LETZTER_KAUF_BRANCHE_D19_BEKLEIDUNG_GEH',\n",
       " 'D19_BANKEN_ANZ_24',\n",
       " 'KBA05_MOD4',\n",
       " 'KBA13_KMH_250',\n",
       " 'CJT_TYP_6',\n",
       " 'SOHO_KZ',\n",
       " 'life_stage',\n",
       " 'KBA05_MOD8',\n",
       " 'KBA13_SEG_UTILITIES',\n",
       " 'KBA13_KMH_140',\n",
       " 'RETOURTYP_BK_S',\n",
       " 'KBA13_KRSSEG_KLEIN',\n",
       " 'KBA13_SITZE_4',\n",
       " 'KBA13_BAUMAX',\n",
       " 'KBA05_MAXHERST',\n",
       " 'SEMIO_KRIT',\n",
       " 'SEMIO_REL',\n",
       " 'KBA13_KRSHERST_FORD_OPEL',\n",
       " 'SEMIO_PFLICHT',\n",
       " 'PLZ8_ANTG3',\n",
       " 'D19_LETZTER_KAUF_BRANCHE_D19_BILDUNG',\n",
       " 'KBA13_KW_120',\n",
       " 'FIRMENDICHTE',\n",
       " 'KONSUMZELLE',\n",
       " 'KBA13_FAB_SONSTIGE',\n",
       " 'D19_BEKLEIDUNG_REST',\n",
       " 'D19_BANKEN_LOKAL',\n",
       " 'KBA05_VORB2',\n",
       " 'D19_KONSUMTYP_MAX',\n",
       " 'KBA05_SEG1',\n",
       " 'AKT_DAT_KL',\n",
       " 'KBA05_KW3',\n",
       " 'KBA13_KW_50',\n",
       " 'D19_GESAMT_ANZ_24',\n",
       " 'KBA13_ALTERHALTER_45',\n",
       " 'D19_LETZTER_KAUF_BRANCHE_D19_VOLLSORTIMENT',\n",
       " 'KBA05_SEG9',\n",
       " 'D19_LETZTER_KAUF_BRANCHE_D19_ENERGIE',\n",
       " 'KBA13_SEG_KOMPAKTKLASSE',\n",
       " 'KBA05_ANTG2',\n",
       " 'SEMIO_ERL',\n",
       " 'KBA13_SEG_MINIWAGEN',\n",
       " 'MOBI_RASTER',\n",
       " 'KBA13_KMH_110',\n",
       " 'D19_WEIN_FEINKOST',\n",
       " 'KBA13_HALTER_35',\n",
       " 'KBA13_VORB_3',\n",
       " 'KBA13_CCM_1401_2500',\n",
       " 'KBA13_SEG_KLEINWAGEN',\n",
       " 'ORTSGR_KLS9',\n",
       " 'D19_LETZTER_KAUF_BRANCHE_D19_LOTTO',\n",
       " 'D19_LETZTER_KAUF_BRANCHE_D19_DROGERIEARTIKEL',\n",
       " 'decade',\n",
       " 'CJT_TYP_2',\n",
       " 'KBA13_FORD',\n",
       " 'KBA13_VORB_1',\n",
       " 'KBA05_ALTER3',\n",
       " 'KBA13_BJ_2009',\n",
       " 'KBA05_ZUL3',\n",
       " 'KONSUMNAEHE',\n",
       " 'KBA05_ANHANG',\n",
       " 'ARBEIT',\n",
       " 'D19_REISEN',\n",
       " 'SEMIO_MAT',\n",
       " 'KBA05_MOTRAD',\n",
       " 'D19_LETZTER_KAUF_BRANCHE_D19_SCHUHE',\n",
       " 'D19_GESAMT_DATUM',\n",
       " 'D19_KOSMETIK',\n",
       " 'KBA05_HERSTTEMP',\n",
       " 'PLZ8_ANTG4',\n",
       " 'KBA13_BMW',\n",
       " 'KBA13_KW_110',\n",
       " 'LP_STATUS_GROB',\n",
       " 'KBA13_SITZE_6',\n",
       " 'KBA13_BJ_1999',\n",
       " 'KBA13_KRSSEG_VAN',\n",
       " 'PLZ8_ANTG2',\n",
       " 'KBA13_CCM_2500',\n",
       " 'KBA05_KW1',\n",
       " 'KBA13_KW_61_120',\n",
       " 'KBA05_VORB1',\n",
       " 'D19_TELKO_DATUM',\n",
       " 'D19_TELKO_ONLINE_DATUM']"
      ]
     },
     "execution_count": 27,
     "metadata": {},
     "output_type": "execute_result"
    }
   ],
   "source": [
    "categorical"
   ]
  },
  {
   "cell_type": "markdown",
   "metadata": {},
   "source": [
    "## Gradient Boost"
   ]
  },
  {
   "cell_type": "code",
   "execution_count": 35,
   "metadata": {},
   "outputs": [
    {
     "data": {
      "text/plain": [
       "{'criterion': 'friedman_mse',\n",
       " 'init': None,\n",
       " 'learning_rate': 0.1,\n",
       " 'loss': 'deviance',\n",
       " 'max_depth': 3,\n",
       " 'max_features': None,\n",
       " 'max_leaf_nodes': None,\n",
       " 'min_impurity_decrease': 0.0,\n",
       " 'min_impurity_split': None,\n",
       " 'min_samples_leaf': 1,\n",
       " 'min_samples_split': 2,\n",
       " 'min_weight_fraction_leaf': 0.0,\n",
       " 'n_estimators': 100,\n",
       " 'n_iter_no_change': None,\n",
       " 'presort': 'auto',\n",
       " 'random_state': None,\n",
       " 'subsample': 1.0,\n",
       " 'tol': 0.0001,\n",
       " 'validation_fraction': 0.1,\n",
       " 'verbose': 0,\n",
       " 'warm_start': False}"
      ]
     },
     "execution_count": 35,
     "metadata": {},
     "output_type": "execute_result"
    }
   ],
   "source": [
    "clf = GradientBoostingClassifier()\n",
    "clf.get_params()"
   ]
  },
  {
   "cell_type": "code",
   "execution_count": 36,
   "metadata": {},
   "outputs": [
    {
     "name": "stdout",
     "output_type": "stream",
     "text": [
      "Elapsed computation time: 8.178 mins\n"
     ]
    }
   ],
   "source": [
    "param_grid = {'learning_rate': [.001],\n",
    "              'max_depth': [5],\n",
    "              'random_state': [42]}\n",
    "\n",
    "start_time = time.time()\n",
    "\n",
    "grid = GridSearchCV(estimator=clf, param_grid=param_grid, scoring='roc_auc', cv=5, n_jobs = 3)\n",
    "grid.fit(X_processed, y)\n",
    "\n",
    "elapsed_time = (time.time() - start_time) / 60\n",
    "print('Elapsed computation time: {:.3f} mins'.format(elapsed_time))"
   ]
  },
  {
   "cell_type": "code",
   "execution_count": 37,
   "metadata": {},
   "outputs": [
    {
     "name": "stdout",
     "output_type": "stream",
     "text": [
      "0.7652208033331978\n",
      "GradientBoostingClassifier(criterion='friedman_mse', init=None,\n",
      "              learning_rate=0.001, loss='deviance', max_depth=5,\n",
      "              max_features=None, max_leaf_nodes=None,\n",
      "              min_impurity_decrease=0.0, min_impurity_split=None,\n",
      "              min_samples_leaf=1, min_samples_split=2,\n",
      "              min_weight_fraction_leaf=0.0, n_estimators=100,\n",
      "              n_iter_no_change=None, presort='auto', random_state=42,\n",
      "              subsample=1.0, tol=0.0001, validation_fraction=0.1,\n",
      "              verbose=0, warm_start=False)\n"
     ]
    }
   ],
   "source": [
    "print(grid.best_score_)\n",
    "print(grid.best_estimator_)"
   ]
  },
  {
   "cell_type": "markdown",
   "metadata": {},
   "source": [
    "0.7652356030850433<br>\n",
    "GradientBoostingClassifier(criterion='friedman_mse', init=None,\n",
    "              learning_rate=0.001, loss='deviance', max_depth=5,\n",
    "              max_features=None, max_leaf_nodes=None,\n",
    "              min_impurity_decrease=0.0, min_impurity_split=None,\n",
    "              min_samples_leaf=1, min_samples_split=2,\n",
    "              min_weight_fraction_leaf=0.0, n_estimators=100,\n",
    "              n_iter_no_change=None, presort='auto', random_state=42,\n",
    "              subsample=1.0, tol=0.0001, validation_fraction=0.1,\n",
    "              verbose=0, warm_start=False)"
   ]
  },
  {
   "cell_type": "code",
   "execution_count": 9,
   "metadata": {},
   "outputs": [],
   "source": [
    "pickle.dump(grid.best_estimator_, open('gb_model2.pkl', 'wb'))"
   ]
  },
  {
   "cell_type": "markdown",
   "metadata": {},
   "source": [
    "## AdaBoost"
   ]
  },
  {
   "cell_type": "code",
   "execution_count": 43,
   "metadata": {},
   "outputs": [
    {
     "data": {
      "text/plain": [
       "{'algorithm': 'SAMME.R',\n",
       " 'base_estimator__class_weight': None,\n",
       " 'base_estimator__criterion': 'gini',\n",
       " 'base_estimator__max_depth': None,\n",
       " 'base_estimator__max_features': None,\n",
       " 'base_estimator__max_leaf_nodes': None,\n",
       " 'base_estimator__min_impurity_decrease': 0.0,\n",
       " 'base_estimator__min_impurity_split': None,\n",
       " 'base_estimator__min_samples_leaf': 1,\n",
       " 'base_estimator__min_samples_split': 2,\n",
       " 'base_estimator__min_weight_fraction_leaf': 0.0,\n",
       " 'base_estimator__presort': False,\n",
       " 'base_estimator__random_state': None,\n",
       " 'base_estimator__splitter': 'best',\n",
       " 'base_estimator': DecisionTreeClassifier(class_weight=None, criterion='gini', max_depth=None,\n",
       "             max_features=None, max_leaf_nodes=None,\n",
       "             min_impurity_decrease=0.0, min_impurity_split=None,\n",
       "             min_samples_leaf=1, min_samples_split=2,\n",
       "             min_weight_fraction_leaf=0.0, presort=False, random_state=None,\n",
       "             splitter='best'),\n",
       " 'learning_rate': 1.0,\n",
       " 'n_estimators': 50,\n",
       " 'random_state': None}"
      ]
     },
     "execution_count": 43,
     "metadata": {},
     "output_type": "execute_result"
    }
   ],
   "source": [
    "clf = AdaBoostClassifier(DecisionTreeClassifier())\n",
    "clf.get_params()"
   ]
  },
  {
   "cell_type": "code",
   "execution_count": 67,
   "metadata": {},
   "outputs": [
    {
     "name": "stdout",
     "output_type": "stream",
     "text": [
      "Elapsed computation time: 2.643 mins\n"
     ]
    }
   ],
   "source": [
    "param_grid = {'learning_rate': [0.1],\n",
    "              'n_estimators':[50],\n",
    "              'random_state': [42],\n",
    "              'base_estimator__max_depth': [1, 3],\n",
    "              'base_estimator__max_features': [20, None]}\n",
    "\n",
    "start_time = time.time()\n",
    "\n",
    "ada = GridSearchCV(estimator=clf, param_grid=param_grid, scoring='roc_auc', cv=5, n_jobs = 3)\n",
    "ada_result =  ada.fit(X_processed, y)\n",
    "\n",
    "elapsed_time = (time.time() - start_time) / 60\n",
    "print('Elapsed computation time: {:.3f} mins'.format(elapsed_time))"
   ]
  },
  {
   "cell_type": "code",
   "execution_count": 68,
   "metadata": {},
   "outputs": [
    {
     "name": "stdout",
     "output_type": "stream",
     "text": [
      "0.7623794140401363\n",
      "AdaBoostClassifier(algorithm='SAMME.R',\n",
      "          base_estimator=DecisionTreeClassifier(class_weight=None, criterion='gini', max_depth=1,\n",
      "            max_features=None, max_leaf_nodes=None,\n",
      "            min_impurity_decrease=0.0, min_impurity_split=None,\n",
      "            min_samples_leaf=1, min_samples_split=2,\n",
      "            min_weight_fraction_leaf=0.0, presort=False, random_state=None,\n",
      "            splitter='best'),\n",
      "          learning_rate=0.1, n_estimators=50, random_state=42)\n"
     ]
    }
   ],
   "source": [
    "print(ada.best_score_)\n",
    "print(ada.best_estimator_)"
   ]
  },
  {
   "cell_type": "code",
   "execution_count": 72,
   "metadata": {},
   "outputs": [
    {
     "name": "stdout",
     "output_type": "stream",
     "text": [
      "0.749393 (0.018375) with: {'base_estimator__max_depth': 1, 'base_estimator__max_features': 20, 'learning_rate': 0.1, 'n_estimators': 50, 'random_state': 42}\n",
      "0.762379 (0.021894) with: {'base_estimator__max_depth': 1, 'base_estimator__max_features': None, 'learning_rate': 0.1, 'n_estimators': 50, 'random_state': 42}\n",
      "0.676391 (0.025307) with: {'base_estimator__max_depth': 3, 'base_estimator__max_features': 20, 'learning_rate': 0.1, 'n_estimators': 50, 'random_state': 42}\n",
      "0.688452 (0.016747) with: {'base_estimator__max_depth': 3, 'base_estimator__max_features': None, 'learning_rate': 0.1, 'n_estimators': 50, 'random_state': 42}\n"
     ]
    }
   ],
   "source": [
    "means = ada_result.cv_results_['mean_test_score']\n",
    "stds = ada_result.cv_results_['std_test_score']\n",
    "params = ada_result.cv_results_['params']\n",
    "for mean, stdev, param in zip(means, stds, params):\n",
    "    print(\"%f (%f) with: %r\" % (mean, stdev, param))"
   ]
  },
  {
   "cell_type": "code",
   "execution_count": 100,
   "metadata": {},
   "outputs": [],
   "source": [
    "pickle.dump(ada.best_estimator_, open('ada_model2.pkl', 'wb'))"
   ]
  },
  {
   "cell_type": "markdown",
   "metadata": {},
   "source": [
    "## LightGBM"
   ]
  },
  {
   "cell_type": "code",
   "execution_count": 8,
   "metadata": {},
   "outputs": [
    {
     "data": {
      "text/plain": [
       "{'boosting_type': 'gbdt',\n",
       " 'class_weight': None,\n",
       " 'colsample_bytree': 1.0,\n",
       " 'importance_type': 'split',\n",
       " 'learning_rate': 0.1,\n",
       " 'max_depth': -1,\n",
       " 'min_child_samples': 20,\n",
       " 'min_child_weight': 0.001,\n",
       " 'min_split_gain': 0.0,\n",
       " 'n_estimators': 100,\n",
       " 'n_jobs': -1,\n",
       " 'num_leaves': 31,\n",
       " 'objective': 'binary',\n",
       " 'random_state': None,\n",
       " 'reg_alpha': 0.0,\n",
       " 'reg_lambda': 0.0,\n",
       " 'silent': True,\n",
       " 'subsample': 1.0,\n",
       " 'subsample_for_bin': 200000,\n",
       " 'subsample_freq': 0,\n",
       " 'metric': 'auc'}"
      ]
     },
     "execution_count": 8,
     "metadata": {},
     "output_type": "execute_result"
    }
   ],
   "source": [
    "lgbm_clf = lgb.LGBMClassifier(objective='binary', metric='auc')\n",
    "lgbm_clf.get_params()"
   ]
  },
  {
   "cell_type": "code",
   "execution_count": 9,
   "metadata": {},
   "outputs": [
    {
     "name": "stderr",
     "output_type": "stream",
     "text": [
      "C:\\Users\\Mei\\Anaconda3\\lib\\site-packages\\lightgbm\\engine.py:116: UserWarning: Found `num_iterations` in params. Will use it instead of argument\n",
      "  warnings.warn(\"Found `{}` in params. Will use it instead of argument\".format(alias))\n",
      "C:\\Users\\Mei\\Anaconda3\\lib\\site-packages\\lightgbm\\engine.py:116: UserWarning: Found `num_iterations` in params. Will use it instead of argument\n",
      "  warnings.warn(\"Found `{}` in params. Will use it instead of argument\".format(alias))\n",
      "C:\\Users\\Mei\\Anaconda3\\lib\\site-packages\\lightgbm\\engine.py:116: UserWarning: Found `num_iterations` in params. Will use it instead of argument\n",
      "  warnings.warn(\"Found `{}` in params. Will use it instead of argument\".format(alias))\n",
      "C:\\Users\\Mei\\Anaconda3\\lib\\site-packages\\lightgbm\\engine.py:116: UserWarning: Found `num_iterations` in params. Will use it instead of argument\n",
      "  warnings.warn(\"Found `{}` in params. Will use it instead of argument\".format(alias))\n",
      "C:\\Users\\Mei\\Anaconda3\\lib\\site-packages\\lightgbm\\engine.py:116: UserWarning: Found `num_iterations` in params. Will use it instead of argument\n",
      "  warnings.warn(\"Found `{}` in params. Will use it instead of argument\".format(alias))\n",
      "C:\\Users\\Mei\\Anaconda3\\lib\\site-packages\\lightgbm\\engine.py:116: UserWarning: Found `num_iterations` in params. Will use it instead of argument\n",
      "  warnings.warn(\"Found `{}` in params. Will use it instead of argument\".format(alias))\n",
      "C:\\Users\\Mei\\Anaconda3\\lib\\site-packages\\lightgbm\\engine.py:116: UserWarning: Found `num_iterations` in params. Will use it instead of argument\n",
      "  warnings.warn(\"Found `{}` in params. Will use it instead of argument\".format(alias))\n",
      "C:\\Users\\Mei\\Anaconda3\\lib\\site-packages\\lightgbm\\engine.py:116: UserWarning: Found `num_iterations` in params. Will use it instead of argument\n",
      "  warnings.warn(\"Found `{}` in params. Will use it instead of argument\".format(alias))\n",
      "C:\\Users\\Mei\\Anaconda3\\lib\\site-packages\\lightgbm\\engine.py:116: UserWarning: Found `num_iterations` in params. Will use it instead of argument\n",
      "  warnings.warn(\"Found `{}` in params. Will use it instead of argument\".format(alias))\n",
      "C:\\Users\\Mei\\Anaconda3\\lib\\site-packages\\lightgbm\\engine.py:116: UserWarning: Found `num_iterations` in params. Will use it instead of argument\n",
      "  warnings.warn(\"Found `{}` in params. Will use it instead of argument\".format(alias))\n",
      "C:\\Users\\Mei\\Anaconda3\\lib\\site-packages\\lightgbm\\engine.py:116: UserWarning: Found `num_iterations` in params. Will use it instead of argument\n",
      "  warnings.warn(\"Found `{}` in params. Will use it instead of argument\".format(alias))\n"
     ]
    },
    {
     "name": "stdout",
     "output_type": "stream",
     "text": [
      "Elapsed computation time: 1.132 mins\n"
     ]
    }
   ],
   "source": [
    "param_grid = {'learning_rate': [0.01],\n",
    "              'num_iterations': [200],\n",
    "              'boosting_type': ['gbdt','dart'],\n",
    "              'num_leaves': [62],\n",
    "              'random_state': [42]}\n",
    "\n",
    "start_time = time.time()\n",
    "\n",
    "lgbm = GridSearchCV(estimator=lgbm_clf, param_grid=param_grid, scoring='roc_auc', cv=5)\n",
    "lgbm_result = lgbm.fit(X_processed, y)\n",
    "\n",
    "elapsed_time = (time.time() - start_time) / 60\n",
    "print('Elapsed computation time: {:.3f} mins'.format(elapsed_time))"
   ]
  },
  {
   "cell_type": "code",
   "execution_count": 10,
   "metadata": {
    "scrolled": true
   },
   "outputs": [
    {
     "name": "stdout",
     "output_type": "stream",
     "text": [
      "0.7606109938212254\n",
      "LGBMClassifier(boosting_type='dart', class_weight=None, colsample_bytree=1.0,\n",
      "        importance_type='split', learning_rate=0.01, max_depth=-1,\n",
      "        metric='auc', min_child_samples=20, min_child_weight=0.001,\n",
      "        min_split_gain=0.0, n_estimators=100, n_jobs=-1,\n",
      "        num_iterations=200, num_leaves=62, objective='binary',\n",
      "        random_state=42, reg_alpha=0.0, reg_lambda=0.0, silent=True,\n",
      "        subsample=1.0, subsample_for_bin=200000, subsample_freq=0)\n"
     ]
    }
   ],
   "source": [
    "print(lgbm.best_score_)\n",
    "print(lgbm.best_estimator_)"
   ]
  },
  {
   "cell_type": "code",
   "execution_count": 11,
   "metadata": {},
   "outputs": [
    {
     "name": "stdout",
     "output_type": "stream",
     "text": [
      "0.753380 (0.024960) with: {'boosting_type': 'gbdt', 'learning_rate': 0.01, 'num_iterations': 200, 'num_leaves': 62, 'random_state': 42}\n",
      "0.760611 (0.023063) with: {'boosting_type': 'dart', 'learning_rate': 0.01, 'num_iterations': 200, 'num_leaves': 62, 'random_state': 42}\n"
     ]
    }
   ],
   "source": [
    "means = lgbm_result.cv_results_['mean_test_score']\n",
    "stds = lgbm_result.cv_results_['std_test_score']\n",
    "params = lgbm_result.cv_results_['params']\n",
    "for mean, stdev, param in zip(means, stds, params):\n",
    "    print(\"%f (%f) with: %r\" % (mean, stdev, param))"
   ]
  },
  {
   "cell_type": "code",
   "execution_count": 12,
   "metadata": {},
   "outputs": [],
   "source": [
    "pickle.dump(lgbm.best_estimator_, open('lgbm_model3.pkl', 'wb'))"
   ]
  },
  {
   "cell_type": "markdown",
   "metadata": {},
   "source": [
    "## Predict"
   ]
  },
  {
   "cell_type": "code",
   "execution_count": 10,
   "metadata": {},
   "outputs": [],
   "source": [
    "def make_submission(model, test, lnr):\n",
    "    preds = model.predict_proba(test)\n",
    "    submission = pd.DataFrame({'LNR':lnr, 'RESPONSE':preds[:,0]})\n",
    "    return submission"
   ]
  },
  {
   "cell_type": "code",
   "execution_count": 11,
   "metadata": {},
   "outputs": [
    {
     "name": "stdout",
     "output_type": "stream",
     "text": [
      "(42833, 382)\n"
     ]
    }
   ],
   "source": [
    "mailout_test_clean = pd.read_csv('../data/Udacity_MAILOUT_052018_TEST_clean.csv', sep=';')\n",
    "print(mailout_test_clean.shape)\n",
    "lnr = mailout_test_clean.LNR\n",
    "mailout_test_clean.drop(['LNR'], axis=1, inplace=True)"
   ]
  },
  {
   "cell_type": "code",
   "execution_count": 12,
   "metadata": {},
   "outputs": [],
   "source": [
    "# Preprocess\n",
    "test_processed = preprocessor.transform(mailout_test_clean)"
   ]
  },
  {
   "cell_type": "code",
   "execution_count": 13,
   "metadata": {},
   "outputs": [
    {
     "data": {
      "text/html": [
       "<div>\n",
       "<style scoped>\n",
       "    .dataframe tbody tr th:only-of-type {\n",
       "        vertical-align: middle;\n",
       "    }\n",
       "\n",
       "    .dataframe tbody tr th {\n",
       "        vertical-align: top;\n",
       "    }\n",
       "\n",
       "    .dataframe thead th {\n",
       "        text-align: right;\n",
       "    }\n",
       "</style>\n",
       "<table border=\"1\" class=\"dataframe\">\n",
       "  <thead>\n",
       "    <tr style=\"text-align: right;\">\n",
       "      <th></th>\n",
       "      <th>LNR</th>\n",
       "      <th>RESPONSE</th>\n",
       "    </tr>\n",
       "  </thead>\n",
       "  <tbody>\n",
       "    <tr>\n",
       "      <th>0</th>\n",
       "      <td>1754</td>\n",
       "      <td>0.985616</td>\n",
       "    </tr>\n",
       "    <tr>\n",
       "      <th>1</th>\n",
       "      <td>1770</td>\n",
       "      <td>0.985616</td>\n",
       "    </tr>\n",
       "    <tr>\n",
       "      <th>2</th>\n",
       "      <td>1465</td>\n",
       "      <td>0.988564</td>\n",
       "    </tr>\n",
       "    <tr>\n",
       "      <th>3</th>\n",
       "      <td>1470</td>\n",
       "      <td>0.988564</td>\n",
       "    </tr>\n",
       "    <tr>\n",
       "      <th>4</th>\n",
       "      <td>1478</td>\n",
       "      <td>0.988564</td>\n",
       "    </tr>\n",
       "  </tbody>\n",
       "</table>\n",
       "</div>"
      ],
      "text/plain": [
       "    LNR  RESPONSE\n",
       "0  1754  0.985616\n",
       "1  1770  0.985616\n",
       "2  1465  0.988564\n",
       "3  1470  0.988564\n",
       "4  1478  0.988564"
      ]
     },
     "execution_count": 13,
     "metadata": {},
     "output_type": "execute_result"
    }
   ],
   "source": [
    "# Gradient Boost\n",
    "gb_model = joblib.load('gb_model2.pkl')\n",
    "preds = gb_model.predict_proba(test_processed)\n",
    "submission = pd.DataFrame({'LNR':lnr, 'RESPONSE':preds[:,0]})\n",
    "submission.to_csv('gb_preds.csv', index=False)\n",
    "submission.head()"
   ]
  },
  {
   "cell_type": "code",
   "execution_count": 103,
   "metadata": {},
   "outputs": [
    {
     "data": {
      "text/html": [
       "<div>\n",
       "<style scoped>\n",
       "    .dataframe tbody tr th:only-of-type {\n",
       "        vertical-align: middle;\n",
       "    }\n",
       "\n",
       "    .dataframe tbody tr th {\n",
       "        vertical-align: top;\n",
       "    }\n",
       "\n",
       "    .dataframe thead th {\n",
       "        text-align: right;\n",
       "    }\n",
       "</style>\n",
       "<table border=\"1\" class=\"dataframe\">\n",
       "  <thead>\n",
       "    <tr style=\"text-align: right;\">\n",
       "      <th></th>\n",
       "      <th>LNR</th>\n",
       "      <th>RESPONSE</th>\n",
       "    </tr>\n",
       "  </thead>\n",
       "  <tbody>\n",
       "    <tr>\n",
       "      <th>0</th>\n",
       "      <td>1754</td>\n",
       "      <td>0.676132</td>\n",
       "    </tr>\n",
       "    <tr>\n",
       "      <th>1</th>\n",
       "      <td>1770</td>\n",
       "      <td>0.671170</td>\n",
       "    </tr>\n",
       "    <tr>\n",
       "      <th>2</th>\n",
       "      <td>1465</td>\n",
       "      <td>0.756437</td>\n",
       "    </tr>\n",
       "    <tr>\n",
       "      <th>3</th>\n",
       "      <td>1470</td>\n",
       "      <td>0.755163</td>\n",
       "    </tr>\n",
       "    <tr>\n",
       "      <th>4</th>\n",
       "      <td>1478</td>\n",
       "      <td>0.739913</td>\n",
       "    </tr>\n",
       "  </tbody>\n",
       "</table>\n",
       "</div>"
      ],
      "text/plain": [
       "    LNR  RESPONSE\n",
       "0  1754  0.676132\n",
       "1  1770  0.671170\n",
       "2  1465  0.756437\n",
       "3  1470  0.755163\n",
       "4  1478  0.739913"
      ]
     },
     "execution_count": 103,
     "metadata": {},
     "output_type": "execute_result"
    }
   ],
   "source": [
    "# AdaBoost\n",
    "ada_model = joblib.load('ada_model2.pkl')\n",
    "submission = make_submission(ada_model, test_processed, lnr)\n",
    "submission.to_csv('ada_preds.csv', index=False)\n",
    "submission.head()"
   ]
  },
  {
   "cell_type": "code",
   "execution_count": 102,
   "metadata": {},
   "outputs": [
    {
     "data": {
      "text/html": [
       "<div>\n",
       "<style scoped>\n",
       "    .dataframe tbody tr th:only-of-type {\n",
       "        vertical-align: middle;\n",
       "    }\n",
       "\n",
       "    .dataframe tbody tr th {\n",
       "        vertical-align: top;\n",
       "    }\n",
       "\n",
       "    .dataframe thead th {\n",
       "        text-align: right;\n",
       "    }\n",
       "</style>\n",
       "<table border=\"1\" class=\"dataframe\">\n",
       "  <thead>\n",
       "    <tr style=\"text-align: right;\">\n",
       "      <th></th>\n",
       "      <th>LNR</th>\n",
       "      <th>RESPONSE</th>\n",
       "    </tr>\n",
       "  </thead>\n",
       "  <tbody>\n",
       "    <tr>\n",
       "      <th>0</th>\n",
       "      <td>1754</td>\n",
       "      <td>0.830443</td>\n",
       "    </tr>\n",
       "    <tr>\n",
       "      <th>1</th>\n",
       "      <td>1770</td>\n",
       "      <td>0.829284</td>\n",
       "    </tr>\n",
       "    <tr>\n",
       "      <th>2</th>\n",
       "      <td>1465</td>\n",
       "      <td>0.848009</td>\n",
       "    </tr>\n",
       "    <tr>\n",
       "      <th>3</th>\n",
       "      <td>1470</td>\n",
       "      <td>0.848010</td>\n",
       "    </tr>\n",
       "    <tr>\n",
       "      <th>4</th>\n",
       "      <td>1478</td>\n",
       "      <td>0.848019</td>\n",
       "    </tr>\n",
       "  </tbody>\n",
       "</table>\n",
       "</div>"
      ],
      "text/plain": [
       "    LNR  RESPONSE\n",
       "0  1754  0.830443\n",
       "1  1770  0.829284\n",
       "2  1465  0.848009\n",
       "3  1470  0.848010\n",
       "4  1478  0.848019"
      ]
     },
     "execution_count": 102,
     "metadata": {},
     "output_type": "execute_result"
    }
   ],
   "source": [
    "# LightGBM\n",
    "lgbm_model = joblib.load('lgbm_model2.pkl')\n",
    "submission = make_submission(lgbm_model, test_processed, lnr)\n",
    "submission.to_csv('lgbm_preds.csv', index=False)\n",
    "submission.head()"
   ]
  },
  {
   "cell_type": "markdown",
   "metadata": {},
   "source": [
    "## Analysis"
   ]
  },
  {
   "cell_type": "code",
   "execution_count": null,
   "metadata": {},
   "outputs": [],
   "source": [
    "gb_model = joblib.load('gb_model2.pkl')\n",
    "ada_model = joblib.load('ada_model2.pkl')"
   ]
  },
  {
   "cell_type": "code",
   "execution_count": 13,
   "metadata": {},
   "outputs": [],
   "source": [
    "lgbm_model = joblib.load('lgbm_model3.pkl')"
   ]
  },
  {
   "cell_type": "code",
   "execution_count": 20,
   "metadata": {},
   "outputs": [
    {
     "data": {
      "text/plain": [
       "array([-0.31186293,  0.57800226,  1.02293486, -0.31186293, -0.31186293])"
      ]
     },
     "execution_count": 20,
     "metadata": {},
     "output_type": "execute_result"
    }
   ],
   "source": [
    "X_processed[:5,1]"
   ]
  },
  {
   "cell_type": "code",
   "execution_count": 52,
   "metadata": {},
   "outputs": [
    {
     "data": {
      "text/plain": [
       "0     8.0\n",
       "1    13.0\n",
       "2     7.0\n",
       "3     6.0\n",
       "4     9.0\n",
       "Name: ALTERSKATEGORIE_FEIN, dtype: float64"
      ]
     },
     "execution_count": 52,
     "metadata": {},
     "output_type": "execute_result"
    }
   ],
   "source": [
    "X.iloc[:5,1]"
   ]
  },
  {
   "cell_type": "code",
   "execution_count": 110,
   "metadata": {},
   "outputs": [
    {
     "data": {
      "text/plain": [
       "KBA13_SEG_KOMPAKTKLASSE                    0.328968\n",
       "D19_VERSI_ANZ_24                           0.154578\n",
       "KBA13_HALTER_40                            0.065664\n",
       "KBA05_KRSHERST2                            0.064478\n",
       "D19_LETZTER_KAUF_BRANCHE_D19_TELKO_REST    0.062878\n",
       "dtype: float64"
      ]
     },
     "execution_count": 110,
     "metadata": {},
     "output_type": "execute_result"
    }
   ],
   "source": [
    "pd.Series(gb_model.feature_importances_, index=X.columns).sort_values(ascending=False).head()"
   ]
  },
  {
   "cell_type": "code",
   "execution_count": 107,
   "metadata": {},
   "outputs": [
    {
     "data": {
      "text/plain": [
       "KBA13_SEG_KOMPAKTKLASSE    0.70\n",
       "D19_VERSI_ANZ_24           0.14\n",
       "KBA13_KRSSEG_OBER          0.04\n",
       "KBA05_KW3                  0.04\n",
       "KBA13_CCM_3000             0.04\n",
       "dtype: float64"
      ]
     },
     "execution_count": 107,
     "metadata": {},
     "output_type": "execute_result"
    }
   ],
   "source": [
    "pd.Series(ada_model.feature_importances_, index=X.columns).sort_values(ascending=False).head()"
   ]
  },
  {
   "cell_type": "code",
   "execution_count": 14,
   "metadata": {},
   "outputs": [
    {
     "data": {
      "text/plain": [
       "KBA05_CCM2             397\n",
       "ANZ_HAUSHALTE_AKTIV    236\n",
       "GFK_URLAUBERTYP        195\n",
       "UMFELD_JUNG            192\n",
       "KBA05_MOD3             182\n",
       "dtype: int32"
      ]
     },
     "execution_count": 14,
     "metadata": {},
     "output_type": "execute_result"
    }
   ],
   "source": [
    "pd.Series(lgbm_model.feature_importances_, index=X.columns).sort_values(ascending=False).head()"
   ]
  },
  {
   "cell_type": "code",
   "execution_count": 49,
   "metadata": {
    "scrolled": true
   },
   "outputs": [
    {
     "data": {
      "image/png": "[encoded data removed]",
      "text/plain": [
       "<Figure size 432x288 with 1 Axes>"
      ]
     },
     "metadata": {
      "needs_background": "light"
     },
     "output_type": "display_data"
    }
   ],
   "source": [
    "totals = mailout_train_clean.groupby('RESPONSE').KBA05_CCM2.count()\n",
    "counts = mailout_train_clean.groupby('RESPONSE').KBA05_CCM2.value_counts()\n",
    "(counts/totals).unstack(level=0).plot.bar();"
   ]
  },
  {
   "cell_type": "code",
   "execution_count": 29,
   "metadata": {},
   "outputs": [
    {
     "data": {
      "image/png": "[encoded data removed]",
      "text/plain": [
       "<Figure size 432x288 with 1 Axes>"
      ]
     },
     "metadata": {
      "needs_background": "light"
     },
     "output_type": "display_data"
    }
   ],
   "source": [
    "mailout_train_clean.groupby('RESPONSE').KBA05_CCM2.value_counts().unstack(level=0).plot.bar();"
   ]
  },
  {
   "attachments": {},
   "cell_type": "markdown",
   "metadata": {},
   "source": [
    "KBA13_SEG_KOMPAKTKLASSE is share of low midclass cars (Ford Focus etc.) in the PLZ8 (zip code); 0=None, 5=very high"
   ]
  }
 ],
 "metadata": {
  "kernelspec": {
   "display_name": "Python 3",
   "language": "python",
   "name": "python3"
  },
  "language_info": {
   "codemirror_mode": {
    "name": "ipython",
    "version": 3
   },
   "file_extension": ".py",
   "mimetype": "text/x-python",
   "name": "python",
   "nbconvert_exporter": "python",
   "pygments_lexer": "ipython3",
   "version": "3.6.8"
  }
 },
 "nbformat": 4,
 "nbformat_minor": 2
}
